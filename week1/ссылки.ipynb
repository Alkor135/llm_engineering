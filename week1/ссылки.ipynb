{
 "cells": [
  {
   "cell_type": "code",
   "execution_count": null,
   "id": "be76c0e9-9fcb-45f9-8a7f-cf48636ff573",
   "metadata": {},
   "outputs": [],
   "source": [
    "# pip install firecrawl-py\n",
    "\n",
    "from firecrawl import FirecrawlApp\n",
    "\n",
    "fire = FirecrawlApp(api_key=os.getenv(\"FIRECRAWL_API_KEY\"))\n",
    "\n",
    "url = \"https://docs.firecrawl.dev/\"\n",
    "\n",
    "# Get all links from the website\n",
    "all_links = fire.map_url(url).get('links')[1:]\n",
    "\n",
    "all_links"
   ]
  }
 ],
 "metadata": {
  "kernelspec": {
   "display_name": "Python 3 (ipykernel)",
   "language": "python",
   "name": "python3"
  },
  "language_info": {
   "codemirror_mode": {
    "name": "ipython",
    "version": 3
   },
   "file_extension": ".py",
   "mimetype": "text/x-python",
   "name": "python",
   "nbconvert_exporter": "python",
   "pygments_lexer": "ipython3",
   "version": "3.11.13"
  }
 },
 "nbformat": 4,
 "nbformat_minor": 5
}
