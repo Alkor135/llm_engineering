{
 "cells": [
  {
   "cell_type": "markdown",
   "id": "fe12c203-e6a6-452c-a655-afb8a03a4ff5",
   "metadata": {},
   "source": [
    "# End of week 1 exercise\n",
    "\n",
    "To demonstrate your familiarity with OpenAI API, and also Ollama, build a tool that takes a technical question,  \n",
    "and responds with an explanation. This is a tool that you will be able to use yourself during the course!"
   ]
  },
  {
   "cell_type": "code",
   "execution_count": 6,
   "id": "c1070317-3ed9-4659-abe3-828943230e03",
   "metadata": {},
   "outputs": [],
   "source": [
    "# imports\n",
    "from openai import OpenAI\n",
    "from IPython.display import Markdown, display, update_display"
   ]
  },
  {
   "cell_type": "code",
   "execution_count": 7,
   "id": "4a456906-915a-4bfd-bb9d-57e505c5093f",
   "metadata": {},
   "outputs": [],
   "source": [
    "# constants\n",
    "\n",
    "MODEL_GPT = 'gpt-4o-mini'\n",
    "MODEL_LLAMA = 'llama3.2'\n",
    "MODEL_GEMMA = 'google/gemma-3-12b'"
   ]
  },
  {
   "cell_type": "code",
   "execution_count": 8,
   "id": "a8d7923c-5f28-4c30-8556-342d7c8497c1",
   "metadata": {},
   "outputs": [],
   "source": [
    "# set up environment"
   ]
  },
  {
   "cell_type": "code",
   "execution_count": 9,
   "id": "3f0d0137-52b0-47a8-81a8-11a90a010798",
   "metadata": {},
   "outputs": [],
   "source": [
    "# here is the question; type over this to ask something new\n",
    "\n",
    "question = \"\"\"\n",
    "Пожалуйста, объясните, что делает этот код и почему:\n",
    "yield from {book.get(\"author\") for book in books if book.get(\"author\")}\n",
    "\"\"\""
   ]
  },
  {
   "cell_type": "code",
   "execution_count": null,
   "id": "60ce7000-a4a5-4cce-a261-e75ef45063b4",
   "metadata": {},
   "outputs": [
    {
     "data": {
      "text/markdown": [
       "Этот код использует генераторное выражение с `yield from` для извлечения авторов из списка книг, но только тех, у которых есть информация об авторе. Давайте разберем его по частям:\n",
       "\n",
       "**1. `books`:**\n",
       "\n",
       "Предполагается, что `books` - это список словарей (или другой итерируемый объект), где каждый словарь представляет книгу.  Каждый словарь книги содержит ключи и значения, описывающие эту книгу.\n",
       "\n",
       "**2. `book.get(\"author\")`:**\n",
       "\n",
       "*   `book`: Это переменная, представляющая текущую книгу в списке `books`, которую обрабатывает цикл.\n",
       "*   `.get(\"author\")`: Этот метод словаря пытается получить значение по ключу \"author\".  Важно отметить, что `.get()` - это безопасный способ доступа к ключам словаря. Если ключ \"author\" отсутствует в словаре `book`, он вернет `None` (или другое указанное значение по умолчанию, если оно предоставлено как второй аргумент для `.get()`). Это предотвращает ошибку `KeyError`.\n",
       "\n",
       "**3. `for book in books if book.get(\"author\")`:**\n",
       "\n",
       "Это генераторное выражение с фильтрацией.  Оно итерируется по списку `books`, но пропускает только те книги, у которых есть ключ \"author\" (т.е., `book.get(\"author\")` не возвращает `None`).  Условие `if book.get(\"author\")` проверяет, что значение, возвращаемое `book.get(\"author\")`, является истинным (не `None`, пустая строка, 0 и т.д.).\n",
       "\n",
       "**4. `{... for ... if ...}`:**\n",
       "\n",
       "Это синтаксис генераторного выражения.  Он создает итератор, который генерирует значения по требованию. В данном случае он генерирует авторов для книг, у которых есть информация об авторе.\n",
       "\n",
       "**5. `yield from`:**\n",
       "\n",
       "*   `yield`: Это ключевое слово, которое делает функцию (или генераторное выражение) генератором. Генераторы позволяют создавать итераторы, которые выдают значения по одному, не храня все результаты в памяти сразу.\n",
       "*   `from`:  Ключевое слово `yield from` используется для \"делегирования\" генерации другому итератору. В данном случае, оно делегирует генерацию авторов из генераторного выражения `{book.get(\"author\") for book in books if book.get(\"author\")}` вызывающему коду.  Это означает, что `yield from` эффективно передает все значения, генерируемые внутренним генератором, как если бы они были сгенерированы непосредственно внешним генератором.\n",
       "\n",
       "**В итоге:**\n",
       "\n",
       "Этот код создает генератор, который выдает имена авторов из списка книг, но только для тех книг, у которых есть информация об авторе.  Он делает это эффективно, не храня все имена авторов в памяти одновременно.\n",
       "\n",
       "**Почему используется `yield from`?**\n",
       "\n",
       "Использование `yield from` имеет несколько преимуществ:\n",
       "\n",
       "*   **Эффективность:**  Вместо того чтобы собирать все имена авторов в список и затем выдавать их по одному, `yield from` позволяет выдавать значения непосредственно из внутреннего генератора. Это экономит память, особенно если список книг очень большой.\n",
       "*   **Простота:**  `yield from` делает код более читаемым и понятным, поскольку он явно показывает, что мы делегируем генерацию другому итератору.\n",
       "\n",
       "**Пример:**\n",
       "\n",
       "Предположим, `books = [ {\"title\": \"Книга 1\", \"author\": \"Толстой\"}, {\"title\": \"Книга 2\"}, {\"title\": \"Книга 3\", \"author\": \"Достоевский\"} ]`\n",
       "\n",
       "Когда вы итерируетесь по результату этого кода:\n",
       "\n",
       "*   Первая книга имеет автора \"Толстой\". `yield from` выдаст \"Толстой\".\n",
       "*   Вторая книга не имеет автора. Она будет пропущена из-за условия `if book.get(\"author\")`.\n",
       "*   Третья книга имеет автора \"Достоевский\".  `yield from` выдаст \"Достоевский\".\n",
       "\n",
       "Таким образом, код вернет итератор, который последовательно выдает значения \"Толстой\" и \"Достоевский\".\n",
       "\n",
       "**В заключение:** Этот код представляет собой компактный и эффективный способ извлечения данных из списка словарей с использованием генераторов и `yield from`. Он демонстрирует хорошие практики программирования на Python, такие как использование `.get()` для безопасного доступа к ключам словаря и использование генераторных выражений для создания итераторов.\n"
      ],
      "text/plain": [
       "<IPython.core.display.Markdown object>"
      ]
     },
     "metadata": {},
     "output_type": "display_data"
    }
   ],
   "source": [
    "# # Get gemma-3-12b to answer\n",
    "# gemma = OpenAI(base_url='http://localhost:1234/v1', api_key='google/gemma-3-12b')\n",
    "# response = gemma.chat.completions.create(\n",
    "#     model=MODEL_GEMMA,\n",
    "#     messages=[{\"role\": \"user\", \"content\": question}],\n",
    "# )\n",
    "\n",
    "# display(Markdown(response.choices[0].message.content))\n",
    "\n",
    "# Get gemma-3-12b to answer, with streaming\n",
    "gemma = OpenAI(base_url='http://localhost:1234/v1', api_key='google/gemma-3-12b')\n",
    "stream = gemma.chat.completions.create(\n",
    "    model=MODEL_GEMMA,\n",
    "    messages=[\n",
    "        {\"role\": \"user\", \"content\": question}\n",
    "        ],\n",
    "    stream=True\n",
    ")\n",
    "\n",
    "response = \"\"\n",
    "display_handle = display(Markdown(\"\"), display_id=True)\n",
    "for chunk in stream:\n",
    "    response += chunk.choices[0].delta.content or ''\n",
    "    response = response.replace(\"```\",\"\").replace(\"markdown\", \"\")\n",
    "    update_display(Markdown(response), display_id=display_handle.display_id)"
   ]
  },
  {
   "cell_type": "code",
   "execution_count": 11,
   "id": "8f7c8ea8-4082-4ad0-8751-3301adcf6538",
   "metadata": {},
   "outputs": [
    {
     "data": {
      "text/markdown": [
       "Этот код utiliza функцию `yield from` из Python 3.x для генерации последовательности значений из других генераторов.\n",
       "\n",
       "В данном случае мы имеем дело с фрагментом хукера на example.com за исключением определенных book в \"пустом\" книгах. Это будет иметь в виду, сколько и какие книги на простой книге: \n",
       "\n",
       "`yield from {book.get(\"author\") for book in books if not book or book.get('in_book', False)}`\n",
       "\n",
       "Чтобы это Understanding было более четко, давайте разобъясним его составные части:\n",
       "\n",
       "- `books`: Это генератор или массив книг, из которых нам нужны данные.\n",
       "  \n",
       "  - `yield from [ ... ]` — это функция для генерации последовательности значений из других génераторов. В данном случае она означает получить последовательность значений книги по ключ «author» для всех книг.\n",
       "\n",
       "- `{book.get(\"author\") for book in books if book.get(\"author\")}` это генератор последовательности книг, где значения из ключа \"author\" представлены значениями в словаре book.\n",
       "- `yield from` означает: если эта функция не может сжать заданный генератор или генератор уже сжат."
      ],
      "text/plain": [
       "<IPython.core.display.Markdown object>"
      ]
     },
     "metadata": {},
     "output_type": "display_data"
    }
   ],
   "source": [
    "# Get Llama 3.2 to answer\n",
    "llama = OpenAI(base_url='http://localhost:11434/v1', api_key='ollama')\n",
    "response = llama.chat.completions.create(\n",
    "    model=MODEL_LLAMA,\n",
    "    messages=[{\"role\": \"user\", \"content\": question}],\n",
    ")\n",
    "\n",
    "display(Markdown(response.choices[0].message.content))"
   ]
  }
 ],
 "metadata": {
  "kernelspec": {
   "display_name": "llms",
   "language": "python",
   "name": "python3"
  },
  "language_info": {
   "codemirror_mode": {
    "name": "ipython",
    "version": 3
   },
   "file_extension": ".py",
   "mimetype": "text/x-python",
   "name": "python",
   "nbconvert_exporter": "python",
   "pygments_lexer": "ipython3",
   "version": "3.11.13"
  }
 },
 "nbformat": 4,
 "nbformat_minor": 5
}
