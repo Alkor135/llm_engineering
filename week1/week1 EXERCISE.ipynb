{
 "cells": [
  {
   "cell_type": "markdown",
   "id": "fe12c203-e6a6-452c-a655-afb8a03a4ff5",
   "metadata": {},
   "source": [
    "# End of week 1 exercise\n",
    "\n",
    "To demonstrate your familiarity with OpenAI API, and also Ollama, build a tool that takes a technical question,  \n",
    "and responds with an explanation. This is a tool that you will be able to use yourself during the course!"
   ]
  },
  {
   "cell_type": "code",
   "execution_count": 35,
   "id": "c1070317-3ed9-4659-abe3-828943230e03",
   "metadata": {},
   "outputs": [],
   "source": [
    "# imports\n",
    "from openai import OpenAI\n",
    "from IPython.display import Markdown, display"
   ]
  },
  {
   "cell_type": "code",
   "execution_count": 36,
   "id": "4a456906-915a-4bfd-bb9d-57e505c5093f",
   "metadata": {},
   "outputs": [],
   "source": [
    "# constants\n",
    "\n",
    "MODEL_GPT = 'gpt-4o-mini'\n",
    "MODEL_LLAMA = 'llama3.2'\n",
    "MODEL_GEMMA = 'google/gemma-3-12b'"
   ]
  },
  {
   "cell_type": "code",
   "execution_count": 37,
   "id": "a8d7923c-5f28-4c30-8556-342d7c8497c1",
   "metadata": {},
   "outputs": [],
   "source": [
    "# set up environment"
   ]
  },
  {
   "cell_type": "code",
   "execution_count": 38,
   "id": "3f0d0137-52b0-47a8-81a8-11a90a010798",
   "metadata": {},
   "outputs": [],
   "source": [
    "# here is the question; type over this to ask something new\n",
    "\n",
    "question = \"\"\"\n",
    "Пожалуйста, объясните, что делает этот код и почему:\n",
    "yield from {book.get(\"author\") for book in books if book.get(\"author\")}\n",
    "\"\"\""
   ]
  },
  {
   "cell_type": "code",
   "execution_count": 39,
   "id": "60ce7000-a4a5-4cce-a261-e75ef45063b4",
   "metadata": {},
   "outputs": [
    {
     "data": {
      "text/markdown": [
       "Этот код использует генераторное выражение с `yield from` для извлечения авторов из списка книг, но только тех, у которых есть информация об авторе. Давайте разберем его по частям:\n",
       "\n",
       "**1. `books`:**\n",
       "\n",
       "Предполагается, что `books` - это список словарей (или другой итерируемый объект), где каждый словарь представляет книгу.  Каждый словарь книги содержит ключи и значения, описывающие эту книгу. Например:\n",
       "\n",
       "```python\n",
       "books = [\n",
       "    {\"title\": \"The Lord of the Rings\", \"author\": \"J.R.R. Tolkien\"},\n",
       "    {\"title\": \"Pride and Prejudice\", \"author\": \"Jane Austen\"},\n",
       "    {\"title\": \"1984\"},  # Нет информации об авторе\n",
       "    {\"title\": \"To Kill a Mockingbird\", \"author\": \"Harper Lee\"}\n",
       "]\n",
       "```\n",
       "\n",
       "**2. `book.get(\"author\")`:**\n",
       "\n",
       "*   `book` представляет текущую книгу в списке `books`.\n",
       "*   `book.get(\"author\")` пытается получить значение ключа `\"author\"` из словаря `book`.  Использование `.get()` вместо прямого доступа через `book[\"author\"]` безопасно, потому что если ключ `\"author\"` отсутствует в словаре `book`, `book.get(\"author\")` вернет `None` (или указанное значение по умолчанию, если оно предоставлено как второй аргумент для `get()`), а не вызовет ошибку `KeyError`.\n",
       "\n",
       "**3. `for book in books if book.get(\"author\")`:**\n",
       "\n",
       "Это генераторное выражение с условием.  Оно перебирает каждую книгу в списке `books`, но *только* если `book.get(\"author\")` возвращает непустое значение (т.е., не `None`, не пустую строку, не 0 и т.д.). Это гарантирует, что мы обрабатываем только те книги, у которых есть информация об авторе.\n",
       "\n",
       "**4. `{... for ... if ...}`:**\n",
       "\n",
       "Это генераторное выражение.  Оно создает последовательность значений (в данном случае, имена авторов) на основе итерации по `books`.  В отличие от списочного включения (`[... for ...]`), генераторные выражения не создают сразу весь список в памяти. Вместо этого они генерируют значения \"по требованию\", что более эффективно для больших объемов данных.\n",
       "\n",
       "**5. `yield from ...`:**\n",
       "\n",
       "*   `yield from` - это ключевое слово, которое позволяет делегировать выполнение другому итератору (в данном случае, генераторному выражению).\n",
       "*   В этом контексте, `yield from {book.get(\"author\") for book in books if book.get(\"author\")}` означает: \"Для каждого значения, генерируемого генераторным выражением `{book.get(\"author\") for book in books if book.get(\"author\")} `, передай это значение как часть текущего генератора\".\n",
       "\n",
       "**В итоге:**\n",
       "\n",
       "Этот код создает генератор, который итерируется по списку книг `books` и выдает имена авторов только для тех книг, у которых есть информация об авторе.  Он делает это эффективно, не создавая сразу весь список имен авторов в памяти.\n",
       "\n",
       "**Пример работы:**\n",
       "\n",
       "Если `books` определен как показано выше:\n",
       "\n",
       "```python\n",
       "authors = yield from {book.get(\"author\") for book in books if book.get(\"author\")}\n",
       "\n",
       "for author in authors:\n",
       "    print(author)\n",
       "```\n",
       "\n",
       "Вывод будет:\n",
       "\n",
       "```\n",
       "J.R.R. Tolkien\n",
       "Jane Austen\n",
       "Harper Lee\n",
       "```\n",
       "\n",
       "**Почему `yield from`?**\n",
       "\n",
       "Использование `yield from` делает код более читаемым и эффективным, особенно когда вы работаете с вложенными генераторами или итераторами.  Без `yield from`, вам пришлось бы написать что-то вроде:\n",
       "\n",
       "```python\n",
       "def get_authors(books):\n",
       "    for book in books:\n",
       "        author = book.get(\"author\")\n",
       "        if author:\n",
       "            yield author\n",
       "```\n",
       "\n",
       "`yield from` позволяет избежать написания дополнительного цикла и условного оператора, делая код более компактным и понятным.  Он также может быть немного эффективнее, поскольку он позволяет Python напрямую делегировать выполнение генератору, не создавая промежуточные объекты.\n",
       "\n",
       "В заключение, этот код представляет собой элегантный способ извлечения информации об авторах из списка книг с использованием генераторного выражения и `yield from` для повышения эффективности и читаемости.\n"
      ],
      "text/plain": [
       "<IPython.core.display.Markdown object>"
      ]
     },
     "metadata": {},
     "output_type": "display_data"
    }
   ],
   "source": [
    "# Get gemma-3-12b to answer, with streaming\n",
    "gemma = OpenAI(base_url='http://localhost:1234/v1', api_key='google/gemma-3-12b')\n",
    "response = gemma.chat.completions.create(\n",
    "    model=MODEL_GEMMA,\n",
    "    messages=[{\"role\": \"user\", \"content\": question}],\n",
    ")\n",
    "\n",
    "display(Markdown(response.choices[0].message.content))"
   ]
  },
  {
   "cell_type": "code",
   "execution_count": 40,
   "id": "8f7c8ea8-4082-4ad0-8751-3301adcf6538",
   "metadata": {},
   "outputs": [
    {
     "data": {
      "text/markdown": [
       "Этот код использования функционального шаблона (Generator expression) в Python.\n",
       "\n",
       "Давайте разберем его поэтапно:\n",
       "\n",
       "```python\n",
       "from typing import Generator\n",
       "\n",
       "class Book:\n",
       "    def __init__(self, title: str, author: str):\n",
       "        self.title = title\n",
       "        self.author = author\n",
       "\n",
       "books = [\n",
       "    Book(\"Красный хорź\", \"МихAIL ПУШ КИРХ\"),\n",
       "    Book(\"Кукушkin\", \"а. к.),\"),\n",
       "    Book(\"Первородний Соколов Олексій Микольович\",'),\n",
       "]\n",
       "\n",
       "def get_authors() -> Generator[str, None, None]:\n",
       "    for book in books:\n",
       "        author = book.get(\"author\")\n",
       "        if author is not None:\n",
       "            yield from {author}\n",
       "```\n",
       "\n",
       "Эта функция `get_authors()` возвращает генератор (Generator), который можно использовать итерационно для отображения авторов книг `books`.\n",
       "\n",
       "Работает она следующим образом: \n",
       "\n",
       "1. Сначала цикл `for` итерирует по sáchам.\n",
       "2. Для каждое из них получается作者, если значение `\"author\"` в списке book не равно none.\n",
       "3. Чтобы получить список элементов из множества \"автор\", используем функцию 'yield from'.\n",
       "\n",
       "Суммируя все это, то `yield from {book.get(\"author\") for book in books if book.get(\"author\")}` — генератор, который проверяет каждую книгу в списке `books`. Если в списке есть хотя бы одна запись с `'author'` и они не равны None, то в результате получается множество с авторами."
      ],
      "text/plain": [
       "<IPython.core.display.Markdown object>"
      ]
     },
     "metadata": {},
     "output_type": "display_data"
    }
   ],
   "source": [
    "# Get Llama 3.2 to answer\n",
    "llama = OpenAI(base_url='http://localhost:11434/v1', api_key='ollama')\n",
    "response = llama.chat.completions.create(\n",
    "    model=MODEL_LLAMA,\n",
    "    messages=[{\"role\": \"user\", \"content\": question}],\n",
    ")\n",
    "\n",
    "display(Markdown(response.choices[0].message.content))"
   ]
  }
 ],
 "metadata": {
  "kernelspec": {
   "display_name": "llms",
   "language": "python",
   "name": "python3"
  },
  "language_info": {
   "codemirror_mode": {
    "name": "ipython",
    "version": 3
   },
   "file_extension": ".py",
   "mimetype": "text/x-python",
   "name": "python",
   "nbconvert_exporter": "python",
   "pygments_lexer": "ipython3",
   "version": "3.11.13"
  }
 },
 "nbformat": 4,
 "nbformat_minor": 5
}
