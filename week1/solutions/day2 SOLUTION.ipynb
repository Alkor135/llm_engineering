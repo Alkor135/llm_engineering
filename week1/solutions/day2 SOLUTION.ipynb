{
 "cells": [
  {
   "cell_type": "markdown",
   "id": "d15d8294-3328-4e07-ad16-8a03e9bbfdb9",
   "metadata": {},
   "source": [
    "# РЕШЕНИЕ ДЛЯ УПРАЖНЕНИЙ\n",
    "\n",
    "Обновите проект \"день 1\", чтобы на веб-странице \"Итоги\" использовалась модель с открытым исходным кодом, работающая локально через Allama, а не OpenAI\n",
    "\n",
    "Вы сможете использовать этот метод для всех последующих проектов, если предпочитаете не использовать платные API.\n",
    "\n",
    "**Преимущества:**\n",
    "1. Без изменений API - интерфейс с открытым исходным кодом\n",
    "2. Данные не покидают ваш ящик\n",
    "\n",
    "**Недостатки:**\n",
    "1. Значительно меньшая мощность, чем у модели Frontier\n",
    "\n",
    "## Краткое описание установки Ollama\n",
    "\n",
    "Просто посетите [ollama.com](https://ollama.com) и установите!\n",
    "\n",
    "После завершения работы сервер llama уже должен быть запущен локально.  \n",
    "Если вы посетите:  \n",
    "[http://localhost:11434/](http://localhost:11434/)\n",
    "\n",
    "Вы должны увидеть сообщение \"Обама запущен\".  \n",
    "\n",
    "Если нет, откройте новый терминал (Mac) или Powershell (Windows) и введите `ollama serve`  \n",
    "Затем попробуйте [http://localhost:11434/](http://localhost:11434/) еще раз."
   ]
  },
  {
   "cell_type": "code",
   "execution_count": null,
   "id": "4e2a9393-7767-488e-a8bf-27c12dca35bd",
   "metadata": {},
   "outputs": [],
   "source": [
    "# imports\n",
    "\n",
    "import requests\n",
    "from bs4 import BeautifulSoup\n",
    "from IPython.display import Markdown, display\n",
    "import ollama"
   ]
  },
  {
   "cell_type": "code",
   "execution_count": null,
   "id": "29ddd15d-a3c5-4f4e-a678-873f56162724",
   "metadata": {},
   "outputs": [],
   "source": [
    "# Constants\n",
    "\n",
    "MODEL = \"llama3.2\""
   ]
  },
  {
   "cell_type": "code",
   "execution_count": null,
   "id": "c5e793b2-6775-426a-a139-4848291d0463",
   "metadata": {},
   "outputs": [],
   "source": [
    "# A class to represent a Webpage\n",
    "\n",
    "class Website:\n",
    "    \"\"\"\n",
    "    A utility class to represent a Website that we have scraped\n",
    "    \"\"\"\n",
    "    url: str\n",
    "    title: str\n",
    "    text: str\n",
    "\n",
    "    def __init__(self, url):\n",
    "        \"\"\"\n",
    "        Create this Website object from the given url using the BeautifulSoup library\n",
    "        \"\"\"\n",
    "        self.url = url\n",
    "        response = requests.get(url)\n",
    "        soup = BeautifulSoup(response.content, 'html.parser')\n",
    "        self.title = soup.title.string if soup.title else \"No title found\"\n",
    "        for irrelevant in soup.body([\"script\", \"style\", \"img\", \"input\"]):\n",
    "            irrelevant.decompose()\n",
    "        self.text = soup.body.get_text(separator=\"\\n\", strip=True)"
   ]
  },
  {
   "cell_type": "code",
   "execution_count": null,
   "id": "2ef960cf-6dc2-4cda-afb3-b38be12f4c97",
   "metadata": {},
   "outputs": [],
   "source": [
    "# Let's try one out\n",
    "\n",
    "ed = Website(\"https://edwarddonner.com\")\n",
    "print(ed.title)\n",
    "print(ed.text)"
   ]
  },
  {
   "cell_type": "markdown",
   "id": "6a478a0c-2c53-48ff-869c-4d08199931e1",
   "metadata": {},
   "source": [
    "## Типы подсказок\n",
    "\n",
    "Возможно, вы уже знаете об этом, но если нет, то вам предстоит с этим ознакомиться!\n",
    "\n",
    "Такие модели, как GPT4o, были обучены получать инструкции определенным образом.\n",
    "\n",
    "Они ожидают, что будут получать:\n",
    "\n",
    "**Системное приглашение**, которое сообщает им, какую задачу они выполняют и какой тон следует использовать\n",
    "\n",
    "** Пользовательское приглашение** - начало разговора, на которое они должны ответить."
   ]
  },
  {
   "cell_type": "code",
   "execution_count": null,
   "id": "abdb8417-c5dc-44bc-9bee-2e059d162699",
   "metadata": {},
   "outputs": [],
   "source": [
    "# Define our system prompt - you can experiment with this later, changing the last sentence to 'Respond in markdown in Spanish.\"\n",
    "\n",
    "system_prompt = \"You are an assistant that analyzes the contents of a website \\\n",
    "and provides a short summary, ignoring text that might be navigation related. \\\n",
    "Respond in markdown.\""
   ]
  },
  {
   "cell_type": "code",
   "execution_count": null,
   "id": "f0275b1b-7cfe-4f9d-abfa-7650d378da0c",
   "metadata": {},
   "outputs": [],
   "source": [
    "# A function that writes a User Prompt that asks for summaries of websites:\n",
    "\n",
    "def user_prompt_for(website):\n",
    "    user_prompt = f\"You are looking at a website titled {website.title}\"\n",
    "    user_prompt += \"The contents of this website is as follows; \\\n",
    "please provide a short summary of this website in markdown. \\\n",
    "If it includes news or announcements, then summarize these too.\\n\\n\"\n",
    "    user_prompt += website.text\n",
    "    return user_prompt"
   ]
  },
  {
   "cell_type": "markdown",
   "id": "ea211b5f-28e1-4a86-8e52-c0b7677cadcc",
   "metadata": {},
   "source": [
    "## Messages\n",
    "\n",
    "The API from Ollama expects the same message format as OpenAI:\n",
    "\n",
    "```\n",
    "[\n",
    "    {\"role\": \"system\", \"content\": \"system message goes here\"},\n",
    "    {\"role\": \"user\", \"content\": \"user message goes here\"}\n",
    "]"
   ]
  },
  {
   "cell_type": "code",
   "execution_count": null,
   "id": "0134dfa4-8299-48b5-b444-f2a8c3403c88",
   "metadata": {},
   "outputs": [],
   "source": [
    "# See how this function creates exactly the format above\n",
    "\n",
    "def messages_for(website):\n",
    "    return [\n",
    "        {\"role\": \"system\", \"content\": system_prompt},\n",
    "        {\"role\": \"user\", \"content\": user_prompt_for(website)}\n",
    "    ]"
   ]
  },
  {
   "cell_type": "markdown",
   "id": "16f49d46-bf55-4c3e-928f-68fc0bf715b0",
   "metadata": {},
   "source": [
    "## Пришло время объединить усилия - теперь с Ollama вместо OpenAI"
   ]
  },
  {
   "cell_type": "code",
   "execution_count": null,
   "id": "905b9919-aba7-45b5-ae65-81b3d1d78e34",
   "metadata": {},
   "outputs": [],
   "source": [
    "# And now: call the Ollama function instead of OpenAI\n",
    "\n",
    "def summarize(url):\n",
    "    website = Website(url)\n",
    "    messages = messages_for(website)\n",
    "    response = ollama.chat(model=MODEL, messages=messages)\n",
    "    return response['message']['content']"
   ]
  },
  {
   "cell_type": "code",
   "execution_count": null,
   "id": "05e38d41-dfa4-4b20-9c96-c46ea75d9fb5",
   "metadata": {},
   "outputs": [],
   "source": [
    "summarize(\"https://edwarddonner.com\")"
   ]
  },
  {
   "cell_type": "code",
   "execution_count": null,
   "id": "3d926d59-450e-4609-92ba-2d6f244f1342",
   "metadata": {},
   "outputs": [],
   "source": [
    "# A function to display this nicely in the Jupyter output, using markdown\n",
    "\n",
    "def display_summary(url):\n",
    "    summary = summarize(url)\n",
    "    display(Markdown(summary))"
   ]
  },
  {
   "cell_type": "code",
   "execution_count": null,
   "id": "3018853a-445f-41ff-9560-d925d1774b2f",
   "metadata": {},
   "outputs": [],
   "source": [
    "display_summary(\"https://edwarddonner.com\")"
   ]
  },
  {
   "cell_type": "markdown",
   "id": "b3bcf6f4-adce-45e9-97ad-d9a5d7a3a624",
   "metadata": {},
   "source": [
    "# Давайте попробуем другие веб-сайты\n",
    "\n",
    "Обратите внимание, что это будет работать только с веб-сайтами, которые можно очистить, используя этот упрощенный подход.\n",
    "\n",
    "Веб-сайты, отображаемые с помощью Javascript, такие как приложения React, отображаться не будут. Смотрите папку community-contributions для реализации Selenium, которая позволяет обойти эту проблему. Вам нужно будет прочитать об установке Selenium (спросите у ChatGPT!)\n",
    "\n",
    "Также веб-сайты, защищенные с помощью CloudFront (и подобных), могут выдавать 403 ошибки - большое спасибо Энди Джею за указание на это.\n",
    "\n",
    "Но многие веб-сайты будут работать просто отлично!"
   ]
  },
  {
   "cell_type": "code",
   "execution_count": null,
   "id": "45d83403-a24c-44b5-84ac-961449b4008f",
   "metadata": {},
   "outputs": [],
   "source": [
    "display_summary(\"https://cnn.com\")"
   ]
  },
  {
   "cell_type": "code",
   "execution_count": null,
   "id": "75e9fd40-b354-4341-991e-863ef2e59db7",
   "metadata": {},
   "outputs": [],
   "source": [
    "display_summary(\"https://anthropic.com\")"
   ]
  },
  {
   "cell_type": "markdown",
   "id": "eeab24dc-5f90-4570-b542-b0585aca3eb6",
   "metadata": {},
   "source": [
    "# Поделитесь своим кодом\n",
    "\n",
    "Я был бы рад, если бы вы впоследствии поделились своим кодом, чтобы я мог поделиться им с другими! Вы заметите, что некоторые студенты уже внесли изменения (включая реализацию Selenium), которые вы найдете в папке \"Вклады сообщества\". Если вы хотите добавить свои изменения в эту папку, отправьте запрос на добавление ваших новых версий в эту папку, и я объединю ваши изменения.\n",
    "\n",
    "Если вы не являетесь экспертом в git (а я им не являюсь!), то БОГ дал несколько полезных инструкций о том, как отправлять запрос на удаление. Это довольно сложный процесс, но как только вы его выполните, все станет совершенно ясно. Совет профессионала: лучше всего, если вы очистите выходные данные своих записных книжек Jupyter (Отредактируйте >> Очистите выходные данные всех ячеек, а затем сохраните) для чистых записных книжек.\n",
    "\n",
    "Инструкции по рекламе любезно предоставлены другом с искусственным интеллектом: https://chatgpt.com/share/670145d5-e8a8-8012-8f93-39ee4e248b4c"
   ]
  },
  {
   "cell_type": "code",
   "execution_count": null,
   "id": "682eff74-55c4-4d4b-b267-703edbc293c7",
   "metadata": {},
   "outputs": [],
   "source": []
  }
 ],
 "metadata": {
  "kernelspec": {
   "display_name": "Python 3 (ipykernel)",
   "language": "python",
   "name": "python3"
  },
  "language_info": {
   "codemirror_mode": {
    "name": "ipython",
    "version": 3
   },
   "file_extension": ".py",
   "mimetype": "text/x-python",
   "name": "python",
   "nbconvert_exporter": "python",
   "pygments_lexer": "ipython3",
   "version": "3.11.11"
  }
 },
 "nbformat": 4,
 "nbformat_minor": 5
}
