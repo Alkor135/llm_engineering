{
 "cells": [
  {
   "cell_type": "markdown",
   "id": "5c291475-8c7c-461c-9b12-545a887b2432",
   "metadata": {},
   "source": [
    "# Python среднего уровня\n",
    "\n",
    "## Вводим вас в курс дела\n",
    "\n",
    "В этом курсе предполагается, что вы владеете python на среднем уровне. Например, у вас должно быть четкое представление о том, что может делать что-то подобное:\n",
    "\n",
    "`результат из {book.get(\"автор\") для книги в books, если book.get(\"автор\")}`\n",
    "\n",
    "Если нет - тогда вы обратились по адресу! Добро пожаловать на ускоренный курс по python среднего уровня. Лучший способ учиться - это делать!\n"
   ]
  },
  {
   "cell_type": "markdown",
   "id": "542f0577-a826-4613-a5d7-4170e9666d04",
   "metadata": {},
   "source": [
    "## Во-первых, если вам нужно освежить в памяти основы\n",
    "\n",
    "Я собираюсь обратиться за помощью к другу в области искусственного интеллекта, потому что эти объяснения очень хорошо написаны и снабжены замечательными примерами. Скопируйте и вставьте примеры кода в новую ячейку, чтобы попробовать их. Выберите разделы, которые вы хотели бы изучить.\n",
    "\n",
    "**Импорт из Python:**  \n",
    "https://chatgpt.com/share/672f9f31-8114-8012-be09-29ef0d0140fb\n",
    "\n",
    "**Функции Python**, включая аргументы по умолчанию:  \n",
    "https://chatgpt.com/share/672f9f99-7060-8012-bfec-46d4cf77d672\n",
    "\n",
    "**Строки Python**, включая нарезку, разделение/ объединение, замену и литералы.:  \n",
    "https://chatgpt.com/share/672fb526-0aa0-8012-9e00-ad1687c04518\n",
    "\n",
    "**F-строки Python**, включая форматирование чисел и дат:  \n",
    "https://chatgpt.com/share/672fa125-0de0-8012-8e35-27918cbb481c\n",
    "\n",
    "**Списки, словари и наборы данных Python**, включая метод `get()`:  \n",
    "https://chatgpt.com/share/672fa225-3f04-8012-91af-f9c95287da8d\n",
    "\n",
    "**Файлы Python**, включая режимы, кодировку, контекстные менеджеры, Path, glob.glob:  \n",
    "https://chatgpt.com/share/673b53b2-6d5c-8012-a344-221056c2f960\n",
    "\n",
    "**Классы Python:**  \n",
    "https://chatgpt.com/share/672fa07a-1014-8012-b2ea-6dc679552715\n",
    "\n",
    "**Обработка объектов Python и преобразование в JSON:**  \n",
    "https://chatgpt.com/share/673b553e-9d0c-8012-9919-f3bb5aa23e31"
   ]
  },
  {
   "cell_type": "markdown",
   "id": "f9e0f8e1-09b3-478b-ada7-c8c35003929b",
   "metadata": {},
   "source": [
    "## Имея это в виду, разберитесь с Nameerror в Python\n",
    "\n",
    "В python довольно часто встречается ошибка NameError. Обладая базовыми знаниями, вы всегда должны быть готовы к тому, чтобы отладить ошибку NameError и разобраться в ее сути.\n",
    "\n",
    "Если вы не уверены, как исправить ошибку имени, пожалуйста, ознакомьтесь с этим [начальным руководством](https://chatgpt.com/share/67958312-ada0-8012-a1d3-62b3a5fcbbfc) и этим [вторым руководством с упражнениями](https://chatgpt.com/share/67a57e0b-0194-8012-bb50-8ea76c5995b8) и проработайте их оба, пока не обретете полную уверенность.\n",
    "\n",
    "Здесь есть некоторые повторы, так что не стесняйтесь пропустить их, если вы уже уверены в себе.\n",
    "\n",
    "## А теперь перейдем к коду!"
   ]
  },
  {
   "cell_type": "code",
   "execution_count": 1,
   "id": "5802e2f0-0ea0-4237-bbb7-f375a34260f0",
   "metadata": {},
   "outputs": [],
   "source": [
    "# Сначала давайте создадим несколько вещей:\n",
    "\n",
    "fruits = [\"Apples\", \"Bananas\", \"Pears\"]\n",
    "\n",
    "book1 = {\"title\": \"Great Expectations\", \"author\": \"Charles Dickens\"}\n",
    "book2 = {\"title\": \"Bleak House\", \"author\": \"Charles Dickens\"}\n",
    "book3 = {\"title\": \"An Book By No Author\"}\n",
    "book4 = {\"title\": \"Moby Dick\", \"author\": \"Herman Melville\"}\n",
    "\n",
    "books = [book1, book2, book3, book4]"
   ]
  },
  {
   "cell_type": "markdown",
   "id": "9b941e6a-3658-4144-a8d4-72f5e72f3707",
   "metadata": {},
   "source": [
    "# Часть 1: Понимание списка и словаря"
   ]
  },
  {
   "cell_type": "code",
   "execution_count": 2,
   "id": "61992bb8-735d-4dad-8747-8c10b63aec82",
   "metadata": {},
   "outputs": [
    {
     "name": "stdout",
     "output_type": "stream",
     "text": [
      "Apples\n",
      "Bananas\n",
      "Pears\n"
     ]
    }
   ],
   "source": [
    "# Достаточно просто, чтобы начать\n",
    "\n",
    "for fruit in fruits:\n",
    "    print(fruit)"
   ]
  },
  {
   "cell_type": "code",
   "execution_count": 3,
   "id": "c89c3842-9b74-47fa-8424-0fcb08e4177c",
   "metadata": {},
   "outputs": [
    {
     "data": {
      "text/plain": [
       "['APPLES', 'BANANAS', 'PEARS']"
      ]
     },
     "execution_count": 3,
     "metadata": {},
     "output_type": "execute_result"
    }
   ],
   "source": [
    "# Давайте приготовим новую версию фруктов\n",
    "\n",
    "fruits_shouted = []\n",
    "for fruit in fruits:\n",
    "    fruits_shouted.append(fruit.upper())\n",
    "\n",
    "fruits_shouted"
   ]
  },
  {
   "cell_type": "code",
   "execution_count": 4,
   "id": "4ec13b3a-9545-44f1-874a-2910a0663560",
   "metadata": {},
   "outputs": [
    {
     "data": {
      "text/plain": [
       "['APPLES', 'BANANAS', 'PEARS']"
      ]
     },
     "execution_count": 4,
     "metadata": {},
     "output_type": "execute_result"
    }
   ],
   "source": [
    "# Вы, наверное, уже знаете об этом\n",
    "# Есть хорошая конструкция Python под названием \"понимание списка\", которая делает это:\n",
    "\n",
    "fruits_shouted2 = [fruit.upper() for fruit in fruits]\n",
    "fruits_shouted2"
   ]
  },
  {
   "cell_type": "code",
   "execution_count": 5,
   "id": "ecc08c3c-181d-4b64-a3e1-b0ccffc6c0cd",
   "metadata": {},
   "outputs": [
    {
     "data": {
      "text/plain": [
       "{'Apples': 'APPLES', 'Bananas': 'BANANAS', 'Pears': 'PEARS'}"
      ]
     },
     "execution_count": 5,
     "metadata": {},
     "output_type": "execute_result"
    }
   ],
   "source": [
    "# Но вы, возможно, не знаете, что это можно сделать и для создания словарей:\n",
    "\n",
    "fruit_mapping = {fruit: fruit.upper() for fruit in fruits}\n",
    "fruit_mapping"
   ]
  },
  {
   "cell_type": "code",
   "execution_count": 6,
   "id": "500c2406-00d2-4793-b57b-f49b612760c8",
   "metadata": {},
   "outputs": [
    {
     "data": {
      "text/plain": [
       "['APPLES', 'BANANAS']"
      ]
     },
     "execution_count": 6,
     "metadata": {},
     "output_type": "execute_result"
    }
   ],
   "source": [
    "# вы также можете использовать оператор if для фильтрации результатов\n",
    "\n",
    "fruits_with_longer_names_shouted = [fruit.upper() for fruit in fruits if len(fruit)>5]\n",
    "fruits_with_longer_names_shouted"
   ]
  },
  {
   "cell_type": "code",
   "execution_count": 7,
   "id": "38c11c34-d71e-45ba-945b-a3d37dc29793",
   "metadata": {},
   "outputs": [
    {
     "data": {
      "text/plain": [
       "{'Bananas': 'BANANAS', 'Pears': 'PEARS'}"
      ]
     },
     "execution_count": 7,
     "metadata": {},
     "output_type": "execute_result"
    }
   ],
   "source": [
    "fruit_mapping_unless_starts_with_a = {fruit: fruit.upper() for fruit in fruits if not fruit.startswith('A')}\n",
    "fruit_mapping_unless_starts_with_a"
   ]
  },
  {
   "cell_type": "code",
   "execution_count": 8,
   "id": "5c97d8e8-31de-4afa-973e-28d8e5cab749",
   "metadata": {},
   "outputs": [
    {
     "data": {
      "text/plain": [
       "['Great Expectations', 'Bleak House', 'An Book By No Author', 'Moby Dick']"
      ]
     },
     "execution_count": 8,
     "metadata": {},
     "output_type": "execute_result"
    }
   ],
   "source": [
    "# Еще одно понимание\n",
    "\n",
    "[book['title'] for book in books]"
   ]
  },
  {
   "cell_type": "code",
   "execution_count": 9,
   "id": "50be0edc-a4cd-493f-a680-06080bb497b4",
   "metadata": {},
   "outputs": [
    {
     "ename": "KeyError",
     "evalue": "'author'",
     "output_type": "error",
     "traceback": [
      "\u001b[31m---------------------------------------------------------------------------\u001b[39m",
      "\u001b[31mKeyError\u001b[39m                                  Traceback (most recent call last)",
      "\u001b[36mCell\u001b[39m\u001b[36m \u001b[39m\u001b[32mIn[9]\u001b[39m\u001b[32m, line 3\u001b[39m\n\u001b[32m      1\u001b[39m \u001b[38;5;66;03m# Этот код завершится ошибкой, поскольку у одной из наших книг нет автора.\u001b[39;00m\n\u001b[32m----> \u001b[39m\u001b[32m3\u001b[39m \u001b[43m[\u001b[49m\u001b[43mbook\u001b[49m\u001b[43m[\u001b[49m\u001b[33;43m'\u001b[39;49m\u001b[33;43mauthor\u001b[39;49m\u001b[33;43m'\u001b[39;49m\u001b[43m]\u001b[49m\u001b[43m \u001b[49m\u001b[38;5;28;43;01mfor\u001b[39;49;00m\u001b[43m \u001b[49m\u001b[43mbook\u001b[49m\u001b[43m \u001b[49m\u001b[38;5;129;43;01min\u001b[39;49;00m\u001b[43m \u001b[49m\u001b[43mbooks\u001b[49m\u001b[43m]\u001b[49m\n",
      "\u001b[36mCell\u001b[39m\u001b[36m \u001b[39m\u001b[32mIn[9]\u001b[39m\u001b[32m, line 3\u001b[39m, in \u001b[36m<listcomp>\u001b[39m\u001b[34m(.0)\u001b[39m\n\u001b[32m      1\u001b[39m \u001b[38;5;66;03m# Этот код завершится ошибкой, поскольку у одной из наших книг нет автора.\u001b[39;00m\n\u001b[32m----> \u001b[39m\u001b[32m3\u001b[39m [\u001b[43mbook\u001b[49m\u001b[43m[\u001b[49m\u001b[33;43m'\u001b[39;49m\u001b[33;43mauthor\u001b[39;49m\u001b[33;43m'\u001b[39;49m\u001b[43m]\u001b[49m \u001b[38;5;28;01mfor\u001b[39;00m book \u001b[38;5;129;01min\u001b[39;00m books]\n",
      "\u001b[31mKeyError\u001b[39m: 'author'"
     ]
    }
   ],
   "source": [
    "# Этот код завершится ошибкой, поскольку у одной из наших книг нет автора.\n",
    "\n",
    "[book['author'] for book in books]"
   ]
  },
  {
   "cell_type": "code",
   "execution_count": 10,
   "id": "53794083-cc09-4edb-b448-2ffb7e8495c2",
   "metadata": {},
   "outputs": [
    {
     "data": {
      "text/plain": [
       "['Charles Dickens', 'Charles Dickens', None, 'Herman Melville']"
      ]
     },
     "execution_count": 10,
     "metadata": {},
     "output_type": "execute_result"
    }
   ],
   "source": [
    "# Но это сработает, потому что get() возвращает None\n",
    "\n",
    "[book.get('author') for book in books]"
   ]
  },
  {
   "cell_type": "code",
   "execution_count": 11,
   "id": "b8e4b859-24f8-4016-8d74-c2cef226d049",
   "metadata": {},
   "outputs": [
    {
     "data": {
      "text/plain": [
       "['Charles Dickens', 'Charles Dickens', 'Herman Melville']"
      ]
     },
     "execution_count": 11,
     "metadata": {},
     "output_type": "execute_result"
    }
   ],
   "source": [
    "# И этот вариант отфильтрует отсутствие\n",
    "\n",
    "[book.get('author') for book in books if book.get('author')]"
   ]
  },
  {
   "cell_type": "code",
   "execution_count": 12,
   "id": "c44bb999-52b4-4dee-810b-8a400db8f25f",
   "metadata": {},
   "outputs": [
    {
     "data": {
      "text/plain": [
       "{'Charles Dickens', 'Herman Melville'}"
      ]
     },
     "execution_count": 12,
     "metadata": {},
     "output_type": "execute_result"
    }
   ],
   "source": [
    "# И эта версия преобразует его в набор, удаляя дубликаты\n",
    "\n",
    "set([book.get('author') for book in books if book.get('author')])"
   ]
  },
  {
   "cell_type": "code",
   "execution_count": 13,
   "id": "80a65156-6192-4bb4-b4e6-df3fdc933891",
   "metadata": {},
   "outputs": [
    {
     "data": {
      "text/plain": [
       "{'Charles Dickens', 'Herman Melville'}"
      ]
     },
     "execution_count": 13,
     "metadata": {},
     "output_type": "execute_result"
    }
   ],
   "source": [
    "# И, наконец, эта версия еще лучше\n",
    "# фигурные скобки создают набор, так что это понимание набора\n",
    "\n",
    "{book.get('author') for book in books if book.get('author')}"
   ]
  },
  {
   "cell_type": "markdown",
   "id": "c100e5db-5438-4715-921c-3f7152f83f4a",
   "metadata": {},
   "source": [
    "# Часть 2: Генераторы\n",
    "\n",
    "В курсе мы используем генераторы, потому что модели искусственного интеллекта могут передавать результаты в потоковом режиме.\n",
    "\n",
    "Если вы раньше не использовали генераторы, пожалуйста, начните с этого замечательного вступления от ChatGPT:\n",
    "\n",
    "https://chatgpt.com/share/672faa6e-7dd0-8012-aae5-44fc0d0ec218\n",
    "\n",
    "Попробуйте вставить некоторые примеры в ячейку."
   ]
  },
  {
   "cell_type": "code",
   "execution_count": 14,
   "id": "1efc26fa-9144-4352-9a17-dfec1d246aad",
   "metadata": {},
   "outputs": [],
   "source": [
    "# Сначала определите генератор; он выглядит как функция, но имеет значение yield вместо return\n",
    "\n",
    "import time\n",
    "\n",
    "def come_up_with_fruit_names():\n",
    "    for fruit in fruits:\n",
    "        time.sleep(1) # thinking of a fruit\n",
    "        yield fruit"
   ]
  },
  {
   "cell_type": "code",
   "execution_count": 15,
   "id": "eac338bb-285c-45c8-8a3e-dbfc41409ca3",
   "metadata": {},
   "outputs": [
    {
     "name": "stdout",
     "output_type": "stream",
     "text": [
      "Apples\n",
      "Bananas\n",
      "Pears\n"
     ]
    }
   ],
   "source": [
    "# Тогда используй это\n",
    "\n",
    "for fruit in come_up_with_fruit_names():\n",
    "    print(fruit)"
   ]
  },
  {
   "cell_type": "code",
   "execution_count": 16,
   "id": "f6880578-a3de-4502-952a-4572b95eb9ff",
   "metadata": {},
   "outputs": [],
   "source": [
    "# Вот еще один пример.\n",
    "\n",
    "def authors_generator():\n",
    "    for book in books:\n",
    "        if book.get(\"author\"):\n",
    "            yield book.get(\"author\")"
   ]
  },
  {
   "cell_type": "code",
   "execution_count": 17,
   "id": "9e316f02-f87f-441d-a01f-024ade949607",
   "metadata": {},
   "outputs": [
    {
     "name": "stdout",
     "output_type": "stream",
     "text": [
      "Charles Dickens\n",
      "Charles Dickens\n",
      "Herman Melville\n"
     ]
    }
   ],
   "source": [
    "# Используй это\n",
    "\n",
    "for author in authors_generator():\n",
    "    print(author)"
   ]
  },
  {
   "cell_type": "code",
   "execution_count": 18,
   "id": "7535c9d0-410e-4e56-a86c-ae6c0e16053f",
   "metadata": {},
   "outputs": [],
   "source": [
    "# Вот то же самое, написанное с пониманием списка.\n",
    "\n",
    "def authors_generator():\n",
    "    for author in [book.get(\"author\") for book in books if book.get(\"author\")]:\n",
    "        yield author"
   ]
  },
  {
   "cell_type": "code",
   "execution_count": 19,
   "id": "dad34494-0f6c-4edb-b03f-b8d49ee186f2",
   "metadata": {},
   "outputs": [
    {
     "name": "stdout",
     "output_type": "stream",
     "text": [
      "Charles Dickens\n",
      "Charles Dickens\n",
      "Herman Melville\n"
     ]
    }
   ],
   "source": [
    "# Use it\n",
    "\n",
    "for author in authors_generator():\n",
    "    print(author)"
   ]
  },
  {
   "cell_type": "code",
   "execution_count": 20,
   "id": "abeb7e61-d8aa-4af0-b05a-ae17323e678c",
   "metadata": {},
   "outputs": [],
   "source": [
    "# Вот хороший ярлык\n",
    "# Вы можете использовать \"yield from\", чтобы получить каждый элемент итерируемого\n",
    "\n",
    "def authors_generator():\n",
    "    yield from [book.get(\"author\") for book in books if book.get(\"author\")]"
   ]
  },
  {
   "cell_type": "code",
   "execution_count": 21,
   "id": "05b0cb43-aa83-4762-a797-d3beb0f22c44",
   "metadata": {},
   "outputs": [
    {
     "name": "stdout",
     "output_type": "stream",
     "text": [
      "Charles Dickens\n",
      "Charles Dickens\n",
      "Herman Melville\n"
     ]
    }
   ],
   "source": [
    "# Use it\n",
    "\n",
    "for author in authors_generator():\n",
    "    print(author)"
   ]
  },
  {
   "cell_type": "code",
   "execution_count": 22,
   "id": "fdfea58e-d809-4dd4-b7b0-c26427f8be55",
   "metadata": {},
   "outputs": [],
   "source": [
    "# И, наконец, мы можем заменить понимание списка пониманием набора\n",
    "\n",
    "def unique_authors_generator():\n",
    "    yield from {book.get(\"author\") for book in books if book.get(\"author\")}"
   ]
  },
  {
   "cell_type": "code",
   "execution_count": 23,
   "id": "3e821d08-97be-4db9-9a5b-ce5dced3eff8",
   "metadata": {},
   "outputs": [
    {
     "name": "stdout",
     "output_type": "stream",
     "text": [
      "Charles Dickens\n",
      "Herman Melville\n"
     ]
    }
   ],
   "source": [
    "# Use it\n",
    "\n",
    "for author in unique_authors_generator():\n",
    "    print(author)"
   ]
  },
  {
   "cell_type": "code",
   "execution_count": 24,
   "id": "905ba603-15d8-4d01-9a79-60ec293d7ca1",
   "metadata": {},
   "outputs": [
    {
     "name": "stdout",
     "output_type": "stream",
     "text": [
      "We juggle bewildered wombats. You dramatically renounce turqoise kumquats. You dramatically renounce smelly thermostats. We deny the existence of disheveled monocles. They resent overripe calculators. You resent suspicious kumquats. You pontificate about fluorescent jellyfish. We philosophize about festering rodents. We philosophize about disheveled turnips. You philosophize about overripe kumquats. I dramatically renounce pretentious mustaches. We misplace pleasing accordions. I impersonate arrogant thermostats. We tap dance on disheveled thermostats. I eat wobbly kumquats. I deny the existence of overripe thermostats. I conspire with pompous thermostats. You juggle pretentious thermostats. We misplace bewildered turnips. We secretly collect festering bagpipes. We tap dance on bewildered monocles. You misplace wobbly wombats. We eat bewildered mustaches. I worship fluorescent calculators. We misplace smelly turnips. I juggle bewildered bagpipes. We tap dance on turqoise calculators. They juggle pretentious spreadsheets. We bathe in pleasing wombats. They detest fes"
     ]
    },
    {
     "ename": "KeyboardInterrupt",
     "evalue": "",
     "output_type": "error",
     "traceback": [
      "\u001b[31m---------------------------------------------------------------------------\u001b[39m",
      "\u001b[31mKeyboardInterrupt\u001b[39m                         Traceback (most recent call last)",
      "\u001b[36mCell\u001b[39m\u001b[36m \u001b[39m\u001b[32mIn[24]\u001b[39m\u001b[32m, line 26\u001b[39m\n\u001b[32m     24\u001b[39m \u001b[38;5;28;01mfor\u001b[39;00m letter \u001b[38;5;129;01min\u001b[39;00m infinite_random_sentences():\n\u001b[32m     25\u001b[39m     \u001b[38;5;28mprint\u001b[39m(letter, end=\u001b[33m\"\u001b[39m\u001b[33m\"\u001b[39m, flush=\u001b[38;5;28;01mTrue\u001b[39;00m)\n\u001b[32m---> \u001b[39m\u001b[32m26\u001b[39m     time.sleep(\u001b[32m0.02\u001b[39m)\n",
      "\u001b[31mKeyboardInterrupt\u001b[39m: "
     ]
    }
   ],
   "source": [
    "# А если вам скучно, то просто нажмите кнопку \"Стоп\" на панели инструментов!\n",
    "# Мы как будто создали собственную большую языковую модель... хотя и не особенно большую..\n",
    "# Посмотрим, поймете ли вы, почему она печатает по букве за раз, а не по слову за раз. Если вы не уверены, попробуйте удалить ключевое слово \"from\" повсюду в коде.\n",
    "\n",
    "import random\n",
    "import time\n",
    "\n",
    "pronouns = [\"I\", \"You\", \"We\", \"They\"]\n",
    "verbs = [\"eat\", \"detest\", \"bathe in\", \"deny the existence of\", \"resent\", \"pontificate about\", \"juggle\", \"impersonate\", \"worship\", \"misplace\", \"conspire with\", \"philosophize about\", \"tap dance on\", \"dramatically renounce\", \"secretly collect\"]\n",
    "adjectives = [\"turqoise\", \"smelly\", \"arrogant\", \"festering\", \"pleasing\", \"whimsical\", \"disheveled\", \"pretentious\", \"wobbly\", \"melodramatic\", \"pompous\", \"fluorescent\", \"bewildered\", \"suspicious\", \"overripe\"]\n",
    "nouns = [\"turnips\", \"rodents\", \"eels\", \"walruses\", \"kumquats\", \"monocles\", \"spreadsheets\", \"bagpipes\", \"wombats\", \"accordions\", \"mustaches\", \"calculators\", \"jellyfish\", \"thermostats\"]\n",
    "\n",
    "def infinite_random_sentences():\n",
    "    while True:\n",
    "        yield from random.choice(pronouns)\n",
    "        yield \" \"\n",
    "        yield from random.choice(verbs)\n",
    "        yield \" \"\n",
    "        yield from random.choice(adjectives)\n",
    "        yield \" \"\n",
    "        yield from random.choice(nouns)\n",
    "        yield \". \"\n",
    "\n",
    "for letter in infinite_random_sentences():\n",
    "    print(letter, end=\"\", flush=True)\n",
    "    time.sleep(0.02)"
   ]
  },
  {
   "cell_type": "markdown",
   "id": "04832ea2-2447-4473-a449-104f80e24d85",
   "metadata": {},
   "source": [
    "# Упражнение\n",
    "\n",
    "Напишите несколько классов python для примера с книгами.\n",
    "\n",
    "Напишите класс Book с названием и автором. Включите метод has_author()\n",
    "\n",
    "Напишите класс BookShelf со списком книг. Включите метод генератора unique_authors()"
   ]
  },
  {
   "cell_type": "markdown",
   "id": "35760406-fe6c-41f9-b0c0-3e8cf73aafd0",
   "metadata": {},
   "source": [
    "# И наконец\n",
    "\n",
    "Вот некоторые подробности о классах среднего уровня от нашего друга с искусственным интеллектом, включая использование подсказок по типам, наследованию и классовым методам. Это включает в себя пример из книги.\n",
    "\n",
    "https://chatgpt.com/share/67348aca-65fc-8012-a4a9-fd1b8f04ba59"
   ]
  }
 ],
 "metadata": {
  "kernelspec": {
   "display_name": "llms",
   "language": "python",
   "name": "python3"
  },
  "language_info": {
   "codemirror_mode": {
    "name": "ipython",
    "version": 3
   },
   "file_extension": ".py",
   "mimetype": "text/x-python",
   "name": "python",
   "nbconvert_exporter": "python",
   "pygments_lexer": "ipython3",
   "version": "3.11.13"
  }
 },
 "nbformat": 4,
 "nbformat_minor": 5
}
