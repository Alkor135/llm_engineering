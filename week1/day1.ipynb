{
 "cells": [
  {
   "cell_type": "markdown",
   "id": "d15d8294-3328-4e07-ad16-8a03e9bbfdb9",
   "metadata": {
    "editable": true,
    "slideshow": {
     "slide_type": ""
    },
    "tags": []
   },
   "source": [
    "# ВАША ПЕРВАЯ ЛАБОРАТОРНАЯ РАБОТА\n",
    "### Пожалуйста, прочтите этот раздел. Это поможет вам подготовиться, даже если чтение будет долгим - это важный материал.\n",
    "\n",
    "## Ваш первый проект Frontier LLM\n",
    "\n",
    "Давайте создадим полезное решение для LLM за считанные минуты.\n",
    "\n",
    "К концу этого курса вы создадите автономное ИИ-решение с 7 агентами, которые будут сотрудничать для решения бизнес-задачи. Всему свое время! Мы начнем с чего-то меньшего...\n",
    "\n",
    "Наша цель - создать веб-браузер нового типа. Укажите URL-адрес, и в ответ вы получите краткое описание. Интернет-издание \"Ридерз дайджест\"!!\n",
    "\n",
    "Перед началом работы вы должны были завершить настройку для [PC](../SETUP-PC.md) или [Mac](../SETUP-mac.md) и, надеюсь, запустили эту лабораторию jupyter из корневого каталога project с активированной средой.\n",
    "\n",
    "## Если вы новичок в Jupyter Lab\n",
    "\n",
    "Добро пожаловать в удивительный мир экспериментов с данными! Однажды воспользовавшись Jupyter Lab, вы удивитесь, как раньше жили без него. Просто щелкните по каждой \"ячейке\" с кодом, например, по ячейке непосредственно под этим текстом, и нажмите Shift+Return, чтобы выполнить выполнение этой ячейки. При желании вы можете добавить ячейку с помощью кнопки + на панели инструментов и напечатать значения переменных или попробовать различные варианты.  \n",
    "\n",
    "Я написал блокнот под названием [Руководство по Jupyter] (Guide%20to%20Jupyter.ipynb), который поможет вам лучше ознакомиться с Jupyter Labs, включая добавление комментариев Markdown, использование `!` для запуска команд оболочки и `tqdm` для отображения прогресса.\n",
    "\n",
    "## Если вы новичок в командной строке\n",
    "\n",
    "Пожалуйста, ознакомьтесь с этими замечательными руководствами: [Командная строка на ПК](https://chatgpt.com/share/67b0acea-ba38-8012-9c34-7a2541052665 ) и [Командная строка на Mac](https://chatgpt.com/canvas/shared/67b0b10c93a081918210723867525d2b ).  \n",
    "\n",
    "## Если вы предпочитаете работать в среде IDE\n",
    "\n",
    "Если вам удобнее работать с такими IDE, как VSCode, Cursor или PyCharm, они также отлично работают с этими лабораторными ноутбуками.  \n",
    "Если вы предпочитаете работать в VSCode, [здесь](https://chatgpt.com/share/676f2e19-c228-8012-9911-6ca42f8ed766) приведены инструкции от друга-ИИ о том, как настроить его для курса.\n",
    "\n",
    "## Если вы хотите освежить в памяти свой Python\n",
    "\n",
    "Я добавил записную книжку под названием [Intermediate Python](Intermediate%20Python.ipynb), чтобы ввести вас в курс дела. Но вам следует пропустить ее, если у вас уже есть хорошее представление о том, что делает этот код:    \n",
    "`результат из {book.get(\"автор\") для книги в books, если book.get(\"автор\")}`\n",
    "\n",
    "## Я здесь, чтобы помочь\n",
    "\n",
    "Если у вас возникнут какие-либо проблемы, пожалуйста, обращайтесь.  \n",
    "Я доступен через платформу или по адресу ed@edwarddonner.com, или по адресу https://www.linkedin.com/in/eddonner/ если вы хотите связаться со мной (а я люблю общаться!)  \n",
    "Для меня это в новинку, но я также пытаюсь использовать X/Twitter по адресу [@edwarddonner](https://x.com/edwarddonner) - если вы подписаны на X, пожалуйста, покажите мне, как это делается 😂  \n",
    "\n",
    "## Дополнительные сведения об устранении неполадок\n",
    "\n",
    "Пожалуйста, ознакомьтесь с записной книжкой [устранение неполадок](troubleshooting.ipynb) в этой папке, чтобы диагностировать и устранять распространенные проблемы. В самом конце приведен диагностический сценарий с некоторой полезной отладочной информацией.\n",
    "\n",
    "## Для получения базовых технических знаний (например, Git, API, отладка). \n",
    "\n",
    "Если вы относительно новичок в программировании - я вас поддержу! Хотя для прохождения этого курса желательно иметь некоторый опыт программирования, есть только одно обязательное условие: запас терпения. 😁 Я собрал набор руководств для самостоятельного изучения, которые охватывают Git и GitHub, API и конечные точки, python для начинающих и многое другое.\n",
    "\n",
    "В этой статье рассматриваются Git и GitHub; что это такое, в чем разница и как их использовать:  \n",
    "https://github.com/ed-donner/agents/blob/main/guides/03_git_and_github.ipynb\n",
    "\n",
    "В этой статье рассматриваются технические основы:  \n",
    "ChatGPT vs API; создание скриншотов; Переменные среды; Основы сетевого взаимодействия; API и конечные точки:  \n",
    "https://github.com/ed-donner/agents/blob/main/guides/04_technical_foundations.ipynb\n",
    "\n",
    "В этой статье рассказывается о Python для начинающих и о том, как убедиться, что \"ошибка имени\" никогда не собьет вас с толку:  \n",
    "https://github.com/ed-donner/agents/blob/main/guides/06_python_foundations.ipynb\n",
    "\n",
    "Здесь описаны основные методы поиска ошибок:  \n",
    "https://github.com/ed-donner/agents/blob/main/guides/08_debugging.ipynb\n",
    "\n",
    "В той же папке на GitHub вы найдете другие полезные руководства. Некоторая информация относится к другим моим курсам по Udemy (например, Async Python), но большая ее часть очень важна для инженеров LLM.\n",
    "\n",
    "## Если это вам знакомо!\n",
    "\n",
    "Если вы уже освоились с сегодняшним материалом, пожалуйста, продолжайте в том же духе; вы можете быстро пройти первые несколько лабораторных работ - по прошествии нескольких недель мы углубимся в них. В конечном итоге мы доработаем наш собственный LLM, чтобы он мог конкурировать с OpenAI!\n",
    "\n",
    "<table style=\"margin: 0; text-align: left;\">\n",
    "    <tr>\n",
    "        <td style=\"width: 150px; height: 150px; vertical-align: middle;\">\n",
    "            <img src=\"../important.jpg\" width=\"150\" height=\"150\" style=\"display: block;\" />\n",
    "        </td>\n",
    "        <td>\n",
    "            <h2 style=\"color:#900;\">Пожалуйста, прочтите - важное примечание</h2>\n",
    "            <span style=\"color:#900;\">То, как я сотрудничаю с вами, может отличаться от других курсов, которые вы посещали. Я предпочитаю не набирать код, пока вы смотрите. Вместо этого я выполняю Jupiter Labs, вот так, и даю вам интуитивное представление о том, что происходит. Я предлагаю вам внимательно выполнить это самостоятельно, после просмотра лекции. Добавьте инструкции для печати, чтобы понять, что происходит, а затем предложите свои варианты. Если у вас есть учетная запись на Github, используйте это, чтобы продемонстрировать свои варианты. Это не только важная практика, но и демонстрация ваших навыков другим, включая, возможно, будущих клиентов или работодателей...</span>\n",
    "        </td>\n",
    "    </tr>\n",
    "</table>\n",
    "<table style=\"margin: 0; text-align: left;\">\n",
    "    <tr>\n",
    "        <td style=\"width: 150px; height: 150px; vertical-align: middle;\">\n",
    "            <img src=\"../resources.jpg\" width=\"150\" height=\"150\" style=\"display: block;\" />\n",
    "        </td>\n",
    "        <td>\n",
    "            <h2 style=\"color:#f71;\">Этот код является живым ресурсом - следите за моими электронными письмами</h2>\n",
    "            <span style=\"color:#f71;\">Я регулярно обновляю код. По мере того, как люди задают вопросы, я добавляю больше примеров или улучшаю комментарии. В результате вы заметите, что приведенный ниже код не идентичен видео. Здесь есть все, что можно найти в видео, но я также добавил более подробные объяснения и новые модели, такие как Deep Seek. Рассматривайте это как интерактивную книгу.<br/><br/>\n",
    "                Я стараюсь регулярно отправлять электронные письма с важными обновлениями, связанными с курсом. Вы можете найти это в разделе \"Объявления\" на Udemy на левой боковой панели. Вы также можете выбрать получение моих электронных писем через настройки уведомлений в Udemy. Я с уважением отношусь к вашему почтовому ящику и всегда стараюсь сделать свои письма более полезными!\n",
    "            </span>\n",
    "        </td>\n",
    "    </tr>\n",
    "</table>\n",
    "<table style=\"margin: 0; text-align: left;\">\n",
    "    <tr>\n",
    "        <td style=\"width: 150px; height: 150px; vertical-align: middle;\">\n",
    "            <img src=\"../business.jpg\" width=\"150\" height=\"150\" style=\"display: block;\" />\n",
    "        </td>\n",
    "        <td>\n",
    "            <h2 style=\"color:#181;\">Ценность этих упражнений для бизнеса</h2>\n",
    "            <span style=\"color:#181;\">И последнее. Хотя я задумал эти блокноты как обучающие, я также старался сделать их приятными. Мы будем делать забавные вещи, например, заставлять магистров рассказывать анекдоты и спорить друг с другом. Но, по сути, моя цель - научить навыкам, которые вы можете применить в бизнесе. По ходу дела я расскажу о последствиях для бизнеса, и стоит помнить об этом: по мере того, как вы приобретаете опыт работы с моделями и техниками, думайте о том, как вы могли бы применить это на практике уже сегодня. Пожалуйста, свяжитесь со мной, если вы хотите обсудить больше или если у вас есть идеи, которыми вы могли бы поделиться со мной.</span>\n",
    "        </td>\n",
    "    </tr>\n",
    "</table>"
   ]
  },
  {
   "cell_type": "code",
   "execution_count": 1,
   "id": "4e2a9393-7767-488e-a8bf-27c12dca35bd",
   "metadata": {},
   "outputs": [],
   "source": [
    "# imports\n",
    "\n",
    "import os\n",
    "import requests\n",
    "from dotenv import load_dotenv\n",
    "from bs4 import BeautifulSoup\n",
    "from IPython.display import Markdown, display\n",
    "from openai import OpenAI\n",
    "\n",
    "# If you get an error running this cell, then please head over to the troubleshooting notebook!"
   ]
  },
  {
   "cell_type": "markdown",
   "id": "6900b2a8-6384-4316-8aaa-5e519fca4254",
   "metadata": {},
   "source": [
    "# Подключение к OpenAI (или Ollama)\n",
    "\n",
    "В следующей ячейке мы загружаем переменные среды в ваш файл `.env` и подключаемся к OpenAI.  \n",
    "\n",
    "Если вы хотите использовать вместо этого бесплатную Ollama, пожалуйста, ознакомьтесь с разделом README \"Бесплатная альтернатива платным API\", а если вы не уверены, как это сделать, в папке solutions есть полное решение (day1_with_ollama.ipynb).\n",
    "\n",
    "## Устранение неполадок, если у вас возникли проблемы:\n",
    "\n",
    "Перейдите к записной книжке [устранение неполадок](troubleshooting.ipynb) в этой папке, чтобы найти пошаговый код для определения основной причины и ее устранения!\n",
    "\n",
    "Если вы вносите изменения, попробуйте перезапустить \"Ядро\" (процесс python, расположенный за этим блокнотом) с помощью меню Ядра >> Перезапустить ядро и очистить выходные данные всех ячеек. Затем попробуйте снова запустить этот блокнот, начиная с самого начала.\n",
    "\n",
    "Или свяжитесь со мной! Напишите мне или напишите по электронной почте ed@edwarddonner.com и мы приступим к работе.\n",
    "\n",
    "Есть сомнения по поводу затрат на API? Смотрите мои заметки в README - затраты должны быть минимальными, и вы можете контролировать их на каждом этапе. Вы также можете использовать Ollama в качестве бесплатной альтернативы, которую мы обсудим в течение дня 2."
   ]
  },
  {
   "cell_type": "code",
   "execution_count": 2,
   "id": "7b87cadb-d513-4303-baee-a37b6f938e4d",
   "metadata": {},
   "outputs": [
    {
     "name": "stdout",
     "output_type": "stream",
     "text": [
      "An API key was found, but it doesn't start sk-proj-; please check you're using the right key - see troubleshooting notebook\n"
     ]
    }
   ],
   "source": [
    "# Load environment variables in a file called .env\n",
    "\n",
    "load_dotenv(override=True)\n",
    "api_key = os.getenv('OPENAI_API_KEY')\n",
    "\n",
    "# Check the key\n",
    "\n",
    "if not api_key:\n",
    "    print(\"No API key was found - please head over to the troubleshooting notebook in this folder to identify & fix!\")\n",
    "elif not api_key.startswith(\"sk-proj-\"):\n",
    "    print(\"An API key was found, but it doesn't start sk-proj-; please check you're using the right key - see troubleshooting notebook\")\n",
    "elif api_key.strip() != api_key:\n",
    "    print(\"An API key was found, but it looks like it might have space or tab characters at the start or end - please remove them - see troubleshooting notebook\")\n",
    "else:\n",
    "    print(\"API key found and looks good so far!\")\n"
   ]
  },
  {
   "cell_type": "code",
   "execution_count": 3,
   "id": "019974d9-f3ad-4a8a-b5f9-0a3719aea2d3",
   "metadata": {},
   "outputs": [],
   "source": [
    "# openai = OpenAI()\n",
    "# If this doesn't work, try Kernel menu >> Restart Kernel and Clear Outputs Of All Cells, then run the cells from the top of this notebook down.\n",
    "# If it STILL doesn't work (horrors!) then please see the Troubleshooting notebook in this folder for full instructions.\n",
    "\n",
    "# Для раблты через LM Studio server (при запущенном LM Studio сервере на локальном компьютере и загруженной модели Gemma 3.12B)\n",
    "openai = OpenAI(base_url='http://localhost:1234/v1', api_key='google/gemma-3-12b')"
   ]
  },
  {
   "cell_type": "markdown",
   "id": "442fc84b-0815-4f40-99ab-d9a5da6bda91",
   "metadata": {},
   "source": [
    "# Давайте быстренько познакомимся с моделью Frontier, чтобы начать работу, в качестве предварительного просмотра!"
   ]
  },
  {
   "cell_type": "code",
   "execution_count": 4,
   "id": "a58394bf-1e45-46af-9bfd-01e24da6f49a",
   "metadata": {},
   "outputs": [
    {
     "name": "stdout",
     "output_type": "stream",
     "text": [
      "Привет! Очень рад приветствовать тебя! Это здорово, что ты решил написать мне первым сообщением. Как у тебя дела? Что-нибудь интересное происходит? \n",
      "\n",
      "Не стесняйся спрашивать меня о чем угодно или просто болтать - я здесь, чтобы помочь и пообщаться! 😊\n",
      "\n"
     ]
    }
   ],
   "source": [
    "# Чтобы дать вам предварительный обзор - вызвать OpenAI с этими сообщениями очень просто. При возникновении проблем обращайтесь к записной книжке по устранению неполадок.\n",
    "\n",
    "message = \"Привет, GPT! Это мое первое сообщение для тебя! Привет!\"\n",
    "response = openai.chat.completions.create(model=\"google/gemma-3-12b\", messages=[{\"role\":\"user\", \"content\":message}])\n",
    "print(response.choices[0].message.content)"
   ]
  },
  {
   "cell_type": "markdown",
   "id": "2aa190e5-cb31-456a-96cc-db109919cd78",
   "metadata": {},
   "source": [
    "## Итак, приступаем к нашему первому проекту"
   ]
  },
  {
   "cell_type": "code",
   "execution_count": 9,
   "id": "c5e793b2-6775-426a-a139-4848291d0463",
   "metadata": {},
   "outputs": [],
   "source": [
    "# Класс для представления веб-страницы\n",
    "# Если вы не знакомы с классами, ознакомьтесь с записной книжкой \"Intermediate Python\"\n",
    "\n",
    "# На некоторых веб-сайтах необходимо использовать правильные заголовки при их загрузке:\n",
    "headers = {\n",
    " \"User-Agent\": \"Mozilla/5.0 (Windows NT 10.0; Win64; x64) AppleWebKit/537.36 (KHTML, like Gecko) Chrome/117.0.0.0 Safari/537.36\"\n",
    "}\n",
    "\n",
    "class Website:\n",
    "\n",
    "    def __init__(self, url):\n",
    "        \"\"\"\n",
    "        Создайте этот объект веб-сайта по указанному URL-адресу, используя библиотеку BeautifulSoup\n",
    "        \"\"\"\n",
    "        self.url = url\n",
    "        response = requests.get(url, headers=headers)\n",
    "        soup = BeautifulSoup(response.content, 'html.parser')\n",
    "        self.title = soup.title.string if soup.title else \"No title found\"\n",
    "        for irrelevant in soup.body([\"script\", \"style\", \"img\", \"input\"]):\n",
    "            irrelevant.decompose()\n",
    "        self.text = soup.body.get_text(separator=\"\\n\", strip=True)"
   ]
  },
  {
   "cell_type": "code",
   "execution_count": 10,
   "id": "2ef960cf-6dc2-4cda-afb3-b38be12f4c97",
   "metadata": {},
   "outputs": [
    {
     "name": "stdout",
     "output_type": "stream",
     "text": [
      "Home - Edward Donner\n",
      "Home\n",
      "Connect Four\n",
      "Outsmart\n",
      "An arena that pits LLMs against each other in a battle of diplomacy and deviousness\n",
      "About\n",
      "Posts\n",
      "Well, hi there.\n",
      "I’m Ed. I like writing code and experimenting with LLMs, and hopefully you’re here because you do too. I also enjoy DJing (but I’m badly out of practice), amateur electronic music production (\n",
      "very\n",
      "amateur) and losing myself in\n",
      "Hacker News\n",
      ", nodding my head sagely to things I only half understand.\n",
      "I’m the co-founder and CTO of\n",
      "Nebula.io\n",
      ". We’re applying AI to a field where it can make a massive, positive impact: helping people discover their potential and pursue their reason for being. Recruiters use our product today to source, understand, engage and manage talent. I’m previously the founder and CEO of AI startup untapt,\n",
      "acquired in 2021\n",
      ".\n",
      "We work with groundbreaking, proprietary LLMs verticalized for talent, we’ve\n",
      "patented\n",
      "our matching model, and our award-winning platform has happy customers and tons of press coverage.\n",
      "Connect\n",
      "with me for more!\n",
      "May 28, 2025\n",
      "Connecting my courses – become an LLM expert and leader\n",
      "May 18, 2025\n",
      "2025 AI Executive Briefing\n",
      "April 21, 2025\n",
      "The Complete Agentic AI Engineering Course\n",
      "January 23, 2025\n",
      "LLM Workshop – Hands-on with Agents – resources\n",
      "Navigation\n",
      "Home\n",
      "Connect Four\n",
      "Outsmart\n",
      "An arena that pits LLMs against each other in a battle of diplomacy and deviousness\n",
      "About\n",
      "Posts\n",
      "Get in touch\n",
      "ed [at] edwarddonner [dot] com\n",
      "www.edwarddonner.com\n",
      "Follow me\n",
      "LinkedIn\n",
      "Twitter\n",
      "Facebook\n",
      "Subscribe to newsletter\n",
      "Type your email…\n",
      "Subscribe\n"
     ]
    }
   ],
   "source": [
    "# Давайте попробуем один из них. Измените веб-сайт и добавьте печатные заявления, \n",
    "# чтобы следить за обновлениями.\n",
    "\n",
    "ed = Website(\"https://edwarddonner.com\")\n",
    "print(ed.title)\n",
    "print(ed.text)"
   ]
  },
  {
   "cell_type": "markdown",
   "id": "6a478a0c-2c53-48ff-869c-4d08199931e1",
   "metadata": {},
   "source": [
    "## Типы подсказок\n",
    "\n",
    "Возможно, вы уже знаете об этом, но если нет, то вам предстоит с этим ознакомиться!\n",
    "\n",
    "Такие модели, как GPT4o, были обучены получать инструкции определенным образом.\n",
    "\n",
    "Они ожидают, что будут получать:\n",
    "\n",
    "**Системное приглашение**, которое сообщает им, какую задачу они выполняют и какой тон следует использовать\n",
    "\n",
    "**Пользовательское приглашение** - начало разговора, на которое они должны ответить."
   ]
  },
  {
   "cell_type": "code",
   "execution_count": 11,
   "id": "abdb8417-c5dc-44bc-9bee-2e059d162699",
   "metadata": {},
   "outputs": [],
   "source": [
    "# Определите наше системное приглашение - вы можете поэкспериментировать с этим позже, изменив последнее предложение на \"Ответить в markdown на испанском\".\n",
    "\n",
    "system_prompt = \"Вы - ассистент, который анализирует содержимое веб-сайта \\\n",
    "и выдает краткое резюме, игнорируя текст, который может быть связан с навигацией. \\\n",
    "Ответьте в markdown.\""
   ]
  },
  {
   "cell_type": "code",
   "execution_count": null,
   "id": "f0275b1b-7cfe-4f9d-abfa-7650d378da0c",
   "metadata": {},
   "outputs": [],
   "source": [
    "# Функция, которая отправляет запрос пользователю на получение краткой информации о веб-сайтах:\n",
    "\n",
    "def user_prompt_for(website):\n",
    "    user_prompt = f\"Вы просматриваете веб-сайт под названием {website.title}\"\n",
    "    user_prompt += \"\\nНиже приведено содержание этого веб-сайта; \\\n",
    "        пожалуйста, предоставьте краткую информацию об этом веб-сайте в markdown. \\\n",
    "        Если на нем есть новости или объявления, то кратко опишите и их.\\n\\n\"\n",
    "    user_prompt += website.text\n",
    "    return user_prompt"
   ]
  },
  {
   "cell_type": "code",
   "execution_count": 13,
   "id": "26448ec4-5c00-4204-baec-7df91d11ff2e",
   "metadata": {},
   "outputs": [
    {
     "name": "stdout",
     "output_type": "stream",
     "text": [
      "Вы просматриваете веб-сайт под названием Home - Edward Donner\n",
      "Ниже приведено содержание этого веб-сайта; пожалуйста, предоставьте краткую информацию об этом веб-сайте в markdown. Если на нем есть новости или объявления, то кратко опишите и их.\n",
      "\n",
      "Home\n",
      "Connect Four\n",
      "Outsmart\n",
      "An arena that pits LLMs against each other in a battle of diplomacy and deviousness\n",
      "About\n",
      "Posts\n",
      "Well, hi there.\n",
      "I’m Ed. I like writing code and experimenting with LLMs, and hopefully you’re here because you do too. I also enjoy DJing (but I’m badly out of practice), amateur electronic music production (\n",
      "very\n",
      "amateur) and losing myself in\n",
      "Hacker News\n",
      ", nodding my head sagely to things I only half understand.\n",
      "I’m the co-founder and CTO of\n",
      "Nebula.io\n",
      ". We’re applying AI to a field where it can make a massive, positive impact: helping people discover their potential and pursue their reason for being. Recruiters use our product today to source, understand, engage and manage talent. I’m previously the founder and CEO of AI startup untapt,\n",
      "acquired in 2021\n",
      ".\n",
      "We work with groundbreaking, proprietary LLMs verticalized for talent, we’ve\n",
      "patented\n",
      "our matching model, and our award-winning platform has happy customers and tons of press coverage.\n",
      "Connect\n",
      "with me for more!\n",
      "May 28, 2025\n",
      "Connecting my courses – become an LLM expert and leader\n",
      "May 18, 2025\n",
      "2025 AI Executive Briefing\n",
      "April 21, 2025\n",
      "The Complete Agentic AI Engineering Course\n",
      "January 23, 2025\n",
      "LLM Workshop – Hands-on with Agents – resources\n",
      "Navigation\n",
      "Home\n",
      "Connect Four\n",
      "Outsmart\n",
      "An arena that pits LLMs against each other in a battle of diplomacy and deviousness\n",
      "About\n",
      "Posts\n",
      "Get in touch\n",
      "ed [at] edwarddonner [dot] com\n",
      "www.edwarddonner.com\n",
      "Follow me\n",
      "LinkedIn\n",
      "Twitter\n",
      "Facebook\n",
      "Subscribe to newsletter\n",
      "Type your email…\n",
      "Subscribe\n"
     ]
    }
   ],
   "source": [
    "print(user_prompt_for(ed))"
   ]
  },
  {
   "cell_type": "markdown",
   "id": "ea211b5f-28e1-4a86-8e52-c0b7677cadcc",
   "metadata": {},
   "source": [
    "## Сообщения\n",
    "\n",
    "API от OpenAI рассчитывает получать сообщения в определенной структуре.\n",
    "Многие другие API имеют такую же структуру:\n",
    "\n",
    "```python\n",
    "[\n",
    "    {\"role\": \"system\", \"content\": \"system message goes here\"},\n",
    "    {\"role\": \"user\", \"content\": \"user message goes here\"}\n",
    "]\n",
    "```\n",
    "Чтобы дать вам предварительный обзор, следующие 2 ячейки выполняют довольно простой вызов - мы не будем растягивать мощный GPT (пока!)."
   ]
  },
  {
   "cell_type": "code",
   "execution_count": 14,
   "id": "f25dcd35-0cd0-4235-9f64-ac37ed9eaaa5",
   "metadata": {},
   "outputs": [],
   "source": [
    "messages = [\n",
    "    {\"role\": \"system\", \"content\": \"Ты язвительный ассистент\"},\n",
    "    {\"role\": \"user\", \"content\": \"Что такое 2 + 2??\"}\n",
    "]"
   ]
  },
  {
   "cell_type": "code",
   "execution_count": 15,
   "id": "21ed95c5-7001-47de-a36d-1d6673b403ce",
   "metadata": {},
   "outputs": [
    {
     "name": "stdout",
     "output_type": "stream",
     "text": [
      "Ох, ну конечно! Ты правда не знаешь? Да ладно тебе... Это же элементарно! 2 + 2 = 4. Неужели математика в школе проходила мимо тебя? Или ты просто решил проверить мою реакцию? Ну что ж, я ответил. Надеюсь, теперь ты немного умнее. 😉\n",
      "\n"
     ]
    }
   ],
   "source": [
    "# Чтобы предоставить вам предварительный просмотр - вызов OpenAI с системными и пользовательскими сообщениями:\n",
    "\n",
    "response = openai.chat.completions.create(model=\"google/gemma-3-12b\", messages=messages)\n",
    "print(response.choices[0].message.content)"
   ]
  },
  {
   "cell_type": "markdown",
   "id": "d06e8d78-ce4c-4b05-aa8e-17050c82bb47",
   "metadata": {},
   "source": [
    "## А теперь давайте создадим полезные сообщения для GPT-4o-mini, используя функцию"
   ]
  },
  {
   "cell_type": "code",
   "execution_count": 16,
   "id": "0134dfa4-8299-48b5-b444-f2a8c3403c88",
   "metadata": {},
   "outputs": [],
   "source": [
    "# Посмотрите, как эта функция создает именно такой формат, как указано выше.\n",
    "\n",
    "def messages_for(website):\n",
    "    return [\n",
    "        {\"role\": \"system\", \"content\": system_prompt},\n",
    "        {\"role\": \"user\", \"content\": user_prompt_for(website)}\n",
    "    ]"
   ]
  },
  {
   "cell_type": "code",
   "execution_count": 17,
   "id": "36478464-39ee-485c-9f3f-6a4e458dbc9c",
   "metadata": {},
   "outputs": [
    {
     "data": {
      "text/plain": [
       "[{'role': 'system',\n",
       "  'content': 'Вы - ассистент, который анализирует содержимое веб-сайта и выдает краткое резюме, игнорируя текст, который может быть связан с навигацией. Ответьте в markdown.'},\n",
       " {'role': 'user',\n",
       "  'content': 'Вы просматриваете веб-сайт под названием Home - Edward Donner\\nНиже приведено содержание этого веб-сайта; пожалуйста, предоставьте краткую информацию об этом веб-сайте в markdown. Если на нем есть новости или объявления, то кратко опишите и их.\\n\\nHome\\nConnect Four\\nOutsmart\\nAn arena that pits LLMs against each other in a battle of diplomacy and deviousness\\nAbout\\nPosts\\nWell, hi there.\\nI’m Ed. I like writing code and experimenting with LLMs, and hopefully you’re here because you do too. I also enjoy DJing (but I’m badly out of practice), amateur electronic music production (\\nvery\\namateur) and losing myself in\\nHacker News\\n, nodding my head sagely to things I only half understand.\\nI’m the co-founder and CTO of\\nNebula.io\\n. We’re applying AI to a field where it can make a massive, positive impact: helping people discover their potential and pursue their reason for being. Recruiters use our product today to source, understand, engage and manage talent. I’m previously the founder and CEO of AI startup untapt,\\nacquired in 2021\\n.\\nWe work with groundbreaking, proprietary LLMs verticalized for talent, we’ve\\npatented\\nour matching model, and our award-winning platform has happy customers and tons of press coverage.\\nConnect\\nwith me for more!\\nMay 28, 2025\\nConnecting my courses – become an LLM expert and leader\\nMay 18, 2025\\n2025 AI Executive Briefing\\nApril 21, 2025\\nThe Complete Agentic AI Engineering Course\\nJanuary 23, 2025\\nLLM Workshop – Hands-on with Agents – resources\\nNavigation\\nHome\\nConnect Four\\nOutsmart\\nAn arena that pits LLMs against each other in a battle of diplomacy and deviousness\\nAbout\\nPosts\\nGet in touch\\ned [at] edwarddonner [dot] com\\nwww.edwarddonner.com\\nFollow me\\nLinkedIn\\nTwitter\\nFacebook\\nSubscribe to newsletter\\nType your email…\\nSubscribe'}]"
      ]
     },
     "execution_count": 17,
     "metadata": {},
     "output_type": "execute_result"
    }
   ],
   "source": [
    "# Попробуйте это, а затем зайдите на еще несколько веб-сайтов.\n",
    "\n",
    "messages_for(ed)"
   ]
  },
  {
   "cell_type": "markdown",
   "id": "16f49d46-bf55-4c3e-928f-68fc0bf715b0",
   "metadata": {},
   "source": [
    "## Пришло время объединить усилия - API для OpenAI очень прост!"
   ]
  },
  {
   "cell_type": "code",
   "execution_count": 18,
   "id": "905b9919-aba7-45b5-ae65-81b3d1d78e34",
   "metadata": {},
   "outputs": [],
   "source": [
    "# # А теперь: вызовите Openai API. Вы скоро с этим познакомитесь!\n",
    "\n",
    "def summarize(url):\n",
    "    website = Website(url)\n",
    "    response = openai.chat.completions.create(\n",
    "        model = \"google/gemma-3-12b\",\n",
    "        messages = messages_for(website)\n",
    "    )\n",
    "    return response.choices[0].message.content"
   ]
  },
  {
   "cell_type": "code",
   "execution_count": 19,
   "id": "05e38d41-dfa4-4b20-9c96-c46ea75d9fb5",
   "metadata": {},
   "outputs": [
    {
     "data": {
      "text/plain": [
       "'# Edward Donner - Summary\\n\\nThis website belongs to Ed, a person who enjoys coding and experimenting with LLMs. He is the co-founder and CTO of [Nebula.io](https://www.nebula.io), a company applying AI to help people discover their potential in talent acquisition. Previously, he founded and was CEO of an AI startup called Untapt, which was acquired in 2021. They have patented matching models and received press coverage for their award-winning platform.\\n\\n**Recent Posts/News:**\\n\\n*   **May 28, 2025:** Announcing courses to become an LLM expert and leader.\\n*   **May 18, 2025:**  AI Executive Briefing for 2025.\\n*   **April 21, 2025:** Announcement of \"The Complete Agentic AI Engineering Course.\"\\n*   **January 23, 2025:** LLM Workshop focused on Agents and resources.\\n\\nHe also has a project called \"Outsmart,\" described as an arena where LLMs compete in diplomacy and deviousness.'"
      ]
     },
     "execution_count": 19,
     "metadata": {},
     "output_type": "execute_result"
    }
   ],
   "source": [
    "summarize(\"https://edwarddonner.com\")"
   ]
  },
  {
   "cell_type": "code",
   "execution_count": 20,
   "id": "3d926d59-450e-4609-92ba-2d6f244f1342",
   "metadata": {},
   "outputs": [],
   "source": [
    "# A function to display this nicely in the Jupyter output, using markdown\n",
    "\n",
    "def display_summary(url):\n",
    "    summary = summarize(url)\n",
    "    display(Markdown(summary))"
   ]
  },
  {
   "cell_type": "code",
   "execution_count": 21,
   "id": "3018853a-445f-41ff-9560-d925d1774b2f",
   "metadata": {},
   "outputs": [
    {
     "data": {
      "text/markdown": [
       "# Edward Donner - Summary\n",
       "\n",
       "This website belongs to Ed, a person who enjoys coding and experimenting with LLMs. He is the co-founder and CTO of Nebula.io, a company applying AI to help people discover their potential in talent acquisition. Previously, he founded and led AI startup untapt, which was acquired in 2021.  Nebula.io has patented matching models and received press coverage for its award-winning platform.\n",
       "\n",
       "**Recent Posts/Announcements:**\n",
       "\n",
       "*   **May 28, 2025:** Announcement about connecting courses to become an LLM expert.\n",
       "*   **May 18, 2025:**  2025 AI Executive Briefing.\n",
       "*   **April 21, 2025:** The Complete Agentic AI Engineering Course.\n",
       "*   **January 23, 2025:** LLM Workshop – Hands-on with Agents - resources.\n",
       "\n",
       "He also has a project called \"Outsmart,\" described as an arena where LLMs compete in diplomacy and deviousness."
      ],
      "text/plain": [
       "<IPython.core.display.Markdown object>"
      ]
     },
     "metadata": {},
     "output_type": "display_data"
    }
   ],
   "source": [
    "display_summary(\"https://edwarddonner.com\")"
   ]
  },
  {
   "cell_type": "markdown",
   "id": "b3bcf6f4-adce-45e9-97ad-d9a5d7a3a624",
   "metadata": {},
   "source": [
    "# Давайте попробуем другие веб-сайты\n",
    "\n",
    "Обратите внимание, что это будет работать только с веб-сайтами, которые можно очистить, используя этот упрощенный подход.\n",
    "\n",
    "Веб-сайты, отображаемые с помощью Javascript, такие как приложения React, отображаться не будут. Смотрите папку community-contributions для реализации Selenium, которая позволяет обойти эту проблему. Вам нужно будет прочитать об установке Selenium (спросите у ChatGPT!)\n",
    "\n",
    "Также веб-сайты, защищенные с помощью CloudFront (и подобных), могут выдавать 403 ошибки - большое спасибо Энди Джею за указание на это.\n",
    "\n",
    "Но многие веб-сайты будут работать просто отлично!"
   ]
  },
  {
   "cell_type": "code",
   "execution_count": 22,
   "id": "45d83403-a24c-44b5-84ac-961449b4008f",
   "metadata": {},
   "outputs": [
    {
     "data": {
      "text/markdown": [
       "## CNN - Breaking News, Latest News and Videos\n",
       "\n",
       "CNN is a news website providing breaking news, latest updates, videos, and analysis on various topics. The site features content across several categories including:\n",
       "\n",
       "*   **World:** Coverage of international events, including the ongoing **Israel-Hamas War** and **Ukraine-Russia War**.\n",
       "*   **US Politics:** Updates on US politics, including coverage of **Trump**, elections, and polls.\n",
       "*   **Business:** News related to technology, media, markets, investing, and more.\n",
       "*   **Health & Wellness:** Articles and videos focusing on health, fitness, food, sleep, and relationships.\n",
       "*   **Entertainment:** Coverage of movies, television, celebrity news, and innovative technologies.\n",
       "*   **Sports:** Updates on various sports including football, tennis, golf, motorsport, and more.\n",
       "*   **Science & Climate:** News related to space, climate change, and environmental issues.\n",
       "\n",
       "**Current Top Story:** The website is heavily focused on the **Israel-Iran conflict**, with live updates detailing missile strikes, military responses, and diplomatic efforts. There are reports of Iranian commanders being killed and internet restrictions in Iran.  There's also coverage of a potential US involvement and India evacuating nationals from Iran.\n",
       "\n",
       "**Other Notable News:**\n",
       "\n",
       "*   China tightening internet controls\n",
       "*   Armed rebels taking control of Heineken facilities in DR Congo\n",
       "*   Suspect in Minnesota lawmaker attacks drafted a ‘bailout plan’ for his wife."
      ],
      "text/plain": [
       "<IPython.core.display.Markdown object>"
      ]
     },
     "metadata": {},
     "output_type": "display_data"
    }
   ],
   "source": [
    "display_summary(\"https://cnn.com\")"
   ]
  },
  {
   "cell_type": "code",
   "execution_count": 23,
   "id": "75e9fd40-b354-4341-991e-863ef2e59db7",
   "metadata": {},
   "outputs": [
    {
     "data": {
      "text/markdown": [
       "## Anthropic: AI Research & Products Focused on Safety\n",
       "\n",
       "Anthropic is a company dedicated to building safe and beneficial AI. Their primary product is **Claude**, an advanced AI model available in various versions including:\n",
       "\n",
       "*   **Claude Opus 4:** Their most intelligent model, now generally available.\n",
       "*   **Claude Sonnet 4:** A powerful model for coding and AI agents.\n",
       "*   **Claude Haiku 3.5:** (Mentioned but details are limited)\n",
       "\n",
       "**Key Features & Offerings:**\n",
       "\n",
       "*   **AI Models:** Claude is designed to handle complex tasks, including hours of work across various applications.\n",
       "*   **API Access:** Developers can leverage the Claude API to build AI-powered applications and custom experiences.\n",
       "*   **Research Focus:** Anthropic conducts extensive research in areas like AI safety, interpretability, and societal impacts. They publish findings on topics such as \"Tracing the thoughts of a large language model\" and the \"Anthropic Economic Index.\"\n",
       "*   **Responsible Scaling Policy:**  They are committed to responsible AI development with a focus on human benefit.\n",
       "*   **Anthropic Academy:** Provides learning resources for building with Claude.\n",
       "\n",
       "**Recent News & Announcements:**\n",
       "\n",
       "*   **ISO 42001 Certification:** Recently achieved this certification, demonstrating their commitment to security and compliance.\n",
       "*   **Claude Opus 4 Release:** Their most intelligent model is now available.\n",
       "*   **New Model Releases:** Recent updates include Claude 3.7 Sonnet and Claude Code.\n",
       "\n",
       "\n",
       "\n",
       "**Overall Mission:** Anthropic aims to build AI that serves humanity's long-term well-being, prioritizing safety and responsible development."
      ],
      "text/plain": [
       "<IPython.core.display.Markdown object>"
      ]
     },
     "metadata": {},
     "output_type": "display_data"
    }
   ],
   "source": [
    "display_summary(\"https://anthropic.com\")"
   ]
  },
  {
   "cell_type": "markdown",
   "id": "c951be1a-7f1b-448f-af1f-845978e47e2c",
   "metadata": {},
   "source": [
    "<table style=\"margin: 0; text-align: left;\">\n",
    "    <tr>\n",
    "        <td style=\"width: 150px; height: 150px; vertical-align: middle;\">\n",
    "            <img src=\"../business.jpg\" width=\"150\" height=\"150\" style=\"display: block;\" />\n",
    "        </td>\n",
    "        <td>\n",
    "            <h2 style=\"color:#181;\">Бизнес-приложения</h2>\n",
    "            <span style=\"color:#181;\">В этом упражнении вы впервые попробовали использовать облачный API модели Frontier (ведущей модели на переднем крае искусственного интеллекта). На многих этапах курса мы будем использовать API, такие как Opengl, в дополнение к созданию собственных приложений.\n",
    "\n",
    "Более конкретно, мы применили это к обобщению - классическому варианту общего использования для составления резюме. Это может быть применено к любой вертикали бизнеса - обобщение новостей, финансовых показателей, резюме в сопроводительном письме - возможности применения безграничны. Подумайте, как вы могли бы применить обобщение в своем бизнесе, и попробуйте создать прототип решения.</span>\n",
    "        </td>\n",
    "    </tr>\n",
    "</table>\n",
    "\n",
    "<table style=\"margin: 0; text-align: left;\">\n",
    "    <tr>\n",
    "        <td style=\"width: 150px; height: 150px; vertical-align: middle;\">\n",
    "            <img src=\"../important.jpg\" width=\"150\" height=\"150\" style=\"display: block;\" />\n",
    "        </td>\n",
    "        <td>\n",
    "            <h2 style=\"color:#900;\">Прежде чем вы продолжите - теперь попробуйте сами</h2>\n",
    "            <span style=\"color:#900;\">Воспользуйтесь приведенной ниже ячейкой, чтобы создать свой собственный простой коммерческий пример. Пока придерживайтесь обобщенного варианта использования. Вот идея: напишите что-нибудь, что будет соответствовать содержанию электронного письма, и предложите подходящую короткую тему для письма. Именно такая функция может быть встроена в коммерческий инструмент электронной почты.</span>\n",
    "        </td>\n",
    "    </tr>\n",
    "</table>"
   ]
  },
  {
   "cell_type": "code",
   "execution_count": 26,
   "id": "00743dac-0e70-45b7-879a-d7293a6f68a6",
   "metadata": {},
   "outputs": [
    {
     "name": "stdout",
     "output_type": "stream",
     "text": [
      "## Коммерческое предложение: Белок соевый Опттема M-03 текстурированный\n",
      "\n",
      "**Уважаемые коллеги!**\n",
      "\n",
      "Предлагаем вашему вниманию высококачественный **белок соевый Опттема M-03 текстурированный** от компании \"Ингредиенты Развития\".\n",
      "\n",
      "**Преимущества:**\n",
      "\n",
      "*   **Текстура:** Идеальная замена мяса в производстве котлет, фарша и других мясных продуктов.\n",
      "*   **Замена:** Позволяет заменить до **50%** мясного компонента без потери вкуса и текстуры.\n",
      "*   **Фасовка:** Доступен в упаковках по **25 кг**.\n",
      "\n",
      "**Информация о продукте (с сайта ingredienty-razvitie.ru):**\n",
      "\n",
      "[Ссылка на продукт](https://ingredienty-razvitie.ru/catalog/belok-soevyj-optema-m-03-teksturnyj/)\n",
      "\n",
      "**Контактная информация:**\n",
      "\n",
      "*   Телефон: +7 (495) 665-82-88\n",
      "*   Email: info@ingredienty-razvitie.ru\n",
      "*   Сайт: [https://ingredienty-razvitie.ru/](https://ingredienty-razvitie.ru/)\n",
      "\n",
      "**Будем рады обсудить детали сотрудничества!**\n",
      "\n",
      "---\n",
      "\n",
      "**С уважением,**\n",
      "\n",
      "Ваш ассистент.\n"
     ]
    }
   ],
   "source": [
    "# Шаг 1: Создайте свой промт\n",
    "\n",
    "system_prompt = \"Вы - ассистент, который пишет письма с комерческим предложением. \\\n",
    "Пиши лаконично на русском языке. \\\n",
    "Ответьте в markdown.\"\n",
    "user_prompt = \"\"\"\n",
    "    Сходи на сайт https://ingredienty-razvitie.ru и составь коммерческое предложение по продукту\n",
    "    Белок соевый Опттема M-03 текстурированный.\n",
    "    Найди на сайте информацию о продукте и добавь ее в письмо (фасовка, процент замены).\n",
    "    Найди на сайте контактную информацию и добавь ее в письмо.\n",
    "\"\"\"\n",
    "\n",
    "# Шаг 2: Составьте список сообщений\n",
    "\n",
    "messages = [\n",
    "    {\"role\": \"system\", \"content\": system_prompt},\n",
    "    {\"role\": \"user\", \"content\": user_prompt}\n",
    "] # заполните это\n",
    "\n",
    "# Шаг 3: Позвоните в OpenAI\n",
    "\n",
    "response = openai.chat.completions.create(model=\"google/gemma-3-12b\", messages=messages)\n",
    "\n",
    "# Шаг 4: распечатайте результат\n",
    "\n",
    "print(response.choices[0].message.content)"
   ]
  },
  {
   "cell_type": "markdown",
   "id": "36ed9f14-b349-40e9-a42c-b367e77f8bda",
   "metadata": {},
   "source": [
    "## Дополнительное упражнение для тех, кто любит чистить паутину.\n",
    "\n",
    "Вы можете заметить, что если вы попробуете `display_summary(\"https://openai.com\")` - это не сработает! Это потому, что у OpenAI есть необычный веб-сайт, использующий Javascript. Есть много способов обойти это, с которыми некоторые из вас, возможно, знакомы. Например, Selenium - это чрезвычайно популярный фреймворк, который запускает браузер за кулисами, отображает страницу и позволяет вам запрашивать ее. Если у вас есть опыт работы с Selenium, Playground или аналогичными программами, то не стесняйтесь улучшать класс веб-сайта, чтобы использовать их. В папке \"Вклады сообщества\" вы найдете пример решения Selenium от студента (спасибо!)."
   ]
  },
  {
   "cell_type": "markdown",
   "id": "eeab24dc-5f90-4570-b542-b0585aca3eb6",
   "metadata": {},
   "source": [
    "# Поделитесь своим кодом\n",
    "\n",
    "Я был бы рад, если бы вы впоследствии поделились своим кодом, чтобы я мог поделиться им с другими! Вы заметите, что некоторые студенты уже внесли изменения (включая реализацию Selenium), которые вы найдете в папке \"Вклады сообщества\". Если вы хотите добавить свои изменения в эту папку, отправьте запрос на добавление ваших новых версий в эту папку, и я объединю ваши изменения.\n",
    "\n",
    "Если вы не являетесь экспертом в git (а я им не являюсь!), то БОГ дал несколько полезных инструкций о том, как отправлять запрос на удаление. Это довольно сложный процесс, но как только вы его выполните, все станет совершенно ясно. Совет профессионала: лучше всего, если вы очистите выходные данные своих записных книжек Jupyter (Отредактируйте >> Очистите выходные данные всех ячеек, а затем сохраните) для чистых записных книжек.\n",
    "\n",
    "Вот полезные инструкции, любезно предоставленные другом с искусственным интеллектом.:  \n",
    "https://chatgpt.com/share/677a9cb5-c64c-8012-99e0-e06e88afd293"
   ]
  },
  {
   "cell_type": "code",
   "execution_count": null,
   "id": "f4484fcf-8b39-4c3f-9674-37970ed71988",
   "metadata": {},
   "outputs": [],
   "source": []
  }
 ],
 "metadata": {
  "kernelspec": {
   "display_name": "llms",
   "language": "python",
   "name": "python3"
  },
  "language_info": {
   "codemirror_mode": {
    "name": "ipython",
    "version": 3
   },
   "file_extension": ".py",
   "mimetype": "text/x-python",
   "name": "python",
   "nbconvert_exporter": "python",
   "pygments_lexer": "ipython3",
   "version": "3.11.13"
  }
 },
 "nbformat": 4,
 "nbformat_minor": 5
}
