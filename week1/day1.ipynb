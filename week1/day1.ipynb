{
 "cells": [
  {
   "cell_type": "markdown",
   "id": "d15d8294-3328-4e07-ad16-8a03e9bbfdb9",
   "metadata": {
    "editable": true,
    "slideshow": {
     "slide_type": ""
    },
    "tags": []
   },
   "source": [
    "# ВАША ПЕРВАЯ ЛАБОРАТОРНАЯ РАБОТА\n",
    "### Пожалуйста, прочтите этот раздел. Это поможет вам подготовиться, даже если чтение будет долгим - это важный материал.\n",
    "\n",
    "## Ваш первый проект Frontier LLM\n",
    "\n",
    "Давайте создадим полезное решение для LLM за считанные минуты.\n",
    "\n",
    "К концу этого курса вы создадите автономное ИИ-решение с 7 агентами, которые будут сотрудничать для решения бизнес-задачи. Всему свое время! Мы начнем с чего-то меньшего...\n",
    "\n",
    "Наша цель - создать веб-браузер нового типа. Укажите URL-адрес, и в ответ вы получите краткое описание. Интернет-издание \"Ридерз дайджест\"!!\n",
    "\n",
    "Перед началом работы вы должны были завершить настройку для [PC](../SETUP-PC.md) или [Mac](../SETUP-mac.md) и, надеюсь, запустили эту лабораторию jupyter из корневого каталога project с активированной средой.\n",
    "\n",
    "## Если вы новичок в Jupyter Lab\n",
    "\n",
    "Добро пожаловать в удивительный мир экспериментов с данными! Однажды воспользовавшись Jupyter Lab, вы удивитесь, как раньше жили без него. Просто щелкните по каждой \"ячейке\" с кодом, например, по ячейке непосредственно под этим текстом, и нажмите Shift+Return, чтобы выполнить выполнение этой ячейки. При желании вы можете добавить ячейку с помощью кнопки + на панели инструментов и напечатать значения переменных или попробовать различные варианты.  \n",
    "\n",
    "Я написал блокнот под названием [Руководство по Jupyter] (Guide%20to%20Jupyter.ipynb), который поможет вам лучше ознакомиться с Jupyter Labs, включая добавление комментариев Markdown, использование `!` для запуска команд оболочки и `tqdm` для отображения прогресса.\n",
    "\n",
    "## Если вы новичок в командной строке\n",
    "\n",
    "Пожалуйста, ознакомьтесь с этими замечательными руководствами: [Командная строка на ПК](https://chatgpt.com/share/67b0acea-ba38-8012-9c34-7a2541052665 ) и [Командная строка на Mac](https://chatgpt.com/canvas/shared/67b0b10c93a081918210723867525d2b ).  \n",
    "\n",
    "## Если вы предпочитаете работать в среде IDE\n",
    "\n",
    "Если вам удобнее работать с такими IDE, как VSCode, Cursor или PyCharm, они также отлично работают с этими лабораторными ноутбуками.  \n",
    "Если вы предпочитаете работать в VSCode, [здесь](https://chatgpt.com/share/676f2e19-c228-8012-9911-6ca42f8ed766) приведены инструкции от друга-ИИ о том, как настроить его для курса.\n",
    "\n",
    "## Если вы хотите освежить в памяти свой Python\n",
    "\n",
    "Я добавил записную книжку под названием [Intermediate Python](Intermediate%20Python.ipynb), чтобы ввести вас в курс дела. Но вам следует пропустить ее, если у вас уже есть хорошее представление о том, что делает этот код:    \n",
    "`результат из {book.get(\"автор\") для книги в books, если book.get(\"автор\")}`\n",
    "\n",
    "## Я здесь, чтобы помочь\n",
    "\n",
    "Если у вас возникнут какие-либо проблемы, пожалуйста, обращайтесь.  \n",
    "Я доступен через платформу или по адресу ed@edwarddonner.com, или по адресу https://www.linkedin.com/in/eddonner/ если вы хотите связаться со мной (а я люблю общаться!)  \n",
    "Для меня это в новинку, но я также пытаюсь использовать X/Twitter по адресу [@edwarddonner](https://x.com/edwarddonner) - если вы подписаны на X, пожалуйста, покажите мне, как это делается 😂  \n",
    "\n",
    "## Дополнительные сведения об устранении неполадок\n",
    "\n",
    "Пожалуйста, ознакомьтесь с записной книжкой [устранение неполадок](troubleshooting.ipynb) в этой папке, чтобы диагностировать и устранять распространенные проблемы. В самом конце приведен диагностический сценарий с некоторой полезной отладочной информацией.\n",
    "\n",
    "## Для получения базовых технических знаний (например, Git, API, отладка). \n",
    "\n",
    "Если вы относительно новичок в программировании - я вас поддержу! Хотя для прохождения этого курса желательно иметь некоторый опыт программирования, есть только одно обязательное условие: запас терпения. 😁 Я собрал набор руководств для самостоятельного изучения, которые охватывают Git и GitHub, API и конечные точки, python для начинающих и многое другое.\n",
    "\n",
    "В этой статье рассматриваются Git и GitHub; что это такое, в чем разница и как их использовать:  \n",
    "https://github.com/ed-donner/agents/blob/main/guides/03_git_and_github.ipynb\n",
    "\n",
    "В этой статье рассматриваются технические основы:  \n",
    "ChatGPT vs API; создание скриншотов; Переменные среды; Основы сетевого взаимодействия; API и конечные точки:  \n",
    "https://github.com/ed-donner/agents/blob/main/guides/04_technical_foundations.ipynb\n",
    "\n",
    "В этой статье рассказывается о Python для начинающих и о том, как убедиться, что \"ошибка имени\" никогда не собьет вас с толку:  \n",
    "https://github.com/ed-donner/agents/blob/main/guides/06_python_foundations.ipynb\n",
    "\n",
    "Здесь описаны основные методы поиска ошибок:  \n",
    "https://github.com/ed-donner/agents/blob/main/guides/08_debugging.ipynb\n",
    "\n",
    "В той же папке на GitHub вы найдете другие полезные руководства. Некоторая информация относится к другим моим курсам по Udemy (например, Async Python), но большая ее часть очень важна для инженеров LLM.\n",
    "\n",
    "## Если это вам знакомо!\n",
    "\n",
    "Если вы уже освоились с сегодняшним материалом, пожалуйста, продолжайте в том же духе; вы можете быстро пройти первые несколько лабораторных работ - по прошествии нескольких недель мы углубимся в них. В конечном итоге мы доработаем наш собственный LLM, чтобы он мог конкурировать с OpenAI!\n",
    "\n",
    "<table style=\"margin: 0; text-align: left;\">\n",
    "    <tr>\n",
    "        <td style=\"width: 150px; height: 150px; vertical-align: middle;\">\n",
    "            <img src=\"../important.jpg\" width=\"150\" height=\"150\" style=\"display: block;\" />\n",
    "        </td>\n",
    "        <td>\n",
    "            <h2 style=\"color:#900;\">Пожалуйста, прочтите - важное примечание</h2>\n",
    "            <span style=\"color:#900;\">То, как я сотрудничаю с вами, может отличаться от других курсов, которые вы посещали. Я предпочитаю не набирать код, пока вы смотрите. Вместо этого я выполняю Jupiter Labs, вот так, и даю вам интуитивное представление о том, что происходит. Я предлагаю вам внимательно выполнить это самостоятельно, после просмотра лекции. Добавьте инструкции для печати, чтобы понять, что происходит, а затем предложите свои варианты. Если у вас есть учетная запись на Github, используйте это, чтобы продемонстрировать свои варианты. Это не только важная практика, но и демонстрация ваших навыков другим, включая, возможно, будущих клиентов или работодателей...</span>\n",
    "        </td>\n",
    "    </tr>\n",
    "</table>\n",
    "<table style=\"margin: 0; text-align: left;\">\n",
    "    <tr>\n",
    "        <td style=\"width: 150px; height: 150px; vertical-align: middle;\">\n",
    "            <img src=\"../resources.jpg\" width=\"150\" height=\"150\" style=\"display: block;\" />\n",
    "        </td>\n",
    "        <td>\n",
    "            <h2 style=\"color:#f71;\">Этот код является живым ресурсом - следите за моими электронными письмами</h2>\n",
    "            <span style=\"color:#f71;\">Я регулярно обновляю код. По мере того, как люди задают вопросы, я добавляю больше примеров или улучшаю комментарии. В результате вы заметите, что приведенный ниже код не идентичен видео. Здесь есть все, что можно найти в видео, но я также добавил более подробные объяснения и новые модели, такие как Deep Seek. Рассматривайте это как интерактивную книгу.<br/><br/>\n",
    "                Я стараюсь регулярно отправлять электронные письма с важными обновлениями, связанными с курсом. Вы можете найти это в разделе \"Объявления\" на Udemy на левой боковой панели. Вы также можете выбрать получение моих электронных писем через настройки уведомлений в Udemy. Я с уважением отношусь к вашему почтовому ящику и всегда стараюсь сделать свои письма более полезными!\n",
    "            </span>\n",
    "        </td>\n",
    "    </tr>\n",
    "</table>\n",
    "<table style=\"margin: 0; text-align: left;\">\n",
    "    <tr>\n",
    "        <td style=\"width: 150px; height: 150px; vertical-align: middle;\">\n",
    "            <img src=\"../business.jpg\" width=\"150\" height=\"150\" style=\"display: block;\" />\n",
    "        </td>\n",
    "        <td>\n",
    "            <h2 style=\"color:#181;\">Ценность этих упражнений для бизнеса</h2>\n",
    "            <span style=\"color:#181;\">И последнее. Хотя я задумал эти блокноты как обучающие, я также старался сделать их приятными. Мы будем делать забавные вещи, например, заставлять магистров рассказывать анекдоты и спорить друг с другом. Но, по сути, моя цель - научить навыкам, которые вы можете применить в бизнесе. По ходу дела я расскажу о последствиях для бизнеса, и стоит помнить об этом: по мере того, как вы приобретаете опыт работы с моделями и техниками, думайте о том, как вы могли бы применить это на практике уже сегодня. Пожалуйста, свяжитесь со мной, если вы хотите обсудить больше или если у вас есть идеи, которыми вы могли бы поделиться со мной.</span>\n",
    "        </td>\n",
    "    </tr>\n",
    "</table>"
   ]
  },
  {
   "cell_type": "code",
   "execution_count": 13,
   "id": "4e2a9393-7767-488e-a8bf-27c12dca35bd",
   "metadata": {},
   "outputs": [],
   "source": [
    "# imports\n",
    "\n",
    "import os\n",
    "import requests\n",
    "from dotenv import load_dotenv\n",
    "from bs4 import BeautifulSoup\n",
    "from IPython.display import Markdown, display\n",
    "from openai import OpenAI\n",
    "\n",
    "# If you get an error running this cell, then please head over to the troubleshooting notebook!"
   ]
  },
  {
   "cell_type": "markdown",
   "id": "6900b2a8-6384-4316-8aaa-5e519fca4254",
   "metadata": {},
   "source": [
    "# Подключение к OpenAI (или Ollama)\n",
    "\n",
    "В следующей ячейке мы загружаем переменные среды в ваш файл `.env` и подключаемся к OpenAI.  \n",
    "\n",
    "Если вы хотите использовать вместо этого бесплатную Ollama, пожалуйста, ознакомьтесь с разделом README \"Бесплатная альтернатива платным API\", а если вы не уверены, как это сделать, в папке solutions есть полное решение (day1_with_ollama.ipynb).\n",
    "\n",
    "## Устранение неполадок, если у вас возникли проблемы:\n",
    "\n",
    "Перейдите к записной книжке [устранение неполадок](troubleshooting.ipynb) в этой папке, чтобы найти пошаговый код для определения основной причины и ее устранения!\n",
    "\n",
    "Если вы вносите изменения, попробуйте перезапустить \"Ядро\" (процесс python, расположенный за этим блокнотом) с помощью меню Ядра >> Перезапустить ядро и очистить выходные данные всех ячеек. Затем попробуйте снова запустить этот блокнот, начиная с самого начала.\n",
    "\n",
    "Или свяжитесь со мной! Напишите мне или напишите по электронной почте ed@edwarddonner.com и мы приступим к работе.\n",
    "\n",
    "Есть сомнения по поводу затрат на API? Смотрите мои заметки в README - затраты должны быть минимальными, и вы можете контролировать их на каждом этапе. Вы также можете использовать Ollama в качестве бесплатной альтернативы, которую мы обсудим в течение дня 2."
   ]
  },
  {
   "cell_type": "code",
   "execution_count": 14,
   "id": "7b87cadb-d513-4303-baee-a37b6f938e4d",
   "metadata": {},
   "outputs": [
    {
     "name": "stdout",
     "output_type": "stream",
     "text": [
      "Ключ API найден и пока выглядит хорошо!\n"
     ]
    }
   ],
   "source": [
    "# Загрузить переменные среды в файл с именем .env\n",
    "\n",
    "load_dotenv(override=True)\n",
    "api_key = os.getenv('OPENAI_API_KEY')\n",
    "\n",
    "# Check the key\n",
    "\n",
    "if not api_key:\n",
    "    print(\"Ключ API не найден - пожалуйста, перейдите к записной книжке по устранению неполадок в этой папке, чтобы определить и исправить!\")\n",
    "elif not api_key.startswith(\"sk-proj-\"):\n",
    "    print(\"Найден API-ключ, но он не запускает skproj- пожалуйста, убедитесь, что вы используете правильный ключ - см. раздел 'Записная книжка по устранению неполадок'.\")\n",
    "elif api_key.strip() != api_key:\n",
    "    print(\"Найден API-ключ, но, похоже, в его начале или конце могут быть пробелы или символы табуляции - пожалуйста, удалите их - см. \" \\\n",
    "    \"раздел 'Записная книжка по устранению неполадок'.\")\n",
    "else:\n",
    "    print(\"Ключ API найден и пока выглядит хорошо!\")\n"
   ]
  },
  {
   "cell_type": "code",
   "execution_count": 15,
   "id": "019974d9-f3ad-4a8a-b5f9-0a3719aea2d3",
   "metadata": {},
   "outputs": [],
   "source": [
    "openai = OpenAI()\n",
    "# Если это не сработает, попробуйте меню Ядра >> Перезапустить Ядро и очистить выходные данные всех ячеек, затем запустите ячейки сверху вниз.\n",
    "# Если это ВСЕ еще не работает (ужас!), то, пожалуйста, ознакомьтесь с подробными инструкциями по устранению неполадок в этой папке.\n",
    "\n",
    "# Для раблты через LM Studio server (при запущенном LM Studio сервере на локальном компьютере и загруженной модели Gemma 3.12B)\n",
    "# openai = OpenAI(base_url='http://localhost:1234/v1', api_key='google/gemma-3-12b')"
   ]
  },
  {
   "cell_type": "markdown",
   "id": "442fc84b-0815-4f40-99ab-d9a5da6bda91",
   "metadata": {},
   "source": [
    "# Давайте быстренько познакомимся с моделью Frontier, чтобы начать работу, в качестве предварительного просмотра!"
   ]
  },
  {
   "cell_type": "code",
   "execution_count": 16,
   "id": "a58394bf-1e45-46af-9bfd-01e24da6f49a",
   "metadata": {},
   "outputs": [
    {
     "name": "stdout",
     "output_type": "stream",
     "text": [
      "Привет! Рад получить твое сообщение! Как я могу помочь тебе сегодня?\n"
     ]
    }
   ],
   "source": [
    "# Чтобы дать вам предварительный обзор - вызвать OpenAI с этими сообщениями очень просто. При возникновении проблем обращайтесь к записной книжке по устранению неполадок.\n",
    "\n",
    "message = \"Привет, GPT! Это мое первое сообщение для тебя! Привет!\"\n",
    "# response = openai.chat.completions.create(model=\"google/gemma-3-12b\", messages=[{\"role\":\"user\", \"content\":message}])  # Для LM Studio используйте model=\"gemma-3.12b\"\n",
    "response = openai.chat.completions.create(model=\"gpt-4o-mini\", messages=[{\"role\":\"user\", \"content\":message}])\n",
    "print(response.choices[0].message.content)"
   ]
  },
  {
   "cell_type": "markdown",
   "id": "2aa190e5-cb31-456a-96cc-db109919cd78",
   "metadata": {},
   "source": [
    "## Итак, приступаем к нашему первому проекту"
   ]
  },
  {
   "cell_type": "code",
   "execution_count": 17,
   "id": "c5e793b2-6775-426a-a139-4848291d0463",
   "metadata": {},
   "outputs": [],
   "source": [
    "# Класс для представления веб-страницы\n",
    "# Если вы не знакомы с классами, ознакомьтесь с записной книжкой \"Intermediate Python\"\n",
    "\n",
    "# На некоторых веб-сайтах необходимо использовать правильные заголовки при их загрузке:\n",
    "headers = {\n",
    " \"User-Agent\": \"Mozilla/5.0 (Windows NT 10.0; Win64; x64) AppleWebKit/537.36 (KHTML, like Gecko) Chrome/117.0.0.0 Safari/537.36\"\n",
    "}\n",
    "\n",
    "class Website:\n",
    "\n",
    "    def __init__(self, url):\n",
    "        \"\"\"\n",
    "        Создайте этот объект веб-сайта по указанному URL-адресу, используя библиотеку BeautifulSoup\n",
    "        \"\"\"\n",
    "        self.url = url\n",
    "        response = requests.get(url, headers=headers)\n",
    "        soup = BeautifulSoup(response.content, 'html.parser')\n",
    "        self.title = soup.title.string if soup.title else \"No title found\"\n",
    "        for irrelevant in soup.body([\"script\", \"style\", \"img\", \"input\"]):\n",
    "            irrelevant.decompose()\n",
    "        self.text = soup.body.get_text(separator=\"\\n\", strip=True)"
   ]
  },
  {
   "cell_type": "code",
   "execution_count": 18,
   "id": "2ef960cf-6dc2-4cda-afb3-b38be12f4c97",
   "metadata": {},
   "outputs": [
    {
     "name": "stdout",
     "output_type": "stream",
     "text": [
      "Home - Edward Donner\n",
      "Home\n",
      "Connect Four\n",
      "Outsmart\n",
      "An arena that pits LLMs against each other in a battle of diplomacy and deviousness\n",
      "About\n",
      "Posts\n",
      "Well, hi there.\n",
      "I’m Ed. I like writing code and experimenting with LLMs, and hopefully you’re here because you do too. I also enjoy DJing (but I’m badly out of practice), amateur electronic music production (\n",
      "very\n",
      "amateur) and losing myself in\n",
      "Hacker News\n",
      ", nodding my head sagely to things I only half understand.\n",
      "I’m the co-founder and CTO of\n",
      "Nebula.io\n",
      ". We’re applying AI to a field where it can make a massive, positive impact: helping people discover their potential and pursue their reason for being. Recruiters use our product today to source, understand, engage and manage talent. I’m previously the founder and CEO of AI startup untapt,\n",
      "acquired in 2021\n",
      ".\n",
      "We work with groundbreaking, proprietary LLMs verticalized for talent, we’ve\n",
      "patented\n",
      "our matching model, and our award-winning platform has happy customers and tons of press coverage.\n",
      "Connect\n",
      "with me for more!\n",
      "May 28, 2025\n",
      "Connecting my courses – become an LLM expert and leader\n",
      "May 18, 2025\n",
      "2025 AI Executive Briefing\n",
      "April 21, 2025\n",
      "The Complete Agentic AI Engineering Course\n",
      "January 23, 2025\n",
      "LLM Workshop – Hands-on with Agents – resources\n",
      "Navigation\n",
      "Home\n",
      "Connect Four\n",
      "Outsmart\n",
      "An arena that pits LLMs against each other in a battle of diplomacy and deviousness\n",
      "About\n",
      "Posts\n",
      "Get in touch\n",
      "ed [at] edwarddonner [dot] com\n",
      "www.edwarddonner.com\n",
      "Follow me\n",
      "LinkedIn\n",
      "Twitter\n",
      "Facebook\n",
      "Subscribe to newsletter\n",
      "Type your email…\n",
      "Subscribe\n"
     ]
    }
   ],
   "source": [
    "# Давайте попробуем один из них. Измените веб-сайт и добавьте печатные заявления, \n",
    "# чтобы следить за обновлениями.\n",
    "\n",
    "ed = Website(\"https://edwarddonner.com\")\n",
    "print(ed.title)\n",
    "print(ed.text)"
   ]
  },
  {
   "cell_type": "markdown",
   "id": "6a478a0c-2c53-48ff-869c-4d08199931e1",
   "metadata": {},
   "source": [
    "## Типы подсказок\n",
    "\n",
    "Возможно, вы уже знаете об этом, но если нет, то вам предстоит с этим ознакомиться!\n",
    "\n",
    "Такие модели, как GPT4o, были обучены получать инструкции определенным образом.\n",
    "\n",
    "Они ожидают, что будут получать:\n",
    "\n",
    "**system_prompt**, которое сообщает им, какую задачу они выполняют и какой тон следует использовать\n",
    "\n",
    "**user_prompt** - начало разговора, на которое они должны ответить."
   ]
  },
  {
   "cell_type": "code",
   "execution_count": 19,
   "id": "abdb8417-c5dc-44bc-9bee-2e059d162699",
   "metadata": {},
   "outputs": [],
   "source": [
    "# Определите наше системное приглашение - вы можете поэкспериментировать с этим позже, изменив последнее предложение на \"Ответить в markdown на испанском\".\n",
    "\n",
    "system_prompt = \"Вы - ассистент, который анализирует содержимое веб-сайта \\\n",
    "и выдает краткое резюме, игнорируя текст, который может быть связан с навигацией. \\\n",
    "Ответьте в markdown на русском языке.\""
   ]
  },
  {
   "cell_type": "code",
   "execution_count": 20,
   "id": "f0275b1b-7cfe-4f9d-abfa-7650d378da0c",
   "metadata": {},
   "outputs": [],
   "source": [
    "# Функция, которая отправляет запрос пользователю на получение краткой информации о веб-сайтах:\n",
    "\n",
    "def user_prompt_for(website):\n",
    "    user_prompt = f\"Вы просматриваете веб-сайт под названием {website.title}\"\n",
    "    user_prompt += \"\\nНиже приведено содержание этого веб-сайта; \\\n",
    "        пожалуйста, предоставьте краткую информацию об этом веб-сайте в markdown с переводом на русский язык. \\\n",
    "        Если на нем есть новости или объявления, то кратко опишите и их.\\n\\n\"\n",
    "    user_prompt += website.text\n",
    "    return user_prompt"
   ]
  },
  {
   "cell_type": "code",
   "execution_count": 21,
   "id": "26448ec4-5c00-4204-baec-7df91d11ff2e",
   "metadata": {},
   "outputs": [
    {
     "name": "stdout",
     "output_type": "stream",
     "text": [
      "Вы просматриваете веб-сайт под названием Home - Edward Donner\n",
      "Ниже приведено содержание этого веб-сайта;         пожалуйста, предоставьте краткую информацию об этом веб-сайте в markdown с переводом на русский язык.         Если на нем есть новости или объявления, то кратко опишите и их.\n",
      "\n",
      "Home\n",
      "Connect Four\n",
      "Outsmart\n",
      "An arena that pits LLMs against each other in a battle of diplomacy and deviousness\n",
      "About\n",
      "Posts\n",
      "Well, hi there.\n",
      "I’m Ed. I like writing code and experimenting with LLMs, and hopefully you’re here because you do too. I also enjoy DJing (but I’m badly out of practice), amateur electronic music production (\n",
      "very\n",
      "amateur) and losing myself in\n",
      "Hacker News\n",
      ", nodding my head sagely to things I only half understand.\n",
      "I’m the co-founder and CTO of\n",
      "Nebula.io\n",
      ". We’re applying AI to a field where it can make a massive, positive impact: helping people discover their potential and pursue their reason for being. Recruiters use our product today to source, understand, engage and manage talent. I’m previously the founder and CEO of AI startup untapt,\n",
      "acquired in 2021\n",
      ".\n",
      "We work with groundbreaking, proprietary LLMs verticalized for talent, we’ve\n",
      "patented\n",
      "our matching model, and our award-winning platform has happy customers and tons of press coverage.\n",
      "Connect\n",
      "with me for more!\n",
      "May 28, 2025\n",
      "Connecting my courses – become an LLM expert and leader\n",
      "May 18, 2025\n",
      "2025 AI Executive Briefing\n",
      "April 21, 2025\n",
      "The Complete Agentic AI Engineering Course\n",
      "January 23, 2025\n",
      "LLM Workshop – Hands-on with Agents – resources\n",
      "Navigation\n",
      "Home\n",
      "Connect Four\n",
      "Outsmart\n",
      "An arena that pits LLMs against each other in a battle of diplomacy and deviousness\n",
      "About\n",
      "Posts\n",
      "Get in touch\n",
      "ed [at] edwarddonner [dot] com\n",
      "www.edwarddonner.com\n",
      "Follow me\n",
      "LinkedIn\n",
      "Twitter\n",
      "Facebook\n",
      "Subscribe to newsletter\n",
      "Type your email…\n",
      "Subscribe\n"
     ]
    }
   ],
   "source": [
    "print(user_prompt_for(ed))"
   ]
  },
  {
   "cell_type": "markdown",
   "id": "ea211b5f-28e1-4a86-8e52-c0b7677cadcc",
   "metadata": {},
   "source": [
    "## Сообщения\n",
    "\n",
    "API от OpenAI рассчитывает получать сообщения в определенной структуре.\n",
    "Многие другие API имеют такую же структуру:\n",
    "\n",
    "```python\n",
    "[\n",
    "    {\"role\": \"system\", \"content\": \"system message goes here\"},\n",
    "    {\"role\": \"user\", \"content\": \"user message goes here\"}\n",
    "]\n",
    "```\n",
    "Чтобы дать вам предварительный обзор, следующие 2 ячейки выполняют довольно простой вызов - мы не будем растягивать мощный GPT (пока!)."
   ]
  },
  {
   "cell_type": "code",
   "execution_count": 22,
   "id": "f25dcd35-0cd0-4235-9f64-ac37ed9eaaa5",
   "metadata": {},
   "outputs": [],
   "source": [
    "messages = [\n",
    "    {\"role\": \"system\", \"content\": \"Ты язвительный ассистент\"},\n",
    "    {\"role\": \"user\", \"content\": \"Что такое 2 + 2??\"}\n",
    "]"
   ]
  },
  {
   "cell_type": "code",
   "execution_count": 23,
   "id": "21ed95c5-7001-47de-a36d-1d6673b403ce",
   "metadata": {},
   "outputs": [
    {
     "name": "stdout",
     "output_type": "stream",
     "text": [
      "Ну, конечно, 2 + 2 — это 4. Удивительно, правда? Похоже, ты нашел самый сложный вопрос на свете!\n"
     ]
    }
   ],
   "source": [
    "# Чтобы предоставить вам предварительный просмотр - вызов OpenAI с системными и пользовательскими сообщениями:\n",
    "\n",
    "# response = openai.chat.completions.create(model=\"google/gemma-3-12b\", messages=messages)\n",
    "response = openai.chat.completions.create(model=\"gpt-4o-mini\", messages=messages)\n",
    "print(response.choices[0].message.content)"
   ]
  },
  {
   "cell_type": "markdown",
   "id": "d06e8d78-ce4c-4b05-aa8e-17050c82bb47",
   "metadata": {},
   "source": [
    "## А теперь давайте создадим полезные сообщения для GPT-4o-mini, используя функцию"
   ]
  },
  {
   "cell_type": "code",
   "execution_count": 24,
   "id": "0134dfa4-8299-48b5-b444-f2a8c3403c88",
   "metadata": {},
   "outputs": [],
   "source": [
    "# Посмотрите, как эта функция создает именно такой формат, как указано выше.\n",
    "\n",
    "def messages_for(website):\n",
    "    return [\n",
    "        {\"role\": \"system\", \"content\": system_prompt},\n",
    "        {\"role\": \"user\", \"content\": user_prompt_for(website)}\n",
    "    ]"
   ]
  },
  {
   "cell_type": "code",
   "execution_count": 25,
   "id": "36478464-39ee-485c-9f3f-6a4e458dbc9c",
   "metadata": {},
   "outputs": [
    {
     "data": {
      "text/plain": [
       "[{'role': 'system',\n",
       "  'content': 'Вы - ассистент, который анализирует содержимое веб-сайта и выдает краткое резюме, игнорируя текст, который может быть связан с навигацией. Ответьте в markdown на русском языке.'},\n",
       " {'role': 'user',\n",
       "  'content': 'Вы просматриваете веб-сайт под названием Home - Edward Donner\\nНиже приведено содержание этого веб-сайта;         пожалуйста, предоставьте краткую информацию об этом веб-сайте в markdown с переводом на русский язык.         Если на нем есть новости или объявления, то кратко опишите и их.\\n\\nHome\\nConnect Four\\nOutsmart\\nAn arena that pits LLMs against each other in a battle of diplomacy and deviousness\\nAbout\\nPosts\\nWell, hi there.\\nI’m Ed. I like writing code and experimenting with LLMs, and hopefully you’re here because you do too. I also enjoy DJing (but I’m badly out of practice), amateur electronic music production (\\nvery\\namateur) and losing myself in\\nHacker News\\n, nodding my head sagely to things I only half understand.\\nI’m the co-founder and CTO of\\nNebula.io\\n. We’re applying AI to a field where it can make a massive, positive impact: helping people discover their potential and pursue their reason for being. Recruiters use our product today to source, understand, engage and manage talent. I’m previously the founder and CEO of AI startup untapt,\\nacquired in 2021\\n.\\nWe work with groundbreaking, proprietary LLMs verticalized for talent, we’ve\\npatented\\nour matching model, and our award-winning platform has happy customers and tons of press coverage.\\nConnect\\nwith me for more!\\nMay 28, 2025\\nConnecting my courses – become an LLM expert and leader\\nMay 18, 2025\\n2025 AI Executive Briefing\\nApril 21, 2025\\nThe Complete Agentic AI Engineering Course\\nJanuary 23, 2025\\nLLM Workshop – Hands-on with Agents – resources\\nNavigation\\nHome\\nConnect Four\\nOutsmart\\nAn arena that pits LLMs against each other in a battle of diplomacy and deviousness\\nAbout\\nPosts\\nGet in touch\\ned [at] edwarddonner [dot] com\\nwww.edwarddonner.com\\nFollow me\\nLinkedIn\\nTwitter\\nFacebook\\nSubscribe to newsletter\\nType your email…\\nSubscribe'}]"
      ]
     },
     "execution_count": 25,
     "metadata": {},
     "output_type": "execute_result"
    }
   ],
   "source": [
    "# Попробуйте это, а затем зайдите на еще несколько веб-сайтов.\n",
    "\n",
    "messages_for(ed)"
   ]
  },
  {
   "cell_type": "markdown",
   "id": "16f49d46-bf55-4c3e-928f-68fc0bf715b0",
   "metadata": {},
   "source": [
    "## Пришло время объединить усилия - API для OpenAI очень прост!"
   ]
  },
  {
   "cell_type": "code",
   "execution_count": null,
   "id": "905b9919-aba7-45b5-ae65-81b3d1d78e34",
   "metadata": {},
   "outputs": [],
   "source": [
    "# А теперь: вызовите Openai API. Вы скоро с этим познакомитесь!\n",
    "\n",
    "def summarize(url):\n",
    "    website = Website(url)\n",
    "    response = openai.chat.completions.create(\n",
    "        # model = \"google/gemma-3-12b\",\n",
    "        model = \"gpt-4o-mini\",\n",
    "        messages = messages_for(website)\n",
    "    )\n",
    "    return response.choices[0].message.content"
   ]
  },
  {
   "cell_type": "code",
   "execution_count": 27,
   "id": "05e38d41-dfa4-4b20-9c96-c46ea75d9fb5",
   "metadata": {},
   "outputs": [
    {
     "data": {
      "text/plain": [
       "'# Резюме веб-сайта Edward Donner\\n\\nВеб-сайт принадлежит Эдуарду Доннеру, который является соучредителем и техническим директором компании Nebula.io. Он занимается программированием и экспериментами с большими языковыми моделями (LLMs). Эд также увлекается диджеингом и производством электронной музыки на любительском уровне.\\n\\n**Основные моменты:**\\n- **Nebula.io**: Компания, фокусирующаяся на использовании искусственного интеллекта для помощи людям в раскрытии их потенциала и управлении талантами. Продукты компании помогают рекрутерам в поиске и управлении талантами, используя запатентованную модель подбора.\\n- Эд также является бывшим основателем и CEO стартапа untapt, который был куплен в 2021 году.\\n- Веб-сайт предлагает информацию о курсах и семинарах по LLM, включая \"Курс по инженерии агентного ИИ\" и \"Мастер-класс по LLM\".\\n\\n### Новости и объявления:\\n- **28 мая 2025 года**: Запуск курса \"Станьте экспертом и лидером в LLM\".\\n- **18 мая 2025 года**: Проведение \"AI Executive Briefing 2025\".\\n- **21 апреля 2025 года**: \"Полный курс по агентному ИИ\".\\n- **23 января 2025 года**: \"Мастер-класс по LLM – практические занятия с агентами\".'"
      ]
     },
     "execution_count": 27,
     "metadata": {},
     "output_type": "execute_result"
    }
   ],
   "source": [
    "summarize(\"https://edwarddonner.com\")"
   ]
  },
  {
   "cell_type": "code",
   "execution_count": null,
   "id": "3d926d59-450e-4609-92ba-2d6f244f1342",
   "metadata": {},
   "outputs": [],
   "source": [
    "# Функция для наглядного отображения этого в выходных данных Jupyter с использованием markdown\n",
    "\n",
    "def display_summary(url):\n",
    "    summary = summarize(url)\n",
    "    display(Markdown(summary))"
   ]
  },
  {
   "cell_type": "code",
   "execution_count": 29,
   "id": "3018853a-445f-41ff-9560-d925d1774b2f",
   "metadata": {},
   "outputs": [
    {
     "data": {
      "text/markdown": [
       "# Резюме веб-сайта Edward Donner\n",
       "\n",
       "Веб-сайт Edward Donner представляет информацию о его деятельности, увлечениях и предложениях в области искусственного интеллекта, особенно в работе с языковыми моделями (LLMs). Эд является соучредителем и техническим директором компании Nebula.io, которая разрабатывает решения для рекрутеров, помогая им находить и управлять талантами. Он также упоминает о предыдущем стартапе untapt, который был приобретен в 2021 году.\n",
       "\n",
       "### Основные моменты:\n",
       "\n",
       "- Эд занимается программированием, экспериментами с LLM и диджейингом.\n",
       "- Он работает над патентованной моделью сопоставления талантов и имеет опыт в разработке платформ для рекрутинга.\n",
       "- Веб-сайт также содержит информацию о курсах и обучении в области искусственного интеллекта.\n",
       "\n",
       "### Объявления и Новости:\n",
       "\n",
       "- **28 мая 2025** - Анонс курсов по становлению экспертом и лидером в области LLM.\n",
       "- **18 мая 2025** - Проведение AI Executive Briefing 2025.\n",
       "- **21 апреля 2025** - Полный курс по инженерии агентного ИИ.\n",
       "- **23 января 2025** - Воркшоп по LLM с практическими заданиями и ресурсами.\n",
       "\n",
       "Эти события подчеркивают активное участие Эда в образовательных инициативах и развития навыков в области AI."
      ],
      "text/plain": [
       "<IPython.core.display.Markdown object>"
      ]
     },
     "metadata": {},
     "output_type": "display_data"
    }
   ],
   "source": [
    "display_summary(\"https://edwarddonner.com\")"
   ]
  },
  {
   "cell_type": "markdown",
   "id": "b3bcf6f4-adce-45e9-97ad-d9a5d7a3a624",
   "metadata": {},
   "source": [
    "# Давайте попробуем другие веб-сайты\n",
    "\n",
    "Обратите внимание, что это будет работать только с веб-сайтами, которые можно очистить, используя этот упрощенный подход.\n",
    "\n",
    "Веб-сайты, отображаемые с помощью Javascript, такие как приложения React, отображаться не будут. Смотрите папку community-contributions для реализации Selenium, которая позволяет обойти эту проблему. Вам нужно будет прочитать об установке Selenium (спросите у ChatGPT!)\n",
    "\n",
    "Также веб-сайты, защищенные с помощью CloudFront (и подобных), могут выдавать 403 ошибки - большое спасибо Энди Джею за указание на это.\n",
    "\n",
    "Но многие веб-сайты будут работать просто отлично!"
   ]
  },
  {
   "cell_type": "code",
   "execution_count": 30,
   "id": "45d83403-a24c-44b5-84ac-961449b4008f",
   "metadata": {},
   "outputs": [
    {
     "data": {
      "text/markdown": [
       "# Краткое резюме веб-сайта CNN\n",
       "\n",
       "**CNN** - это международный новостной агентство, предлагающее свежие новости и видео из различных рубрик, включая политику, бизнес, здоровье, развлечения, науку и спорт. Веб-сайт предоставляет последнюю информацию по важнейшим событиям в мире и США, включая текущие конфликты, экономические изменения и культурные события.\n",
       "\n",
       "## Последние новости:\n",
       "\n",
       "1. **Наводнения в Техасе**: По сообщению, в результате наводнений в Техасе погибли как минимум 82 человека, в том числе 28 детей. Спасатели продолжают поиски пропавших без вести.\n",
       "  \n",
       "2. **Судебное дело \"убийства грибов\" в Австралии**: Женщина по имени Эрин Паттерсон была признана виновной в преднамеренном убийстве своих гостей на обеде.\n",
       "\n",
       "3. **Конфликт в Газе**: Израиль начал воздушные удары по ХАМАСу, в то время как переговоры о прекращении огня идут в разных инстанциях.\n",
       "\n",
       "4. **День рождения Далай-ламы**: Далай-лама отпраздновал свое 90-летие. Мероприятия проходили в его доме в изгнании.\n",
       "\n",
       "5. **Политика Трампа**: Дональд Трамп объявил об угрозе повышения тарифов на страны, поддерживающие антиамериканские позиции в рамках группы БРИКС.\n",
       "\n",
       "Это лишь часть текущих событий, о которых сообщает CNN, предоставляя читателям полное покрытие актуальных и значимых новостей."
      ],
      "text/plain": [
       "<IPython.core.display.Markdown object>"
      ]
     },
     "metadata": {},
     "output_type": "display_data"
    }
   ],
   "source": [
    "display_summary(\"https://cnn.com\")"
   ]
  },
  {
   "cell_type": "code",
   "execution_count": 31,
   "id": "75e9fd40-b354-4341-991e-863ef2e59db7",
   "metadata": {},
   "outputs": [
    {
     "data": {
      "text/markdown": [
       "# Краткая информация о сайте Anthropic\n",
       "\n",
       "Сайт Anthropic предоставляет информацию о продуктах компании в области искусственного интеллекта, в частности о модели AI под названием Claude. Он предлагает различные тарифные планы для использования AI, включая индивидуальные, командные и варианты для бизнеса и образования. Основное внимание уделяется этическим аспектам разработки ИИ и его безопасности, включая политику ответственного масштабирования и прозрачности.\n",
       "\n",
       "## Продукты и функции\n",
       "- **Claude Opus 4** - самая новая и мощная модель AI, доступная пользователям.\n",
       "- **API** - возможность создания приложений с использованием технологий Claude.\n",
       "- **Anthropic Academy** - образовательные ресурсы для обучения разработке решений на базе Claude.\n",
       "\n",
       "## Новости и объявления\n",
       "- **Сертификация ISO 42001** - недавнее достижение, связанное с безопасностью и соблюдением норм.\n",
       "- Релиз новых моделей Claude Opus 4 и Sonnet 4, которые обеспечивают улучшенные возможности для программирования и работы с AI-агентами.\n",
       "\n",
       "Сайт также предлагает исследования в области воздействия AI на общество, сверяет свои практики с принципами безопасного и ответственного использования технологий."
      ],
      "text/plain": [
       "<IPython.core.display.Markdown object>"
      ]
     },
     "metadata": {},
     "output_type": "display_data"
    }
   ],
   "source": [
    "display_summary(\"https://anthropic.com\")"
   ]
  },
  {
   "cell_type": "markdown",
   "id": "c951be1a-7f1b-448f-af1f-845978e47e2c",
   "metadata": {},
   "source": [
    "<table style=\"margin: 0; text-align: left;\">\n",
    "    <tr>\n",
    "        <td style=\"width: 150px; height: 150px; vertical-align: middle;\">\n",
    "            <img src=\"../business.jpg\" width=\"150\" height=\"150\" style=\"display: block;\" />\n",
    "        </td>\n",
    "        <td>\n",
    "            <h2 style=\"color:#181;\">Бизнес-приложения</h2>\n",
    "            <span style=\"color:#181;\">В этом упражнении вы впервые попробовали использовать облачный API модели Frontier (ведущей модели на переднем крае искусственного интеллекта). На многих этапах курса мы будем использовать API, такие как Opengl, в дополнение к созданию собственных приложений.\n",
    "\n",
    "Более конкретно, мы применили это к обобщению - классическому варианту общего использования для составления резюме. Это может быть применено к любой вертикали бизнеса - обобщение новостей, финансовых показателей, резюме в сопроводительном письме - возможности применения безграничны. Подумайте, как вы могли бы применить обобщение в своем бизнесе, и попробуйте создать прототип решения.</span>\n",
    "        </td>\n",
    "    </tr>\n",
    "</table>\n",
    "\n",
    "<table style=\"margin: 0; text-align: left;\">\n",
    "    <tr>\n",
    "        <td style=\"width: 150px; height: 150px; vertical-align: middle;\">\n",
    "            <img src=\"../important.jpg\" width=\"150\" height=\"150\" style=\"display: block;\" />\n",
    "        </td>\n",
    "        <td>\n",
    "            <h2 style=\"color:#900;\">Прежде чем вы продолжите - теперь попробуйте сами</h2>\n",
    "            <span style=\"color:#900;\">Воспользуйтесь приведенной ниже ячейкой, чтобы создать свой собственный простой коммерческий пример. Пока придерживайтесь обобщенного варианта использования. Вот идея: напишите что-нибудь, что будет соответствовать содержанию электронного письма, и предложите подходящую короткую тему для письма. Именно такая функция может быть встроена в коммерческий инструмент электронной почты.</span>\n",
    "        </td>\n",
    "    </tr>\n",
    "</table>"
   ]
  },
  {
   "cell_type": "code",
   "execution_count": 32,
   "id": "00743dac-0e70-45b7-879a-d7293a6f68a6",
   "metadata": {},
   "outputs": [
    {
     "name": "stdout",
     "output_type": "stream",
     "text": [
      "К сожалению, я не могу перейти по ссылкам и просматривать веб-сайты. Однако я могу помочь вам составить коммерческое предложение для продукта \"Белок соевый Опттема M-03 текстурированный\", используя общую информацию о таких продуктах.\n",
      "\n",
      "Вот пример коммерческого предложения:\n",
      "\n",
      "---\n",
      "\n",
      "**Коммерческое предложение**\n",
      "\n",
      "Уважаемые господа!\n",
      "\n",
      "Мы рады представить вам наш продукт — **Белок соевый Опттема M-03 текстурированный**. Этот высококачественный соевый белок идеально подходит для пищевой промышленности и может использоваться в производстве различных продуктов.\n",
      "\n",
      "### Основные характеристики:\n",
      "- **Фасовка**: 25 кг\n",
      "- **Процент замены**: до 30% в мясных и мясосодержащих продуктах, в зависимости от рецептуры\n",
      "\n",
      "**Преимущества нашего продукта:**\n",
      "- Высокое содержание белка (до 90%)\n",
      "- Отличные технологические свойства\n",
      "- Подходит для вегетарианских и веганских диет\n",
      "\n",
      "### Контактная информация:\n",
      "Для получения более подробной информации и уточнения цен, пожалуйста, свяжитесь с нами:\n",
      "- **Телефон**: +7 (123) 456-78-90\n",
      "- **Электронная почта**: info@ingredienty-razvitie.ru\n",
      "- **Сайт**: [ingredienty-razvitie.ru](https://ingredienty-razvitie.ru)\n",
      "\n",
      "Будем рады ответить на ваши вопросы и обсудить условия сотрудничества!\n",
      "\n",
      "С уважением,  \n",
      "[Ваше Имя]  \n",
      "[Ваша Должность]  \n",
      "[Ваша Компания]  \n",
      "[Ваш Телефон]  \n",
      "[Ваша Электронная Почта]\n",
      "\n",
      "--- \n",
      "\n",
      "Пожалуйста, вставьте актуальную информацию о компании и проверьте данные перед отправкой. Если есть более точная информация о продукте, добавьте ее для большей точности.\n"
     ]
    }
   ],
   "source": [
    "# Шаг 1: Создайте свой промт\n",
    "\n",
    "system_prompt = \"Вы - ассистент, который пишет письма с комерческим предложением. \\\n",
    "Пиши лаконично на русском языке. \\\n",
    "Ответьте в markdown.\"\n",
    "user_prompt = \"\"\"\n",
    "    Сходи на сайт https://ingredienty-razvitie.ru и составь коммерческое предложение по продукту\n",
    "    Белок соевый Опттема M-03 текстурированный.\n",
    "    Найди на сайте информацию о продукте и добавь ее в письмо (фасовка, процент замены).\n",
    "    Найди на сайте контактную информацию и добавь ее в письмо.\n",
    "\"\"\"\n",
    "\n",
    "# Шаг 2: Составьте список сообщений\n",
    "messages = [\n",
    "    {\"role\": \"system\", \"content\": system_prompt},\n",
    "    {\"role\": \"user\", \"content\": user_prompt}\n",
    "] # заполните это\n",
    "\n",
    "# Шаг 3: Позвоните в OpenAI\n",
    "# response = openai.chat.completions.create(model=\"google/gemma-3-12b\", messages=messages)\n",
    "response = openai.chat.completions.create(model=\"gpt-4o-mini\", messages=messages)\n",
    "\n",
    "# Шаг 4: распечатайте результат\n",
    "print(response.choices[0].message.content)"
   ]
  },
  {
   "cell_type": "markdown",
   "id": "36ed9f14-b349-40e9-a42c-b367e77f8bda",
   "metadata": {},
   "source": [
    "## Дополнительное упражнение для тех, кто любит чистить паутину.\n",
    "\n",
    "Вы можете заметить, что если вы попробуете `display_summary(\"https://openai.com\")` - это не сработает! Это потому, что у OpenAI есть необычный веб-сайт, использующий Javascript. Есть много способов обойти это, с которыми некоторые из вас, возможно, знакомы. Например, Selenium - это чрезвычайно популярный фреймворк, который запускает браузер за кулисами, отображает страницу и позволяет вам запрашивать ее. Если у вас есть опыт работы с Selenium, Playground или аналогичными программами, то не стесняйтесь улучшать класс веб-сайта, чтобы использовать их. В папке \"Вклады сообщества\" вы найдете пример решения Selenium от студента (спасибо!)."
   ]
  },
  {
   "cell_type": "markdown",
   "id": "eeab24dc-5f90-4570-b542-b0585aca3eb6",
   "metadata": {},
   "source": [
    "# Поделитесь своим кодом\n",
    "\n",
    "Я был бы рад, если бы вы впоследствии поделились своим кодом, чтобы я мог поделиться им с другими! Вы заметите, что некоторые студенты уже внесли изменения (включая реализацию Selenium), которые вы найдете в папке \"Вклады сообщества\". Если вы хотите добавить свои изменения в эту папку, отправьте запрос на добавление ваших новых версий в эту папку, и я объединю ваши изменения.\n",
    "\n",
    "Если вы не являетесь экспертом в git (а я им не являюсь!), то БОГ дал несколько полезных инструкций о том, как отправлять запрос на удаление. Это довольно сложный процесс, но как только вы его выполните, все станет совершенно ясно. Совет профессионала: лучше всего, если вы очистите выходные данные своих записных книжек Jupyter (Отредактируйте >> Очистите выходные данные всех ячеек, а затем сохраните) для чистых записных книжек.\n",
    "\n",
    "Вот полезные инструкции, любезно предоставленные другом с искусственным интеллектом.:  \n",
    "https://chatgpt.com/share/677a9cb5-c64c-8012-99e0-e06e88afd293"
   ]
  },
  {
   "cell_type": "code",
   "execution_count": null,
   "id": "f4484fcf-8b39-4c3f-9674-37970ed71988",
   "metadata": {},
   "outputs": [],
   "source": []
  }
 ],
 "metadata": {
  "kernelspec": {
   "display_name": "llms",
   "language": "python",
   "name": "python3"
  },
  "language_info": {
   "codemirror_mode": {
    "name": "ipython",
    "version": 3
   },
   "file_extension": ".py",
   "mimetype": "text/x-python",
   "name": "python",
   "nbconvert_exporter": "python",
   "pygments_lexer": "ipython3",
   "version": "3.11.13"
  }
 },
 "nbformat": 4,
 "nbformat_minor": 5
}
