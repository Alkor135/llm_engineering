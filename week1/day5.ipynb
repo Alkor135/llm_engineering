{
 "cells": [
  {
   "cell_type": "markdown",
   "id": "a98030af-fcd1-4d63-a36e-38ba053498fa",
   "metadata": {},
   "source": [
    "# Полноценное бизнес-решение\n",
    "\n",
    "## Теперь, начиная с первого дня, мы поднимем наш проект на новый уровень\n",
    "\n",
    "### БИЗНЕС-ЗАДАЧА:\n",
    "\n",
    "Создадим продукт, который будет представлять собой брошюру для компании, предназначенную для потенциальных клиентов, инвесторов и потенциальных сотрудников.\n",
    "\n",
    "Нам будет предоставлено название компании и ее основной веб-сайт.\n",
    "\n",
    "Примеры реальных бизнес-приложений приведены в конце этой тетради.\n",
    "\n",
    "И помните:: Я всегда на связи, если у вас возникнут проблемы или идеи! Пожалуйста, обращайтесь."
   ]
  },
  {
   "cell_type": "code",
   "execution_count": 1,
   "id": "d5b08506-dc8b-4443-9201-5f1848161363",
   "metadata": {},
   "outputs": [],
   "source": [
    "# импортирует\n",
    "# Если это не удается, пожалуйста, проверьте, что вы запускаетесь из \"активированной\" среды с помощью (lms) в командной строке\n",
    "\n",
    "import os\n",
    "import requests\n",
    "import json\n",
    "from typing import List\n",
    "from dotenv import load_dotenv\n",
    "from bs4 import BeautifulSoup\n",
    "from IPython.display import Markdown, display, update_display\n",
    "from openai import OpenAI"
   ]
  },
  {
   "cell_type": "code",
   "execution_count": 2,
   "id": "fc5d8880-f2ee-4c06-af16-ecbc0262af61",
   "metadata": {},
   "outputs": [
    {
     "name": "stdout",
     "output_type": "stream",
     "text": [
      "Ключ API пока выглядит хорошо\n"
     ]
    }
   ],
   "source": [
    "# Подключение к API OpenAI\n",
    "# Инициализация и константы\n",
    "\n",
    "load_dotenv(override=True)\n",
    "api_key = os.getenv('OPENAI_API_KEY')\n",
    "\n",
    "if api_key and api_key.startswith('sk-proj-') and len(api_key)>10:\n",
    "    print(\"Ключ API пока выглядит хорошо\")\n",
    "else:\n",
    "    print(\"Возможно, возникла проблема с вашим API-ключом? Пожалуйста, ознакомьтесь с записной \\\n",
    "          книжкой по устранению неполадок!\")\n",
    "    \n",
    "MODEL = 'gpt-4o-mini'\n",
    "openai = OpenAI()"
   ]
  },
  {
   "cell_type": "code",
   "execution_count": null,
   "id": "9429d4ca",
   "metadata": {},
   "outputs": [],
   "source": [
    "# Подключение к локальному серверу LM Studio\n",
    "\n",
    "# openai = OpenAI(base_url='http://localhost:1234/v1', api_key='google/gemma-3-12b')\n",
    "# MODEL = 'google/gemma-3-12b'"
   ]
  },
  {
   "cell_type": "code",
   "execution_count": 3,
   "id": "106dd65e-90af-4ca8-86b6-23a41840645b",
   "metadata": {},
   "outputs": [],
   "source": [
    "# Класс для представления веб-страницы\n",
    "\n",
    "# Для некоторых веб-сайтов требуется, чтобы вы использовали правильные заголовки при их загрузке:\n",
    "headers = {\n",
    " \"User-Agent\": \"Mozilla/5.0 (Windows NT 10.0; Win64; x64) AppleWebKit/537.36 (KHTML, like Gecko) \\\n",
    "    Chrome/117.0.0.0 Safari/537.36\"\n",
    "}\n",
    "\n",
    "class Website:\n",
    "    \"\"\"\n",
    "    Служебный класс для представления веб-сайта, который мы скрапим, теперь со ссылками\n",
    "    \"\"\"\n",
    "    def __init__(self, url):\n",
    "        self.url = url\n",
    "        response = requests.get(url, headers=headers, verify=False)\n",
    "        self.body = response.content\n",
    "        soup = BeautifulSoup(self.body, 'html.parser')\n",
    "        self.title = soup.title.string if soup.title else \"No title found\"\n",
    "        if soup.body:\n",
    "            for irrelevant in soup.body([\"script\", \"style\", \"img\", \"input\"]):\n",
    "                irrelevant.decompose()\n",
    "            self.text = soup.body.get_text(separator=\"\\n\", strip=True)\n",
    "        else:\n",
    "            self.text = \"\"\n",
    "        links = [link.get('href') for link in soup.find_all('a')]\n",
    "        self.links = [link for link in links if link]\n",
    "\n",
    "    def get_contents(self):\n",
    "        return f\"Webpage Title:\\n{self.title}\\nWebpage Contents:\\n{self.text}\\n\\n\""
   ]
  },
  {
   "cell_type": "code",
   "execution_count": 4,
   "id": "e30d8128-933b-44cc-81c8-ab4c9d86589a",
   "metadata": {},
   "outputs": [
    {
     "name": "stderr",
     "output_type": "stream",
     "text": [
      "c:\\Users\\Alkor\\anaconda3\\envs\\llms\\Lib\\site-packages\\urllib3\\connectionpool.py:1097: InsecureRequestWarning: Unverified HTTPS request is being made to host 'ingredienty-razvitie.ru'. Adding certificate verification is strongly advised. See: https://urllib3.readthedocs.io/en/latest/advanced-usage.html#tls-warnings\n",
      "  warnings.warn(\n"
     ]
    },
    {
     "data": {
      "text/plain": [
       "['/en/',\n",
       " 'tel:+78123208360',\n",
       " 'mailto:sale@irazvitie.com',\n",
       " '#',\n",
       " '#',\n",
       " 'tel:+78123208360',\n",
       " '/about/',\n",
       " '/catalog/',\n",
       " '/sale/',\n",
       " '/production/',\n",
       " '/news/',\n",
       " '/contacts/',\n",
       " '/catalog/',\n",
       " '/catalog/',\n",
       " '/catalog/',\n",
       " '/catalog/',\n",
       " '/production/#kd_last_sect',\n",
       " '/production/#kd_last_sect',\n",
       " '/catalog/stabilizatory-i-zagustiteli/zhelatin-govyazhiy-180-blyum/',\n",
       " '/catalog/stabilizatory-i-zagustiteli/zhelatin-govyazhiy-180-blyum/',\n",
       " '/catalog/stabilizatory-i-zagustiteli/zhelatin-govyazhiy-180-blyum/',\n",
       " '/catalog/stabilizatory-i-zagustiteli/kappa-karraginan-polurafinirovannyy-e407a/',\n",
       " '/catalog/stabilizatory-i-zagustiteli/kappa-karraginan-polurafinirovannyy-e407a/',\n",
       " '/catalog/stabilizatory-i-zagustiteli/kappa-karraginan-polurafinirovannyy-e407a/',\n",
       " '/catalog/aromatizatory/smes-aromat-govyadiny/',\n",
       " '/catalog/aromatizatory/smes-aromat-govyadiny/',\n",
       " '/catalog/aromatizatory/smes-aromat-govyadiny/',\n",
       " '/catalog/aromatizatory/smes-aromat-svininy/',\n",
       " '/catalog/aromatizatory/smes-aromat-svininy/',\n",
       " '/catalog/aromatizatory/smes-aromat-svininy/',\n",
       " '/catalog/podslastiteli-i-sakharozameniteli/sukraloza-pishchevaya-e955/',\n",
       " '/catalog/podslastiteli-i-sakharozameniteli/sukraloza-pishchevaya-e955/',\n",
       " '/catalog/podslastiteli-i-sakharozameniteli/sukraloza-pishchevaya-e955/',\n",
       " '/production/',\n",
       " '/news/s-novym-2025-godom/',\n",
       " '/news/s-novym-2025-godom/',\n",
       " '/news/novaya-effektivnaya-kompleksnaya-pishchevaya-dobavka-sobstvennogo-proizvodstva-dlya-myasopererabatyv/',\n",
       " '/news/albumin-kh-smes-na-osnove-gemoglobina-dlya-proizvoditeley-myasnoy-i-kormovoy-otrasley/',\n",
       " '/news/',\n",
       " 'tel:+78123399797',\n",
       " 'tel:+78123206089',\n",
       " 'tel:+79219116471',\n",
       " 'mailto:sale@irazvitie.com',\n",
       " '/upload/requisites.pdf',\n",
       " 'tel:+78123208360',\n",
       " 'tel:+78123208359',\n",
       " 'mailto:info@mille.ru',\n",
       " '/upload/resize_cache/webp/upload/shema_proezda_spb_new.webp',\n",
       " 'tel:+79030018046',\n",
       " '/upload/resize_cache/webp/upload/shema_proezda_msk+kontakty.webp',\n",
       " '/policy/',\n",
       " '/terms-of-use/',\n",
       " '/sitemap/',\n",
       " '/processing-of-personal-data/',\n",
       " '/processing-of-personal-data/',\n",
       " '/processing-of-personal-data/',\n",
       " '/policy/']"
      ]
     },
     "execution_count": 4,
     "metadata": {},
     "output_type": "execute_result"
    }
   ],
   "source": [
    "# ed = Website(\"https://edwarddonner.com\")\n",
    "# ed.links\n",
    "ir = Website(\"https://ingredienty-razvitie.ru\")\n",
    "ir.links"
   ]
  },
  {
   "cell_type": "code",
   "execution_count": 5,
   "id": "004461bc",
   "metadata": {},
   "outputs": [
    {
     "data": {
      "text/plain": [
       "'Пищевые ингредиенты и добавки – продажа и производство'"
      ]
     },
     "execution_count": 5,
     "metadata": {},
     "output_type": "execute_result"
    }
   ],
   "source": [
    "ir.title"
   ]
  },
  {
   "cell_type": "code",
   "execution_count": 6,
   "id": "bbfad7b4",
   "metadata": {},
   "outputs": [
    {
     "data": {
      "text/plain": [
       "'Ru\\n/\\nEn\\n+7 812 320-83-60\\nsale@irazvitie.com\\nRu\\n/\\nEn\\n+7 812 320-83-60\\nО нас\\nКаталог\\nСпецпредложения\\nПроизводство\\nНовости\\nКонтакты\\nКомплексные поставки ингредиентов для пищевой промышленности\\nВ каталог\\nКомпания\\n«Ингредиенты. Развитие»\\nУспешно работаем на российском рынке более 20 лет. Основные виды деятельности – производство и дистрибуция ингредиентов для пищевой промышленности. В штате компании работают высококлассные специалисты с практическим опытом в различных сферах пищевой отрасли.\\nНаши производственные мощности позволяют выпускать более 10 000 тонн в год текстурированного соевого белка и функциональных комплексных пищевых добавок для всех отраслей пищевой промышленности.\\nПомимо производства и продажи пищевых ингредиентов компания предоставляет услуги по разработке рецептур новых видов изделий, изготовлению тестовых образцов продукции, выявлению технологических проблем производств и продуктов, подбору сырья и ингредиентов для решения конкретных технологических задач.\\n20\\n+\\nлет работы\\nНаша\\nпродукция\\nВ каталоге представлена продукция собственного производства, отечественных и зарубежных партнёров, производителей сырья и ингредиентов для пищевой промышленности.\\nВ каталог\\nПищевые ингредиенты, сырье и добавки\\nПродукция собственного производства\\nСпецпредложения\\nСпецпредложения\\nЖелатин говяжий 180 блюм\\nФасовка 25 кг\\nПодробнее\\nот\\nXXX\\nруб./кг\\nСпецпредложения\\nКаппа каррагинан полурафинированный (Е407А)\\nФасовка 25 кг\\nПодробнее\\nот\\nXXX\\nруб./кг\\nСпецпредложения\\nСмесь \"Аромат говядины\"\\nФасовка 1 кг\\nПодробнее\\nот\\n500\\nруб./кг\\nСпецпредложения\\nСмесь \"Аромат свинины\"\\nФасовка 1 кг\\nПодробнее\\nот\\n450\\nруб./кг\\nСпецпредложения\\nСукралоза пищевая (E955)\\nФасовка 25 кг\\nПодробнее\\nот\\nXXX\\nруб./кг\\nНаше\\nпроизводство\\nМы -  одна из ведущих компаний-производителей текстурированного соевого белка. Мы производим текстураты разных фракций под ТМ «ОПТТЕМА», соевые белковые смеси подТМ «Эмульгофикс», сухие ароматизаторы для мясо- и рыбо-перерабатывающей отрасли.\\nПроизводство, как и офис компании, находится в Санкт-Петербурге на Канонерском острове – в районе активной коммерческой деятельности, рядом с Балтийской таможней и Морским портом.\\nВся цепочка производства, от поставки сырья до пакетирования и хранения готовых изделий, соответствуют нормативным требованиям. Мы гарантируем своим клиентам, что все сырье, используемое на производстве, 100% натуральное, самого высокого качества и имеет необходимые документы, подтверждающие отсутствие ГМО.\\nОтдел контроля качества строго контролирует соблюдение всех стандартов и требований к производимой продукции, обеспечивая ее неизменно высокое качество.\\nПодробнее\\nНовости\\n28/12/2024\\nС новым 2025 годом!\\n26/09/2024\\nНовая эффективная комплексная пищевая добавка собственного производства для мясоперерабатывающих производств\\nВ нашем ассортименте появилась высокоэффективная термостабильная КПД для производителей колбас, ветчин, деликатесов и консервов\\n06/03/2024\\n\"Альбумин Х\" - смесь на основе гемоглобина для производителей мясной и кормовой отраслей\\nЗапущенная несколько месяцев назад новинка стала одним из самых востребованных продуктов. Основная сфера применения: мясоперерабатывающая и кормовая отрасли.\\nВсе новости\\nНаши партнеры\\nСреди наших партнёров крупнейшие компании из разных отраслей пищевой промышленности. И со всеми мы работаем по принципу \"Индивидуальный подход к каждому клиенту\". Благодаря этому наше  взаимовыгодное сотрудничество длится годами.\\nКонтакты\\nОтдел продаж\\nООО \"Ингредиенты. Развитие\"\\nООО \"Ингредиенты. Развитие\" Россия, 198184, г.Санкт-Петербург, Канонерский остров, дом 3, корп. 1, лит. Б\\nООО \"Ингредиенты. Развитие\"\\nТел.:\\n+7 (812) 339-97-97\\n+7 (812) 320-60-89\\n+7 (921) 911-64-71\\nsale@irazvitie.com\\nРеквизиты (PDF)\\nОфис и склад в Санкт-Петербурге\\nООО \"Ингредиенты. Развитие\"\\nООО \"Ингредиенты. Развитие\" Россия, 198184, г.Санкт-Петербург, Канонерский остров, дом 3, корп. 1, лит. Б\\nООО \"Ингредиенты. Развитие\"\\nТел.:\\n+7 (812) 320-83-60\\nФакс:\\n+7 (812) 320-83-59\\ninfo@mille.ru\\nСхема проезда\\nСклад в Москве\\nООО \"Ингредиенты. Развитие\"\\nООО \"Ингредиенты. Развитие\" Россия, 142030, Московская область, Домодедовский район, пос. Ям, ул. Брестская, д. 32, строение 3\\nООО \"Ингредиенты. Развитие\"\\nТел.:\\n+7 (903) 001-80-46\\nСхема проезда\\nПолитика конфиденциальности\\nПользовательское соглашение\\nCopyright 2025\\nКарта сайта\\nОставьте заявку\\nСогласие на\\nобработку персональных данных\\nОставьте заявку\\nСогласие на\\nобработку персональных данных\\nОставьте заявку\\nСогласие на\\nобработку персональных данных\\nСпасибо за заявку!\\nМы используем файлы cookie.\\nСоглашение об использовании персональных данных\\nОК\\nВНИМАНИЕ! В СВЯЗИ С ПОВРЕЖДЕНИЯМИ ТЕЛЕФОННОГО КАБЕЛЯ НЕВОЗМОЖНО ДОЗВОНИТЬСЯ ПО ГОРОДСКИМ НОМЕРАМ! ДО УСТРАНЕНИЯ НЕПОЛАДОК, СВЯЗЬ С ОТДЕЛОМ ПРОДАЖ ВОЗМОЖНА ТОЛЬКО ПО НОМЕРУ +7 (812) 339-97-97 либо по личным номерам WhatsApp и ЭЛЕКТРОННОЙ ПОЧТЕ МЕНЕДЖЕРОВ. ПРИНОСИМ ИЗВИНЕНИЯ ЗА ПРИЧИНЕННЫЕ НЕУДОБСТВА.'"
      ]
     },
     "execution_count": 6,
     "metadata": {},
     "output_type": "execute_result"
    }
   ],
   "source": [
    "ir.text"
   ]
  },
  {
   "cell_type": "code",
   "execution_count": 7,
   "id": "f4a108fe",
   "metadata": {},
   "outputs": [
    {
     "data": {
      "text/plain": [
       "'https://ingredienty-razvitie.ru'"
      ]
     },
     "execution_count": 7,
     "metadata": {},
     "output_type": "execute_result"
    }
   ],
   "source": [
    "ir.url\n"
   ]
  },
  {
   "cell_type": "markdown",
   "id": "1771af9c-717a-4fca-bbbe-8a95893312c3",
   "metadata": {},
   "source": [
    "## Первый шаг: попросите GPT-4o-mini определить, какие ссылки являются релевантными\n",
    "\n",
    "### Используйте вызов gpt-4o-mini для чтения ссылок на веб-странице и ответа в структурированном формате JSON.  \n",
    "Он должен определить, какие ссылки являются релевантными, и заменить относительные ссылки, такие как \"/about\", на \"https://company.com/about\".  \n",
    "Мы будем использовать \"одноразовый запрос\", в котором мы приводим пример того, как он должен реагировать на запрос.\n",
    "\n",
    "Это отличный пример использования для LLM, потому что он требует глубокого понимания нюансов. Представьте, что вы пытаетесь закодировать это без каких-либо усилий, разбирая и анализируя веб-страницу - это было бы очень сложно!\n",
    "\n",
    "Примечание: существует более продвинутая методика, называемая \"Структурированные результаты\", в которой мы требуем, чтобы модель реагировала в соответствии со спецификацией. Мы рассмотрим эту технику на восьмой неделе нашего проекта по автономному агентному ИИ."
   ]
  },
  {
   "cell_type": "code",
   "execution_count": 8,
   "id": "6957b079-0d96-45f7-a26a-3487510e9b35",
   "metadata": {},
   "outputs": [],
   "source": [
    "link_system_prompt = \"Вам будет предоставлен список ссылок, найденных на веб-странице. \\\n",
    "Вы можете выбрать, какие из ссылок наиболее уместны для включения в брошюру о компании, \\\n",
    "например, ссылки на страницу О компании, или на страницу Карьера/вакансии, \\\n",
    "или на страницы продукции своего производства\\n\"\n",
    "link_system_prompt += \"Вы должны ответить в формате JSON, как в этом примере:\"\n",
    "link_system_prompt += \"\"\"\n",
    "{\n",
    "    \"links\": [\n",
    "        {\"type\": \"about page\", \"url\": \"https://full.url/goes/here/about\"},\n",
    "        {\"type\": \"catalog\": \"url\": \"https://another.full.url/catalog\"}\n",
    "        {\"type\": \"production\", \"url\": \"https://another.full.url/production\"}\n",
    "        {\"type\": \"careers page\", \"url\": null}\n",
    "    ]\n",
    "}\n",
    "\"\"\""
   ]
  },
  {
   "cell_type": "code",
   "execution_count": 9,
   "id": "b97e4068-97ed-4120-beae-c42105e4d59a",
   "metadata": {},
   "outputs": [
    {
     "name": "stdout",
     "output_type": "stream",
     "text": [
      "Вам будет предоставлен список ссылок, найденных на веб-странице. Вы можете выбрать, какие из ссылок наиболее уместны для включения в брошюру о компании, например, ссылки на страницу О компании, или на страницу Карьера/вакансии, или на страницы продукции своего производства\n",
      "Вы должны ответить в формате JSON, как в этом примере:\n",
      "{\n",
      "    \"links\": [\n",
      "        {\"type\": \"about page\", \"url\": \"https://full.url/goes/here/about\"},\n",
      "        {\"type\": \"catalog\": \"url\": \"https://another.full.url/catalog\"}\n",
      "        {\"type\": \"production\", \"url\": \"https://another.full.url/production\"}\n",
      "        {\"type\": \"careers page\", \"url\": null}\n",
      "    ]\n",
      "}\n",
      "\n"
     ]
    }
   ],
   "source": [
    "print(link_system_prompt)"
   ]
  },
  {
   "cell_type": "code",
   "execution_count": 10,
   "id": "8e1f601b-2eaf-499d-b6b8-c99050c9d6b3",
   "metadata": {},
   "outputs": [],
   "source": [
    "def get_links_user_prompt(website):\n",
    "    user_prompt = f\"Вот список ссылок на веб-сайте {website.url} - \"\n",
    "    user_prompt += \"пожалуйста, решите, какие из них являются релевантными веб-ссылками для \\\n",
    "        брошюры о компании, и укажите полный URL-адрес https в формате JSON. \\\n",
    "        Не указывайте Условия предоставления услуг, конфиденциальность, ссылки на электронную почту.\\n\"\n",
    "    user_prompt += \"Ссылки (некоторые из них могут быть относительными):\\n\"\n",
    "    user_prompt += \"\\n\".join(website.links)\n",
    "    return user_prompt"
   ]
  },
  {
   "cell_type": "code",
   "execution_count": 11,
   "id": "6bcbfa78-6395-4685-b92c-22d592050fd7",
   "metadata": {},
   "outputs": [
    {
     "name": "stdout",
     "output_type": "stream",
     "text": [
      "Вот список ссылок на веб-сайте https://ingredienty-razvitie.ru - пожалуйста, решите, какие из них являются релевантными веб-ссылками для         брошюры о компании, и укажите полный URL-адрес https в формате JSON.         Не указывайте Условия предоставления услуг, конфиденциальность, ссылки на электронную почту.\n",
      "Ссылки (некоторые из них могут быть относительными):\n",
      "/en/\n",
      "tel:+78123208360\n",
      "mailto:sale@irazvitie.com\n",
      "#\n",
      "#\n",
      "tel:+78123208360\n",
      "/about/\n",
      "/catalog/\n",
      "/sale/\n",
      "/production/\n",
      "/news/\n",
      "/contacts/\n",
      "/catalog/\n",
      "/catalog/\n",
      "/catalog/\n",
      "/catalog/\n",
      "/production/#kd_last_sect\n",
      "/production/#kd_last_sect\n",
      "/catalog/stabilizatory-i-zagustiteli/zhelatin-govyazhiy-180-blyum/\n",
      "/catalog/stabilizatory-i-zagustiteli/zhelatin-govyazhiy-180-blyum/\n",
      "/catalog/stabilizatory-i-zagustiteli/zhelatin-govyazhiy-180-blyum/\n",
      "/catalog/stabilizatory-i-zagustiteli/kappa-karraginan-polurafinirovannyy-e407a/\n",
      "/catalog/stabilizatory-i-zagustiteli/kappa-karraginan-polurafinirovannyy-e407a/\n",
      "/catalog/stabilizatory-i-zagustiteli/kappa-karraginan-polurafinirovannyy-e407a/\n",
      "/catalog/aromatizatory/smes-aromat-govyadiny/\n",
      "/catalog/aromatizatory/smes-aromat-govyadiny/\n",
      "/catalog/aromatizatory/smes-aromat-govyadiny/\n",
      "/catalog/aromatizatory/smes-aromat-svininy/\n",
      "/catalog/aromatizatory/smes-aromat-svininy/\n",
      "/catalog/aromatizatory/smes-aromat-svininy/\n",
      "/catalog/podslastiteli-i-sakharozameniteli/sukraloza-pishchevaya-e955/\n",
      "/catalog/podslastiteli-i-sakharozameniteli/sukraloza-pishchevaya-e955/\n",
      "/catalog/podslastiteli-i-sakharozameniteli/sukraloza-pishchevaya-e955/\n",
      "/production/\n",
      "/news/s-novym-2025-godom/\n",
      "/news/s-novym-2025-godom/\n",
      "/news/novaya-effektivnaya-kompleksnaya-pishchevaya-dobavka-sobstvennogo-proizvodstva-dlya-myasopererabatyv/\n",
      "/news/albumin-kh-smes-na-osnove-gemoglobina-dlya-proizvoditeley-myasnoy-i-kormovoy-otrasley/\n",
      "/news/\n",
      "tel:+78123399797\n",
      "tel:+78123206089\n",
      "tel:+79219116471\n",
      "mailto:sale@irazvitie.com\n",
      "/upload/requisites.pdf\n",
      "tel:+78123208360\n",
      "tel:+78123208359\n",
      "mailto:info@mille.ru\n",
      "/upload/resize_cache/webp/upload/shema_proezda_spb_new.webp\n",
      "tel:+79030018046\n",
      "/upload/resize_cache/webp/upload/shema_proezda_msk+kontakty.webp\n",
      "/policy/\n",
      "/terms-of-use/\n",
      "/sitemap/\n",
      "/processing-of-personal-data/\n",
      "/processing-of-personal-data/\n",
      "/processing-of-personal-data/\n",
      "/policy/\n"
     ]
    }
   ],
   "source": [
    "print(get_links_user_prompt(ir))"
   ]
  },
  {
   "cell_type": "code",
   "execution_count": 12,
   "id": "a29aca19-ca13-471c-a4b4-5abbfa813f69",
   "metadata": {},
   "outputs": [],
   "source": [
    "def get_links(url):\n",
    "    website = Website(url)\n",
    "    response = openai.chat.completions.create(\n",
    "        model=MODEL,\n",
    "        messages=[\n",
    "            {\"role\": \"system\", \"content\": link_system_prompt},\n",
    "            {\"role\": \"user\", \"content\": get_links_user_prompt(website)}\n",
    "      ],\n",
    "        # response_format={\"type\": \"json_object\"}  # Для OpenAI API v1.0\n",
    "    )\n",
    "    result = response.choices[0].message.content\n",
    "    # Удаление markdown форматирования из ответа\n",
    "    result = \"\\n\".join(result.splitlines()[1:-1]) if len(result.splitlines()) > 2 else \"\"\n",
    "    # print(result)  # Для отладки, если нужно увидеть ответ\n",
    "    # Преобразование ответа в JSON\n",
    "    return json.loads(result)"
   ]
  },
  {
   "cell_type": "code",
   "execution_count": 13,
   "id": "74a827a0-2782-4ae5-b210-4a242a8b4cc2",
   "metadata": {},
   "outputs": [
    {
     "name": "stderr",
     "output_type": "stream",
     "text": [
      "c:\\Users\\Alkor\\anaconda3\\envs\\llms\\Lib\\site-packages\\urllib3\\connectionpool.py:1097: InsecureRequestWarning: Unverified HTTPS request is being made to host 'ingredienty-razvitie.ru'. Adding certificate verification is strongly advised. See: https://urllib3.readthedocs.io/en/latest/advanced-usage.html#tls-warnings\n",
      "  warnings.warn(\n"
     ]
    },
    {
     "data": {
      "text/plain": [
       "['/en/',\n",
       " 'tel:+78123208360',\n",
       " 'mailto:sale@irazvitie.com',\n",
       " '#',\n",
       " '#',\n",
       " 'tel:+78123208360',\n",
       " '/about/',\n",
       " '/catalog/',\n",
       " '/sale/',\n",
       " '/production/',\n",
       " '/news/',\n",
       " '/contacts/',\n",
       " '/catalog/',\n",
       " '/catalog/',\n",
       " '/catalog/',\n",
       " '/catalog/',\n",
       " '/production/#kd_last_sect',\n",
       " '/production/#kd_last_sect',\n",
       " '/catalog/stabilizatory-i-zagustiteli/zhelatin-govyazhiy-180-blyum/',\n",
       " '/catalog/stabilizatory-i-zagustiteli/zhelatin-govyazhiy-180-blyum/',\n",
       " '/catalog/stabilizatory-i-zagustiteli/zhelatin-govyazhiy-180-blyum/',\n",
       " '/catalog/stabilizatory-i-zagustiteli/kappa-karraginan-polurafinirovannyy-e407a/',\n",
       " '/catalog/stabilizatory-i-zagustiteli/kappa-karraginan-polurafinirovannyy-e407a/',\n",
       " '/catalog/stabilizatory-i-zagustiteli/kappa-karraginan-polurafinirovannyy-e407a/',\n",
       " '/catalog/aromatizatory/smes-aromat-govyadiny/',\n",
       " '/catalog/aromatizatory/smes-aromat-govyadiny/',\n",
       " '/catalog/aromatizatory/smes-aromat-govyadiny/',\n",
       " '/catalog/aromatizatory/smes-aromat-svininy/',\n",
       " '/catalog/aromatizatory/smes-aromat-svininy/',\n",
       " '/catalog/aromatizatory/smes-aromat-svininy/',\n",
       " '/catalog/podslastiteli-i-sakharozameniteli/sukraloza-pishchevaya-e955/',\n",
       " '/catalog/podslastiteli-i-sakharozameniteli/sukraloza-pishchevaya-e955/',\n",
       " '/catalog/podslastiteli-i-sakharozameniteli/sukraloza-pishchevaya-e955/',\n",
       " '/production/',\n",
       " '/news/s-novym-2025-godom/',\n",
       " '/news/s-novym-2025-godom/',\n",
       " '/news/novaya-effektivnaya-kompleksnaya-pishchevaya-dobavka-sobstvennogo-proizvodstva-dlya-myasopererabatyv/',\n",
       " '/news/albumin-kh-smes-na-osnove-gemoglobina-dlya-proizvoditeley-myasnoy-i-kormovoy-otrasley/',\n",
       " '/news/',\n",
       " 'tel:+78123399797',\n",
       " 'tel:+78123206089',\n",
       " 'tel:+79219116471',\n",
       " 'mailto:sale@irazvitie.com',\n",
       " '/upload/requisites.pdf',\n",
       " 'tel:+78123208360',\n",
       " 'tel:+78123208359',\n",
       " 'mailto:info@mille.ru',\n",
       " '/upload/resize_cache/webp/upload/shema_proezda_spb_new.webp',\n",
       " 'tel:+79030018046',\n",
       " '/upload/resize_cache/webp/upload/shema_proezda_msk+kontakty.webp',\n",
       " '/policy/',\n",
       " '/terms-of-use/',\n",
       " '/sitemap/',\n",
       " '/processing-of-personal-data/',\n",
       " '/processing-of-personal-data/',\n",
       " '/processing-of-personal-data/',\n",
       " '/policy/']"
      ]
     },
     "execution_count": 13,
     "metadata": {},
     "output_type": "execute_result"
    }
   ],
   "source": [
    "# Anthropic усложнили доступ к своему сайту, поэтому я использую Hugging Face..\n",
    "\n",
    "# huggingface = Website(\"https://huggingface.co\")\n",
    "# huggingface.links\n",
    "# ed = Website(\"https://edwarddonner.com\")\n",
    "# ed.links\n",
    "huggingface = Website(\"https://ingredienty-razvitie.ru\")\n",
    "huggingface.links"
   ]
  },
  {
   "cell_type": "code",
   "execution_count": 14,
   "id": "d3d583e2-dcc4-40cc-9b28-1e8dbf402924",
   "metadata": {},
   "outputs": [
    {
     "name": "stderr",
     "output_type": "stream",
     "text": [
      "c:\\Users\\Alkor\\anaconda3\\envs\\llms\\Lib\\site-packages\\urllib3\\connectionpool.py:1097: InsecureRequestWarning: Unverified HTTPS request is being made to host 'ingredienty-razvitie.ru'. Adding certificate verification is strongly advised. See: https://urllib3.readthedocs.io/en/latest/advanced-usage.html#tls-warnings\n",
      "  warnings.warn(\n"
     ]
    },
    {
     "data": {
      "text/plain": [
       "{'links': [{'type': 'about page',\n",
       "   'url': 'https://ingredienty-razvitie.ru/about/'},\n",
       "  {'type': 'catalog', 'url': 'https://ingredienty-razvitie.ru/catalog/'},\n",
       "  {'type': 'production', 'url': 'https://ingredienty-razvitie.ru/production/'},\n",
       "  {'type': 'contacts page',\n",
       "   'url': 'https://ingredienty-razvitie.ru/contacts/'}]}"
      ]
     },
     "execution_count": 14,
     "metadata": {},
     "output_type": "execute_result"
    }
   ],
   "source": [
    "# print(get_links(\"https://huggingface.co\"))\n",
    "# get_links(\"https://huggingface.co\")\n",
    "# get_links(\"https://edwarddonner.com\")\n",
    "get_links(\"https://ingredienty-razvitie.ru\")"
   ]
  },
  {
   "cell_type": "markdown",
   "id": "0d74128e-dfb6-47ec-9549-288b621c838c",
   "metadata": {},
   "source": [
    "## Второй шаг: сделайте брошюру!\n",
    "\n",
    "Соберите все детали в еще одном приглашении к GPT 4-o"
   ]
  },
  {
   "cell_type": "code",
   "execution_count": 15,
   "id": "85a5b6e2-e7ef-44a9-bc7f-59ede71037b5",
   "metadata": {},
   "outputs": [],
   "source": [
    "def get_all_details(url):\n",
    "    result = \"Landing page:\\n\"\n",
    "    result += Website(url).get_contents()\n",
    "    links = get_links(url)\n",
    "    print(\"Found links:\", links)\n",
    "    for link in links[\"links\"]:\n",
    "        result += f\"\\n\\n{link['type']}\\n\"\n",
    "        result += Website(link[\"url\"]).get_contents()\n",
    "    return result"
   ]
  },
  {
   "cell_type": "code",
   "execution_count": 16,
   "id": "5099bd14-076d-4745-baf3-dac08d8e5ab2",
   "metadata": {},
   "outputs": [
    {
     "name": "stderr",
     "output_type": "stream",
     "text": [
      "c:\\Users\\Alkor\\anaconda3\\envs\\llms\\Lib\\site-packages\\urllib3\\connectionpool.py:1097: InsecureRequestWarning: Unverified HTTPS request is being made to host 'ingredienty-razvitie.ru'. Adding certificate verification is strongly advised. See: https://urllib3.readthedocs.io/en/latest/advanced-usage.html#tls-warnings\n",
      "  warnings.warn(\n",
      "c:\\Users\\Alkor\\anaconda3\\envs\\llms\\Lib\\site-packages\\urllib3\\connectionpool.py:1097: InsecureRequestWarning: Unverified HTTPS request is being made to host 'ingredienty-razvitie.ru'. Adding certificate verification is strongly advised. See: https://urllib3.readthedocs.io/en/latest/advanced-usage.html#tls-warnings\n",
      "  warnings.warn(\n"
     ]
    },
    {
     "name": "stdout",
     "output_type": "stream",
     "text": [
      "Found links: {'links': [{'type': 'about page', 'url': 'https://ingredienty-razvitie.ru/about/'}, {'type': 'catalog', 'url': 'https://ingredienty-razvitie.ru/catalog/'}, {'type': 'production', 'url': 'https://ingredienty-razvitie.ru/production/'}, {'type': 'careers page', 'url': None}]}\n"
     ]
    },
    {
     "name": "stderr",
     "output_type": "stream",
     "text": [
      "c:\\Users\\Alkor\\anaconda3\\envs\\llms\\Lib\\site-packages\\urllib3\\connectionpool.py:1097: InsecureRequestWarning: Unverified HTTPS request is being made to host 'ingredienty-razvitie.ru'. Adding certificate verification is strongly advised. See: https://urllib3.readthedocs.io/en/latest/advanced-usage.html#tls-warnings\n",
      "  warnings.warn(\n",
      "c:\\Users\\Alkor\\anaconda3\\envs\\llms\\Lib\\site-packages\\urllib3\\connectionpool.py:1097: InsecureRequestWarning: Unverified HTTPS request is being made to host 'ingredienty-razvitie.ru'. Adding certificate verification is strongly advised. See: https://urllib3.readthedocs.io/en/latest/advanced-usage.html#tls-warnings\n",
      "  warnings.warn(\n",
      "c:\\Users\\Alkor\\anaconda3\\envs\\llms\\Lib\\site-packages\\urllib3\\connectionpool.py:1097: InsecureRequestWarning: Unverified HTTPS request is being made to host 'ingredienty-razvitie.ru'. Adding certificate verification is strongly advised. See: https://urllib3.readthedocs.io/en/latest/advanced-usage.html#tls-warnings\n",
      "  warnings.warn(\n"
     ]
    },
    {
     "ename": "MissingSchema",
     "evalue": "Invalid URL 'None': No scheme supplied. Perhaps you meant https://None?",
     "output_type": "error",
     "traceback": [
      "\u001b[31m---------------------------------------------------------------------------\u001b[39m",
      "\u001b[31mMissingSchema\u001b[39m                             Traceback (most recent call last)",
      "\u001b[36mCell\u001b[39m\u001b[36m \u001b[39m\u001b[32mIn[16]\u001b[39m\u001b[32m, line 2\u001b[39m\n\u001b[32m      1\u001b[39m \u001b[38;5;66;03m# print(get_all_details(\"https://huggingface.co\"))\u001b[39;00m\n\u001b[32m----> \u001b[39m\u001b[32m2\u001b[39m \u001b[38;5;28mprint\u001b[39m(\u001b[43mget_all_details\u001b[49m\u001b[43m(\u001b[49m\u001b[33;43m\"\u001b[39;49m\u001b[33;43mhttps://ingredienty-razvitie.ru\u001b[39;49m\u001b[33;43m\"\u001b[39;49m\u001b[43m)\u001b[49m)\n",
      "\u001b[36mCell\u001b[39m\u001b[36m \u001b[39m\u001b[32mIn[15]\u001b[39m\u001b[32m, line 8\u001b[39m, in \u001b[36mget_all_details\u001b[39m\u001b[34m(url)\u001b[39m\n\u001b[32m      6\u001b[39m \u001b[38;5;28;01mfor\u001b[39;00m link \u001b[38;5;129;01min\u001b[39;00m links[\u001b[33m\"\u001b[39m\u001b[33mlinks\u001b[39m\u001b[33m\"\u001b[39m]:\n\u001b[32m      7\u001b[39m     result += \u001b[33mf\u001b[39m\u001b[33m\"\u001b[39m\u001b[38;5;130;01m\\n\u001b[39;00m\u001b[38;5;130;01m\\n\u001b[39;00m\u001b[38;5;132;01m{\u001b[39;00mlink[\u001b[33m'\u001b[39m\u001b[33mtype\u001b[39m\u001b[33m'\u001b[39m]\u001b[38;5;132;01m}\u001b[39;00m\u001b[38;5;130;01m\\n\u001b[39;00m\u001b[33m\"\u001b[39m\n\u001b[32m----> \u001b[39m\u001b[32m8\u001b[39m     result += \u001b[43mWebsite\u001b[49m\u001b[43m(\u001b[49m\u001b[43mlink\u001b[49m\u001b[43m[\u001b[49m\u001b[33;43m\"\u001b[39;49m\u001b[33;43murl\u001b[39;49m\u001b[33;43m\"\u001b[39;49m\u001b[43m]\u001b[49m\u001b[43m)\u001b[49m.get_contents()\n\u001b[32m      9\u001b[39m \u001b[38;5;28;01mreturn\u001b[39;00m result\n",
      "\u001b[36mCell\u001b[39m\u001b[36m \u001b[39m\u001b[32mIn[3]\u001b[39m\u001b[32m, line 15\u001b[39m, in \u001b[36mWebsite.__init__\u001b[39m\u001b[34m(self, url)\u001b[39m\n\u001b[32m     13\u001b[39m \u001b[38;5;28;01mdef\u001b[39;00m\u001b[38;5;250m \u001b[39m\u001b[34m__init__\u001b[39m(\u001b[38;5;28mself\u001b[39m, url):\n\u001b[32m     14\u001b[39m     \u001b[38;5;28mself\u001b[39m.url = url\n\u001b[32m---> \u001b[39m\u001b[32m15\u001b[39m     response = \u001b[43mrequests\u001b[49m\u001b[43m.\u001b[49m\u001b[43mget\u001b[49m\u001b[43m(\u001b[49m\u001b[43murl\u001b[49m\u001b[43m,\u001b[49m\u001b[43m \u001b[49m\u001b[43mheaders\u001b[49m\u001b[43m=\u001b[49m\u001b[43mheaders\u001b[49m\u001b[43m,\u001b[49m\u001b[43m \u001b[49m\u001b[43mverify\u001b[49m\u001b[43m=\u001b[49m\u001b[38;5;28;43;01mFalse\u001b[39;49;00m\u001b[43m)\u001b[49m\n\u001b[32m     16\u001b[39m     \u001b[38;5;28mself\u001b[39m.body = response.content\n\u001b[32m     17\u001b[39m     soup = BeautifulSoup(\u001b[38;5;28mself\u001b[39m.body, \u001b[33m'\u001b[39m\u001b[33mhtml.parser\u001b[39m\u001b[33m'\u001b[39m)\n",
      "\u001b[36mFile \u001b[39m\u001b[32mc:\\Users\\Alkor\\anaconda3\\envs\\llms\\Lib\\site-packages\\requests\\api.py:73\u001b[39m, in \u001b[36mget\u001b[39m\u001b[34m(url, params, **kwargs)\u001b[39m\n\u001b[32m     62\u001b[39m \u001b[38;5;28;01mdef\u001b[39;00m\u001b[38;5;250m \u001b[39m\u001b[34mget\u001b[39m(url, params=\u001b[38;5;28;01mNone\u001b[39;00m, **kwargs):\n\u001b[32m     63\u001b[39m \u001b[38;5;250m    \u001b[39m\u001b[33mr\u001b[39m\u001b[33;03m\"\"\"Sends a GET request.\u001b[39;00m\n\u001b[32m     64\u001b[39m \n\u001b[32m     65\u001b[39m \u001b[33;03m    :param url: URL for the new :class:`Request` object.\u001b[39;00m\n\u001b[32m   (...)\u001b[39m\u001b[32m     70\u001b[39m \u001b[33;03m    :rtype: requests.Response\u001b[39;00m\n\u001b[32m     71\u001b[39m \u001b[33;03m    \"\"\"\u001b[39;00m\n\u001b[32m---> \u001b[39m\u001b[32m73\u001b[39m     \u001b[38;5;28;01mreturn\u001b[39;00m \u001b[43mrequest\u001b[49m\u001b[43m(\u001b[49m\u001b[33;43m\"\u001b[39;49m\u001b[33;43mget\u001b[39;49m\u001b[33;43m\"\u001b[39;49m\u001b[43m,\u001b[49m\u001b[43m \u001b[49m\u001b[43murl\u001b[49m\u001b[43m,\u001b[49m\u001b[43m \u001b[49m\u001b[43mparams\u001b[49m\u001b[43m=\u001b[49m\u001b[43mparams\u001b[49m\u001b[43m,\u001b[49m\u001b[43m \u001b[49m\u001b[43m*\u001b[49m\u001b[43m*\u001b[49m\u001b[43mkwargs\u001b[49m\u001b[43m)\u001b[49m\n",
      "\u001b[36mFile \u001b[39m\u001b[32mc:\\Users\\Alkor\\anaconda3\\envs\\llms\\Lib\\site-packages\\requests\\api.py:59\u001b[39m, in \u001b[36mrequest\u001b[39m\u001b[34m(method, url, **kwargs)\u001b[39m\n\u001b[32m     55\u001b[39m \u001b[38;5;66;03m# By using the 'with' statement we are sure the session is closed, thus we\u001b[39;00m\n\u001b[32m     56\u001b[39m \u001b[38;5;66;03m# avoid leaving sockets open which can trigger a ResourceWarning in some\u001b[39;00m\n\u001b[32m     57\u001b[39m \u001b[38;5;66;03m# cases, and look like a memory leak in others.\u001b[39;00m\n\u001b[32m     58\u001b[39m \u001b[38;5;28;01mwith\u001b[39;00m sessions.Session() \u001b[38;5;28;01mas\u001b[39;00m session:\n\u001b[32m---> \u001b[39m\u001b[32m59\u001b[39m     \u001b[38;5;28;01mreturn\u001b[39;00m \u001b[43msession\u001b[49m\u001b[43m.\u001b[49m\u001b[43mrequest\u001b[49m\u001b[43m(\u001b[49m\u001b[43mmethod\u001b[49m\u001b[43m=\u001b[49m\u001b[43mmethod\u001b[49m\u001b[43m,\u001b[49m\u001b[43m \u001b[49m\u001b[43murl\u001b[49m\u001b[43m=\u001b[49m\u001b[43murl\u001b[49m\u001b[43m,\u001b[49m\u001b[43m \u001b[49m\u001b[43m*\u001b[49m\u001b[43m*\u001b[49m\u001b[43mkwargs\u001b[49m\u001b[43m)\u001b[49m\n",
      "\u001b[36mFile \u001b[39m\u001b[32mc:\\Users\\Alkor\\anaconda3\\envs\\llms\\Lib\\site-packages\\requests\\sessions.py:575\u001b[39m, in \u001b[36mSession.request\u001b[39m\u001b[34m(self, method, url, params, data, headers, cookies, files, auth, timeout, allow_redirects, proxies, hooks, stream, verify, cert, json)\u001b[39m\n\u001b[32m    562\u001b[39m \u001b[38;5;66;03m# Create the Request.\u001b[39;00m\n\u001b[32m    563\u001b[39m req = Request(\n\u001b[32m    564\u001b[39m     method=method.upper(),\n\u001b[32m    565\u001b[39m     url=url,\n\u001b[32m   (...)\u001b[39m\u001b[32m    573\u001b[39m     hooks=hooks,\n\u001b[32m    574\u001b[39m )\n\u001b[32m--> \u001b[39m\u001b[32m575\u001b[39m prep = \u001b[38;5;28;43mself\u001b[39;49m\u001b[43m.\u001b[49m\u001b[43mprepare_request\u001b[49m\u001b[43m(\u001b[49m\u001b[43mreq\u001b[49m\u001b[43m)\u001b[49m\n\u001b[32m    577\u001b[39m proxies = proxies \u001b[38;5;129;01mor\u001b[39;00m {}\n\u001b[32m    579\u001b[39m settings = \u001b[38;5;28mself\u001b[39m.merge_environment_settings(\n\u001b[32m    580\u001b[39m     prep.url, proxies, stream, verify, cert\n\u001b[32m    581\u001b[39m )\n",
      "\u001b[36mFile \u001b[39m\u001b[32mc:\\Users\\Alkor\\anaconda3\\envs\\llms\\Lib\\site-packages\\requests\\sessions.py:484\u001b[39m, in \u001b[36mSession.prepare_request\u001b[39m\u001b[34m(self, request)\u001b[39m\n\u001b[32m    481\u001b[39m     auth = get_netrc_auth(request.url)\n\u001b[32m    483\u001b[39m p = PreparedRequest()\n\u001b[32m--> \u001b[39m\u001b[32m484\u001b[39m \u001b[43mp\u001b[49m\u001b[43m.\u001b[49m\u001b[43mprepare\u001b[49m\u001b[43m(\u001b[49m\n\u001b[32m    485\u001b[39m \u001b[43m    \u001b[49m\u001b[43mmethod\u001b[49m\u001b[43m=\u001b[49m\u001b[43mrequest\u001b[49m\u001b[43m.\u001b[49m\u001b[43mmethod\u001b[49m\u001b[43m.\u001b[49m\u001b[43mupper\u001b[49m\u001b[43m(\u001b[49m\u001b[43m)\u001b[49m\u001b[43m,\u001b[49m\n\u001b[32m    486\u001b[39m \u001b[43m    \u001b[49m\u001b[43murl\u001b[49m\u001b[43m=\u001b[49m\u001b[43mrequest\u001b[49m\u001b[43m.\u001b[49m\u001b[43murl\u001b[49m\u001b[43m,\u001b[49m\n\u001b[32m    487\u001b[39m \u001b[43m    \u001b[49m\u001b[43mfiles\u001b[49m\u001b[43m=\u001b[49m\u001b[43mrequest\u001b[49m\u001b[43m.\u001b[49m\u001b[43mfiles\u001b[49m\u001b[43m,\u001b[49m\n\u001b[32m    488\u001b[39m \u001b[43m    \u001b[49m\u001b[43mdata\u001b[49m\u001b[43m=\u001b[49m\u001b[43mrequest\u001b[49m\u001b[43m.\u001b[49m\u001b[43mdata\u001b[49m\u001b[43m,\u001b[49m\n\u001b[32m    489\u001b[39m \u001b[43m    \u001b[49m\u001b[43mjson\u001b[49m\u001b[43m=\u001b[49m\u001b[43mrequest\u001b[49m\u001b[43m.\u001b[49m\u001b[43mjson\u001b[49m\u001b[43m,\u001b[49m\n\u001b[32m    490\u001b[39m \u001b[43m    \u001b[49m\u001b[43mheaders\u001b[49m\u001b[43m=\u001b[49m\u001b[43mmerge_setting\u001b[49m\u001b[43m(\u001b[49m\n\u001b[32m    491\u001b[39m \u001b[43m        \u001b[49m\u001b[43mrequest\u001b[49m\u001b[43m.\u001b[49m\u001b[43mheaders\u001b[49m\u001b[43m,\u001b[49m\u001b[43m \u001b[49m\u001b[38;5;28;43mself\u001b[39;49m\u001b[43m.\u001b[49m\u001b[43mheaders\u001b[49m\u001b[43m,\u001b[49m\u001b[43m \u001b[49m\u001b[43mdict_class\u001b[49m\u001b[43m=\u001b[49m\u001b[43mCaseInsensitiveDict\u001b[49m\n\u001b[32m    492\u001b[39m \u001b[43m    \u001b[49m\u001b[43m)\u001b[49m\u001b[43m,\u001b[49m\n\u001b[32m    493\u001b[39m \u001b[43m    \u001b[49m\u001b[43mparams\u001b[49m\u001b[43m=\u001b[49m\u001b[43mmerge_setting\u001b[49m\u001b[43m(\u001b[49m\u001b[43mrequest\u001b[49m\u001b[43m.\u001b[49m\u001b[43mparams\u001b[49m\u001b[43m,\u001b[49m\u001b[43m \u001b[49m\u001b[38;5;28;43mself\u001b[39;49m\u001b[43m.\u001b[49m\u001b[43mparams\u001b[49m\u001b[43m)\u001b[49m\u001b[43m,\u001b[49m\n\u001b[32m    494\u001b[39m \u001b[43m    \u001b[49m\u001b[43mauth\u001b[49m\u001b[43m=\u001b[49m\u001b[43mmerge_setting\u001b[49m\u001b[43m(\u001b[49m\u001b[43mauth\u001b[49m\u001b[43m,\u001b[49m\u001b[43m \u001b[49m\u001b[38;5;28;43mself\u001b[39;49m\u001b[43m.\u001b[49m\u001b[43mauth\u001b[49m\u001b[43m)\u001b[49m\u001b[43m,\u001b[49m\n\u001b[32m    495\u001b[39m \u001b[43m    \u001b[49m\u001b[43mcookies\u001b[49m\u001b[43m=\u001b[49m\u001b[43mmerged_cookies\u001b[49m\u001b[43m,\u001b[49m\n\u001b[32m    496\u001b[39m \u001b[43m    \u001b[49m\u001b[43mhooks\u001b[49m\u001b[43m=\u001b[49m\u001b[43mmerge_hooks\u001b[49m\u001b[43m(\u001b[49m\u001b[43mrequest\u001b[49m\u001b[43m.\u001b[49m\u001b[43mhooks\u001b[49m\u001b[43m,\u001b[49m\u001b[43m \u001b[49m\u001b[38;5;28;43mself\u001b[39;49m\u001b[43m.\u001b[49m\u001b[43mhooks\u001b[49m\u001b[43m)\u001b[49m\u001b[43m,\u001b[49m\n\u001b[32m    497\u001b[39m \u001b[43m\u001b[49m\u001b[43m)\u001b[49m\n\u001b[32m    498\u001b[39m \u001b[38;5;28;01mreturn\u001b[39;00m p\n",
      "\u001b[36mFile \u001b[39m\u001b[32mc:\\Users\\Alkor\\anaconda3\\envs\\llms\\Lib\\site-packages\\requests\\models.py:367\u001b[39m, in \u001b[36mPreparedRequest.prepare\u001b[39m\u001b[34m(self, method, url, headers, files, data, params, auth, cookies, hooks, json)\u001b[39m\n\u001b[32m    364\u001b[39m \u001b[38;5;250m\u001b[39m\u001b[33;03m\"\"\"Prepares the entire request with the given parameters.\"\"\"\u001b[39;00m\n\u001b[32m    366\u001b[39m \u001b[38;5;28mself\u001b[39m.prepare_method(method)\n\u001b[32m--> \u001b[39m\u001b[32m367\u001b[39m \u001b[38;5;28;43mself\u001b[39;49m\u001b[43m.\u001b[49m\u001b[43mprepare_url\u001b[49m\u001b[43m(\u001b[49m\u001b[43murl\u001b[49m\u001b[43m,\u001b[49m\u001b[43m \u001b[49m\u001b[43mparams\u001b[49m\u001b[43m)\u001b[49m\n\u001b[32m    368\u001b[39m \u001b[38;5;28mself\u001b[39m.prepare_headers(headers)\n\u001b[32m    369\u001b[39m \u001b[38;5;28mself\u001b[39m.prepare_cookies(cookies)\n",
      "\u001b[36mFile \u001b[39m\u001b[32mc:\\Users\\Alkor\\anaconda3\\envs\\llms\\Lib\\site-packages\\requests\\models.py:438\u001b[39m, in \u001b[36mPreparedRequest.prepare_url\u001b[39m\u001b[34m(self, url, params)\u001b[39m\n\u001b[32m    435\u001b[39m     \u001b[38;5;28;01mraise\u001b[39;00m InvalidURL(*e.args)\n\u001b[32m    437\u001b[39m \u001b[38;5;28;01mif\u001b[39;00m \u001b[38;5;129;01mnot\u001b[39;00m scheme:\n\u001b[32m--> \u001b[39m\u001b[32m438\u001b[39m     \u001b[38;5;28;01mraise\u001b[39;00m MissingSchema(\n\u001b[32m    439\u001b[39m         \u001b[33mf\u001b[39m\u001b[33m\"\u001b[39m\u001b[33mInvalid URL \u001b[39m\u001b[38;5;132;01m{\u001b[39;00murl\u001b[38;5;132;01m!r}\u001b[39;00m\u001b[33m: No scheme supplied. \u001b[39m\u001b[33m\"\u001b[39m\n\u001b[32m    440\u001b[39m         \u001b[33mf\u001b[39m\u001b[33m\"\u001b[39m\u001b[33mPerhaps you meant https://\u001b[39m\u001b[38;5;132;01m{\u001b[39;00murl\u001b[38;5;132;01m}\u001b[39;00m\u001b[33m?\u001b[39m\u001b[33m\"\u001b[39m\n\u001b[32m    441\u001b[39m     )\n\u001b[32m    443\u001b[39m \u001b[38;5;28;01mif\u001b[39;00m \u001b[38;5;129;01mnot\u001b[39;00m host:\n\u001b[32m    444\u001b[39m     \u001b[38;5;28;01mraise\u001b[39;00m InvalidURL(\u001b[33mf\u001b[39m\u001b[33m\"\u001b[39m\u001b[33mInvalid URL \u001b[39m\u001b[38;5;132;01m{\u001b[39;00murl\u001b[38;5;132;01m!r}\u001b[39;00m\u001b[33m: No host supplied\u001b[39m\u001b[33m\"\u001b[39m)\n",
      "\u001b[31mMissingSchema\u001b[39m: Invalid URL 'None': No scheme supplied. Perhaps you meant https://None?"
     ]
    }
   ],
   "source": [
    "# print(get_all_details(\"https://huggingface.co\"))\n",
    "print(get_all_details(\"https://ingredienty-razvitie.ru\"))"
   ]
  },
  {
   "cell_type": "code",
   "execution_count": 17,
   "id": "9b863a55-f86c-4e3f-8a79-94e24c1a8cf2",
   "metadata": {},
   "outputs": [],
   "source": [
    "system_prompt = \"Вы - ассистент, который анализирует содержание нескольких релевантных страниц на веб-сайте компании \\\n",
    "и создает краткую брошюру о компании для потенциальных клиентов, инвесторов и новобранцев. Ответьте в markdown.\\\n",
    "Укажите подробности о корпоративной культуре, клиентах и карьере/рабочих местах, если у вас есть такая информация, \\\n",
    "Если информации нет пропусти этот пункт.\"\n",
    "\n",
    "# Или раскомментируйте нижеприведенные строки, чтобы сделать брошюру более юмористичной - это демонстрирует, как легко включить \"тон\":\n",
    "\n",
    "# system_prompt = \"Вы - ассистент, который анализирует содержание нескольких релевантных страниц веб-сайта компании \\\n",
    "# и создает короткую юмористическую брошюру о компании для потенциальных клиентов, инвесторов и новобранцев. Ответьте в markdown.\\\n",
    "# Укажите подробную информацию о корпоративной культуре, клиентах и карьере / рабочих местах, если у вас есть такая информация.\"\n"
   ]
  },
  {
   "cell_type": "code",
   "execution_count": 18,
   "id": "6ab83d92-d36b-4ce0-8bcc-5bb4c2f8ff23",
   "metadata": {},
   "outputs": [],
   "source": [
    "def get_brochure_user_prompt(company_name, url):\n",
    "    user_prompt = f\"Вы смотрите на компанию под названием: {company_name}\\n\"\n",
    "    user_prompt += f\"Вот содержание целевой страницы и других релевантных страниц; используйте эту информацию для создания краткой брошюры о компании в markdown.\\n\"\n",
    "    user_prompt += get_all_details(url)\n",
    "    user_prompt = user_prompt[:5_000]  # Truncate if more than 5,000 characters\n",
    "    return user_prompt"
   ]
  },
  {
   "cell_type": "code",
   "execution_count": 19,
   "id": "cd909e0b-1312-4ce2-a553-821e795d7572",
   "metadata": {},
   "outputs": [
    {
     "name": "stderr",
     "output_type": "stream",
     "text": [
      "c:\\Users\\Alkor\\anaconda3\\envs\\llms\\Lib\\site-packages\\urllib3\\connectionpool.py:1097: InsecureRequestWarning: Unverified HTTPS request is being made to host 'ingredienty-razvitie.ru'. Adding certificate verification is strongly advised. See: https://urllib3.readthedocs.io/en/latest/advanced-usage.html#tls-warnings\n",
      "  warnings.warn(\n",
      "c:\\Users\\Alkor\\anaconda3\\envs\\llms\\Lib\\site-packages\\urllib3\\connectionpool.py:1097: InsecureRequestWarning: Unverified HTTPS request is being made to host 'ingredienty-razvitie.ru'. Adding certificate verification is strongly advised. See: https://urllib3.readthedocs.io/en/latest/advanced-usage.html#tls-warnings\n",
      "  warnings.warn(\n"
     ]
    },
    {
     "name": "stdout",
     "output_type": "stream",
     "text": [
      "Found links: {'links': [{'type': 'about page', 'url': 'https://ingredienty-razvitie.ru/about/'}, {'type': 'catalog', 'url': 'https://ingredienty-razvitie.ru/catalog/'}, {'type': 'production', 'url': 'https://ingredienty-razvitie.ru/production/'}, {'type': 'news', 'url': 'https://ingredienty-razvitie.ru/news/'}]}\n"
     ]
    },
    {
     "name": "stderr",
     "output_type": "stream",
     "text": [
      "c:\\Users\\Alkor\\anaconda3\\envs\\llms\\Lib\\site-packages\\urllib3\\connectionpool.py:1097: InsecureRequestWarning: Unverified HTTPS request is being made to host 'ingredienty-razvitie.ru'. Adding certificate verification is strongly advised. See: https://urllib3.readthedocs.io/en/latest/advanced-usage.html#tls-warnings\n",
      "  warnings.warn(\n",
      "c:\\Users\\Alkor\\anaconda3\\envs\\llms\\Lib\\site-packages\\urllib3\\connectionpool.py:1097: InsecureRequestWarning: Unverified HTTPS request is being made to host 'ingredienty-razvitie.ru'. Adding certificate verification is strongly advised. See: https://urllib3.readthedocs.io/en/latest/advanced-usage.html#tls-warnings\n",
      "  warnings.warn(\n",
      "c:\\Users\\Alkor\\anaconda3\\envs\\llms\\Lib\\site-packages\\urllib3\\connectionpool.py:1097: InsecureRequestWarning: Unverified HTTPS request is being made to host 'ingredienty-razvitie.ru'. Adding certificate verification is strongly advised. See: https://urllib3.readthedocs.io/en/latest/advanced-usage.html#tls-warnings\n",
      "  warnings.warn(\n",
      "c:\\Users\\Alkor\\anaconda3\\envs\\llms\\Lib\\site-packages\\urllib3\\connectionpool.py:1097: InsecureRequestWarning: Unverified HTTPS request is being made to host 'ingredienty-razvitie.ru'. Adding certificate verification is strongly advised. See: https://urllib3.readthedocs.io/en/latest/advanced-usage.html#tls-warnings\n",
      "  warnings.warn(\n"
     ]
    },
    {
     "data": {
      "text/plain": [
       "'Вы смотрите на компанию под названием: Ingredienty Razvitie\\nВот содержание целевой страницы и других релевантных страниц; используйте эту информацию для создания краткой брошюры о компании в markdown.\\nLanding page:\\nWebpage Title:\\nПищевые ингредиенты и добавки – продажа и производство\\nWebpage Contents:\\nRu\\n/\\nEn\\n+7 812 320-83-60\\nsale@irazvitie.com\\nRu\\n/\\nEn\\n+7 812 320-83-60\\nО нас\\nКаталог\\nСпецпредложения\\nПроизводство\\nНовости\\nКонтакты\\nКомплексные поставки ингредиентов для пищевой промышленности\\nВ каталог\\nКомпания\\n«Ингредиенты. Развитие»\\nУспешно работаем на российском рынке более 20 лет. Основные виды деятельности – производство и дистрибуция ингредиентов для пищевой промышленности. В штате компании работают высококлассные специалисты с практическим опытом в различных сферах пищевой отрасли.\\nНаши производственные мощности позволяют выпускать более 10 000 тонн в год текстурированного соевого белка и функциональных комплексных пищевых добавок для всех отраслей пищевой промышленности.\\nПомимо производства и продажи пищевых ингредиентов компания предоставляет услуги по разработке рецептур новых видов изделий, изготовлению тестовых образцов продукции, выявлению технологических проблем производств и продуктов, подбору сырья и ингредиентов для решения конкретных технологических задач.\\n20\\n+\\nлет работы\\nНаша\\nпродукция\\nВ каталоге представлена продукция собственного производства, отечественных и зарубежных партнёров, производителей сырья и ингредиентов для пищевой промышленности.\\nВ каталог\\nПищевые ингредиенты, сырье и добавки\\nПродукция собственного производства\\nСпецпредложения\\nСпецпредложения\\nЖелатин говяжий 180 блюм\\nФасовка 25 кг\\nПодробнее\\nот\\nXXX\\nруб./кг\\nСпецпредложения\\nКаппа каррагинан полурафинированный (Е407А)\\nФасовка 25 кг\\nПодробнее\\nот\\nXXX\\nруб./кг\\nСпецпредложения\\nСмесь \"Аромат говядины\"\\nФасовка 1 кг\\nПодробнее\\nот\\n500\\nруб./кг\\nСпецпредложения\\nСмесь \"Аромат свинины\"\\nФасовка 1 кг\\nПодробнее\\nот\\n450\\nруб./кг\\nСпецпредложения\\nСукралоза пищевая (E955)\\nФасовка 25 кг\\nПодробнее\\nот\\nXXX\\nруб./кг\\nНаше\\nпроизводство\\nМы -  одна из ведущих компаний-производителей текстурированного соевого белка. Мы производим текстураты разных фракций под ТМ «ОПТТЕМА», соевые белковые смеси подТМ «Эмульгофикс», сухие ароматизаторы для мясо- и рыбо-перерабатывающей отрасли.\\nПроизводство, как и офис компании, находится в Санкт-Петербурге на Канонерском острове – в районе активной коммерческой деятельности, рядом с Балтийской таможней и Морским портом.\\nВся цепочка производства, от поставки сырья до пакетирования и хранения готовых изделий, соответствуют нормативным требованиям. Мы гарантируем своим клиентам, что все сырье, используемое на производстве, 100% натуральное, самого высокого качества и имеет необходимые документы, подтверждающие отсутствие ГМО.\\nОтдел контроля качества строго контролирует соблюдение всех стандартов и требований к производимой продукции, обеспечивая ее неизменно высокое качество.\\nПодробнее\\nНовости\\n28/12/2024\\nС новым 2025 годом!\\n26/09/2024\\nНовая эффективная комплексная пищевая добавка собственного производства для мясоперерабатывающих производств\\nВ нашем ассортименте появилась высокоэффективная термостабильная КПД для производителей колбас, ветчин, деликатесов и консервов\\n06/03/2024\\n\"Альбумин Х\" - смесь на основе гемоглобина для производителей мясной и кормовой отраслей\\nЗапущенная несколько месяцев назад новинка стала одним из самых востребованных продуктов. Основная сфера применения: мясоперерабатывающая и кормовая отрасли.\\nВсе новости\\nНаши партнеры\\nСреди наших партнёров крупнейшие компании из разных отраслей пищевой промышленности. И со всеми мы работаем по принципу \"Индивидуальный подход к каждому клиенту\". Благодаря этому наше  взаимовыгодное сотрудничество длится годами.\\nКонтакты\\nОтдел продаж\\nООО \"Ингредиенты. Развитие\"\\nООО \"Ингредиенты. Развитие\" Россия, 198184, г.Санкт-Петербург, Канонерский остров, дом 3, корп. 1, лит. Б\\nООО \"Ингредиенты. Развитие\"\\nТел.:\\n+7 (812) 339-97-97\\n+7 (812) 320-60-89\\n+7 (921) 911-64-71\\nsale@irazvitie.com\\nРеквизиты (PDF)\\nОфис и склад в Санкт-Петербурге\\nООО \"Ингредиенты. Развитие\"\\nООО \"Ингредиенты. Развитие\" Россия, 198184, г.Санкт-Петербург, Канонерский остров, дом 3, корп. 1, лит. Б\\nООО \"Ингредиенты. Развитие\"\\nТел.:\\n+7 (812) 320-83-60\\nФакс:\\n+7 (812) 320-83-59\\ninfo@mille.ru\\nСхема проезда\\nСклад в Москве\\nООО \"Ингредиенты. Развитие\"\\nООО \"Ингредиенты. Развитие\" Россия, 142030, Московская область, Домодедовский район, пос. Ям, ул. Брестская, д. 32, строение 3\\nООО \"Ингредиенты. Развитие\"\\nТел.:\\n+7 (903) 001-80-46\\nСхема проезда\\nПолитика конфиденциальности\\nПользовательское соглашение\\nCopyright 2025\\nКарта сайта\\nОставьте заявку\\nСогласие на\\nобработку персональных данных\\nОставьте заявку\\nСогласие на\\nобработку персональных данных\\nОставьте заявку\\nСогласие на\\nобработку персональных данных\\nСпасибо за заявку!\\nМы используем файлы cookie.\\nСоглашение об использовании персональных данных\\nОК\\nВНИМАНИЕ! В СВЯЗИ С ПОВРЕЖДЕНИЯМИ ТЕЛЕФОННОГО КАБЕЛЯ НЕВОЗМОЖНО ДОЗВОНИТЬСЯ ПО ГОРОДСКИМ НОМЕРАМ! ДО УСТРАНЕНИЯ НЕПОЛАДОК, СВЯЗЬ С ОТДЕЛОМ ПРОД'"
      ]
     },
     "execution_count": 19,
     "metadata": {},
     "output_type": "execute_result"
    }
   ],
   "source": [
    "# get_brochure_user_prompt(\"HuggingFace\", \"https://huggingface.co\")\n",
    "get_brochure_user_prompt(\"Ingredienty Razvitie\", \"https://ingredienty-razvitie.ru\")"
   ]
  },
  {
   "cell_type": "code",
   "execution_count": 20,
   "id": "e44de579-4a1a-4e6a-a510-20ea3e4b8d46",
   "metadata": {},
   "outputs": [],
   "source": [
    "def create_brochure(company_name, url):\n",
    "    response = openai.chat.completions.create(\n",
    "        model=MODEL,\n",
    "        messages=[\n",
    "            {\"role\": \"system\", \"content\": system_prompt},\n",
    "            {\"role\": \"user\", \"content\": get_brochure_user_prompt(company_name, url)}\n",
    "          ],\n",
    "    )\n",
    "    result = response.choices[0].message.content\n",
    "    display(Markdown(result))"
   ]
  },
  {
   "cell_type": "code",
   "execution_count": 21,
   "id": "e093444a-9407-42ae-924a-145730591a39",
   "metadata": {},
   "outputs": [
    {
     "name": "stderr",
     "output_type": "stream",
     "text": [
      "c:\\Users\\Alkor\\anaconda3\\envs\\llms\\Lib\\site-packages\\urllib3\\connectionpool.py:1097: InsecureRequestWarning: Unverified HTTPS request is being made to host 'ingredienty-razvitie.ru'. Adding certificate verification is strongly advised. See: https://urllib3.readthedocs.io/en/latest/advanced-usage.html#tls-warnings\n",
      "  warnings.warn(\n",
      "c:\\Users\\Alkor\\anaconda3\\envs\\llms\\Lib\\site-packages\\urllib3\\connectionpool.py:1097: InsecureRequestWarning: Unverified HTTPS request is being made to host 'ingredienty-razvitie.ru'. Adding certificate verification is strongly advised. See: https://urllib3.readthedocs.io/en/latest/advanced-usage.html#tls-warnings\n",
      "  warnings.warn(\n"
     ]
    },
    {
     "name": "stdout",
     "output_type": "stream",
     "text": [
      "Found links: {'links': [{'type': 'about page', 'url': 'https://ingredienty-razvitie.ru/about/'}, {'type': 'catalog', 'url': 'https://ingredienty-razvitie.ru/catalog/'}, {'type': 'production', 'url': 'https://ingredienty-razvitie.ru/production/'}, {'type': 'contacts', 'url': 'https://ingredienty-razvitie.ru/contacts/'}]}\n"
     ]
    },
    {
     "name": "stderr",
     "output_type": "stream",
     "text": [
      "c:\\Users\\Alkor\\anaconda3\\envs\\llms\\Lib\\site-packages\\urllib3\\connectionpool.py:1097: InsecureRequestWarning: Unverified HTTPS request is being made to host 'ingredienty-razvitie.ru'. Adding certificate verification is strongly advised. See: https://urllib3.readthedocs.io/en/latest/advanced-usage.html#tls-warnings\n",
      "  warnings.warn(\n",
      "c:\\Users\\Alkor\\anaconda3\\envs\\llms\\Lib\\site-packages\\urllib3\\connectionpool.py:1097: InsecureRequestWarning: Unverified HTTPS request is being made to host 'ingredienty-razvitie.ru'. Adding certificate verification is strongly advised. See: https://urllib3.readthedocs.io/en/latest/advanced-usage.html#tls-warnings\n",
      "  warnings.warn(\n",
      "c:\\Users\\Alkor\\anaconda3\\envs\\llms\\Lib\\site-packages\\urllib3\\connectionpool.py:1097: InsecureRequestWarning: Unverified HTTPS request is being made to host 'ingredienty-razvitie.ru'. Adding certificate verification is strongly advised. See: https://urllib3.readthedocs.io/en/latest/advanced-usage.html#tls-warnings\n",
      "  warnings.warn(\n",
      "c:\\Users\\Alkor\\anaconda3\\envs\\llms\\Lib\\site-packages\\urllib3\\connectionpool.py:1097: InsecureRequestWarning: Unverified HTTPS request is being made to host 'ingredienty-razvitie.ru'. Adding certificate verification is strongly advised. See: https://urllib3.readthedocs.io/en/latest/advanced-usage.html#tls-warnings\n",
      "  warnings.warn(\n"
     ]
    },
    {
     "data": {
      "text/markdown": [
       "```markdown\n",
       "# Брошюра о компании \"Ингредиенты. Развитие\"\n",
       "\n",
       "## Общая информация\n",
       "**Название**: Ингредиенты. Развитие  \n",
       "**Сфера деятельности**: Производство и дистрибуция пищевых ингредиентов и добавок  \n",
       "**Опыт работы**: Более 20 лет на российском рынке  \n",
       "**Местонахождение**: Санкт-Петербург, Канонерский остров  \n",
       "\n",
       "Компания \"Ингредиенты. Развитие\" занимается комплексными поставками ингредиентов для пищевой промышленности и гордится высоким качеством своей продукции. \n",
       "\n",
       "## Продукция\n",
       "Компания производит и реализует:\n",
       "- Текстурированный соевый белок\n",
       "- Функциональные комплексные пищевые добавки\n",
       "- Ароматизаторы для мясо- и рыбо-перерабатывающей отрасли\n",
       "\n",
       "### Примеры продукции:\n",
       "- Жилатин говяжий\n",
       "- Каппа каррагинан\n",
       "- Смесь \"Аромат говядины\"\n",
       "- Сукралоза пищевая\n",
       "\n",
       "Вся продукция проходит строгий контроль качества и соответствует нормативным требованиям.\n",
       "\n",
       "## Производственные возможности\n",
       "На мощностях компании выпускается более **10,000 тонн** продукции в год. Производственные и офисные площади расположены в районе активной коммерческой деятельности, что обеспечивает удобство логистики и взаимодействия с клиентами.\n",
       "\n",
       "## Клиенты и партнеры\n",
       "Компания сотрудничает с крупнейшими предприятиями пищевой промышленности, предлагая индивидуальный подход к каждому клиенту. Это позволяет поддерживать долгосрочные и взаимовыгодные отношения.\n",
       "\n",
       "## Корпоративная культура\n",
       "Компания нацелена на создание высококвалифицированной команды специалистов с практическим опытом, что способствует качественному обслуживанию клиентов и оперативному решению технологических задач.\n",
       "\n",
       "## Контакты\n",
       "**Адрес основной компании**:  \n",
       "Россия, 198184, Санкт-Петербург, Канонерский остров, дом 3, корп. 1, лит. Б  \n",
       "**Телефоны**:  \n",
       "+7 812 320-83-60  \n",
       "+7 812 339-97-97  \n",
       "\n",
       "**Email**: sale@irazvitie.com  \n",
       "\n",
       "**Склад в Москве**:  \n",
       "Россия, 142030, Домодедовский район, пос. Ям, ул. Брестская, д. 32, строение 3  \n",
       "**Телефон**: +7 903 001-80-46  \n",
       "\n",
       "## Заключение\n",
       "Компания \"Ингредиенты. Развитие\" предлагает надежные решения для пищевой промышленности благодаря высококачественным продуктам и индивидуальному подходу к каждому клиенту.\n",
       "```\n"
      ],
      "text/plain": [
       "<IPython.core.display.Markdown object>"
      ]
     },
     "metadata": {},
     "output_type": "display_data"
    }
   ],
   "source": [
    "# create_brochure(\"HuggingFace\", \"https://huggingface.co\")\n",
    "create_brochure(\"Ingredienty Razvitie\", \"https://ingredienty-razvitie.ru\")"
   ]
  },
  {
   "cell_type": "markdown",
   "id": "61eaaab7-0b47-4b29-82d4-75d474ad8d18",
   "metadata": {},
   "source": [
    "## И наконец, небольшое улучшение\n",
    "\n",
    "С небольшой корректировкой мы можем изменить это так, чтобы результаты отображались в OpenAI\n",
    "со знакомой анимацией пишущей машинки"
   ]
  },
  {
   "cell_type": "code",
   "execution_count": 22,
   "id": "51db0e49-f261-4137-aabe-92dd601f7725",
   "metadata": {},
   "outputs": [],
   "source": [
    "def stream_brochure(company_name, url):\n",
    "    stream = openai.chat.completions.create(\n",
    "        model=MODEL,\n",
    "        messages=[\n",
    "            {\"role\": \"system\", \"content\": system_prompt},\n",
    "            {\"role\": \"user\", \"content\": get_brochure_user_prompt(company_name, url)}\n",
    "          ],\n",
    "        stream=True\n",
    "    )\n",
    "    \n",
    "    response = \"\"\n",
    "    display_handle = display(Markdown(\"\"), display_id=True)\n",
    "    for chunk in stream:\n",
    "        response += chunk.choices[0].delta.content or ''\n",
    "        response = response.replace(\"```\",\"\").replace(\"markdown\", \"\")\n",
    "        update_display(Markdown(response), display_id=display_handle.display_id)"
   ]
  },
  {
   "cell_type": "code",
   "execution_count": 23,
   "id": "56bf0ae3-ee9d-4a72-9cd6-edcac67ceb6d",
   "metadata": {},
   "outputs": [
    {
     "name": "stderr",
     "output_type": "stream",
     "text": [
      "c:\\Users\\Alkor\\anaconda3\\envs\\llms\\Lib\\site-packages\\urllib3\\connectionpool.py:1097: InsecureRequestWarning: Unverified HTTPS request is being made to host 'ingredienty-razvitie.ru'. Adding certificate verification is strongly advised. See: https://urllib3.readthedocs.io/en/latest/advanced-usage.html#tls-warnings\n",
      "  warnings.warn(\n",
      "c:\\Users\\Alkor\\anaconda3\\envs\\llms\\Lib\\site-packages\\urllib3\\connectionpool.py:1097: InsecureRequestWarning: Unverified HTTPS request is being made to host 'ingredienty-razvitie.ru'. Adding certificate verification is strongly advised. See: https://urllib3.readthedocs.io/en/latest/advanced-usage.html#tls-warnings\n",
      "  warnings.warn(\n"
     ]
    },
    {
     "name": "stdout",
     "output_type": "stream",
     "text": [
      "Found links: {'links': [{'type': 'about page', 'url': 'https://ingredienty-razvitie.ru/about/'}, {'type': 'catalog', 'url': 'https://ingredienty-razvitie.ru/catalog/'}, {'type': 'production', 'url': 'https://ingredienty-razvitie.ru/production/'}, {'type': 'contacts', 'url': 'https://ingredienty-razvitie.ru/contacts/'}]}\n"
     ]
    },
    {
     "name": "stderr",
     "output_type": "stream",
     "text": [
      "c:\\Users\\Alkor\\anaconda3\\envs\\llms\\Lib\\site-packages\\urllib3\\connectionpool.py:1097: InsecureRequestWarning: Unverified HTTPS request is being made to host 'ingredienty-razvitie.ru'. Adding certificate verification is strongly advised. See: https://urllib3.readthedocs.io/en/latest/advanced-usage.html#tls-warnings\n",
      "  warnings.warn(\n",
      "c:\\Users\\Alkor\\anaconda3\\envs\\llms\\Lib\\site-packages\\urllib3\\connectionpool.py:1097: InsecureRequestWarning: Unverified HTTPS request is being made to host 'ingredienty-razvitie.ru'. Adding certificate verification is strongly advised. See: https://urllib3.readthedocs.io/en/latest/advanced-usage.html#tls-warnings\n",
      "  warnings.warn(\n",
      "c:\\Users\\Alkor\\anaconda3\\envs\\llms\\Lib\\site-packages\\urllib3\\connectionpool.py:1097: InsecureRequestWarning: Unverified HTTPS request is being made to host 'ingredienty-razvitie.ru'. Adding certificate verification is strongly advised. See: https://urllib3.readthedocs.io/en/latest/advanced-usage.html#tls-warnings\n",
      "  warnings.warn(\n",
      "c:\\Users\\Alkor\\anaconda3\\envs\\llms\\Lib\\site-packages\\urllib3\\connectionpool.py:1097: InsecureRequestWarning: Unverified HTTPS request is being made to host 'ingredienty-razvitie.ru'. Adding certificate verification is strongly advised. See: https://urllib3.readthedocs.io/en/latest/advanced-usage.html#tls-warnings\n",
      "  warnings.warn(\n"
     ]
    },
    {
     "data": {
      "text/markdown": [
       "# Брошюра о компании \"Ингредиенты. Развитие\"\n",
       "\n",
       "## О компании\n",
       "**Ингредиенты. Развитие** - компания с более чем **20-летним опытом** на российском рынке, занимающаяся производством и дистрибуцией ингредиентов для пищевой промышленности. С высококвалифицированными специалистами в команде и мощным производственным потенциалом, компания предлагает комплексные поставки продуктов для различных сегментов пищевой отрасли.\n",
       "\n",
       "### Основные факты:\n",
       "- **Год основания:** более 20 лет назад\n",
       "- **Производственные мощности:** более 10 000 тонн в год текстурированного соевого белка\n",
       "- **Локация:** Санкт-Петербург, Канонерский остров\n",
       "\n",
       "## Продукция\n",
       "Компания предлагает широкий ассортимент пищевых ингредиентов и добавок, включая:\n",
       "- Текстурированный соевый белок под ТМ «ОПТТЕМА»\n",
       "- Соевые белковые смеси под ТМ «Эмульгофикс»\n",
       "- Сухие ароматизаторы для мясо- и рыбо-перерабатывающей отрасли\n",
       "\n",
       "### Спецпредложения:\n",
       "- **Желатин говяжий** (180 блюм)\n",
       "- **Каппа каррагинан** полурафинированный (Е407А)\n",
       "- **Смеси ароматов**: говядины и свинины\n",
       "- **Сукралоза пищевая** (E955)\n",
       "\n",
       "## Производство и качество\n",
       "Все этапы производства, от поставки сырья до упаковки готовой продукции, соответствуют строгим нормативным требованиям. Все используемые ингредиенты 100% натуральные, с подтверждающей документацией об отсутствии ГМО. Отдел контроля качества обеспечивает соблюдение всех стандартов и требований к продукции, гарантируя ее высокое качество.\n",
       "\n",
       "## Корпоративная культура\n",
       "Компания поощряет индивидуальный подход к каждому клиенту, что способствует долгосрочному и взаимовыгодному сотрудничеству. Наши партнеры - это крупнейшие компании различных отраслей пищевой промышленности, с которыми мы настраиваем взаимовыгодные отношения на основе доверия и поддержки. \n",
       "\n",
       "## Карьера\n",
       "На данный момент информации о карьерных возможностях в компании нет. Однако, учитывая опыт и масштабы компании, предполагается, что здесь могут быть открыты вакансии для квалифицированных специалистов в области пищевой инженерии и технологий.\n",
       "\n",
       "## Контакты\n",
       "- **Адрес офиса:**  \n",
       "  Санкт-Петербург, Канонерский остров, дом 3, корп. 1, лит. Б  \n",
       "- **Телефон:**  \n",
       "  +7 (812) 320-83-60  \n",
       "- **Email:**  \n",
       "  sale@irazvitie.com  \n",
       "\n",
       "Для получения дополнительной информации и ознакомления с полным каталогом продукции，请 посетите наш веб-сайт."
      ],
      "text/plain": [
       "<IPython.core.display.Markdown object>"
      ]
     },
     "metadata": {},
     "output_type": "display_data"
    }
   ],
   "source": [
    "# stream_brochure(\"HuggingFace\", \"https://huggingface.co\")\n",
    "stream_brochure(\"Ingredienty Razvitie\", \"https://ingredienty-razvitie.ru\")\n",
    "# stream_brochure(\"РУСАГРО\", \"https://www.rusagrogroup.ru/ru/\")"
   ]
  },
  {
   "cell_type": "code",
   "execution_count": 25,
   "id": "fdb3f8d8-a3eb-41c8-b1aa-9f60686a653b",
   "metadata": {},
   "outputs": [
    {
     "name": "stderr",
     "output_type": "stream",
     "text": [
      "c:\\Users\\Alkor\\anaconda3\\envs\\llms\\Lib\\site-packages\\urllib3\\connectionpool.py:1097: InsecureRequestWarning: Unverified HTTPS request is being made to host 'ingredienty-razvitie.ru'. Adding certificate verification is strongly advised. See: https://urllib3.readthedocs.io/en/latest/advanced-usage.html#tls-warnings\n",
      "  warnings.warn(\n",
      "c:\\Users\\Alkor\\anaconda3\\envs\\llms\\Lib\\site-packages\\urllib3\\connectionpool.py:1097: InsecureRequestWarning: Unverified HTTPS request is being made to host 'ingredienty-razvitie.ru'. Adding certificate verification is strongly advised. See: https://urllib3.readthedocs.io/en/latest/advanced-usage.html#tls-warnings\n",
      "  warnings.warn(\n"
     ]
    },
    {
     "name": "stdout",
     "output_type": "stream",
     "text": [
      "Found links: {'links': [{'type': 'about page', 'url': 'https://ingredienty-razvitie.ru/about/'}, {'type': 'catalog', 'url': 'https://ingredienty-razvitie.ru/catalog/'}, {'type': 'production', 'url': 'https://ingredienty-razvitie.ru/production/'}, {'type': 'news', 'url': 'https://ingredienty-razvitie.ru/news/'}, {'type': 'contacts', 'url': 'https://ingredienty-razvitie.ru/contacts/'}]}\n"
     ]
    },
    {
     "name": "stderr",
     "output_type": "stream",
     "text": [
      "c:\\Users\\Alkor\\anaconda3\\envs\\llms\\Lib\\site-packages\\urllib3\\connectionpool.py:1097: InsecureRequestWarning: Unverified HTTPS request is being made to host 'ingredienty-razvitie.ru'. Adding certificate verification is strongly advised. See: https://urllib3.readthedocs.io/en/latest/advanced-usage.html#tls-warnings\n",
      "  warnings.warn(\n",
      "c:\\Users\\Alkor\\anaconda3\\envs\\llms\\Lib\\site-packages\\urllib3\\connectionpool.py:1097: InsecureRequestWarning: Unverified HTTPS request is being made to host 'ingredienty-razvitie.ru'. Adding certificate verification is strongly advised. See: https://urllib3.readthedocs.io/en/latest/advanced-usage.html#tls-warnings\n",
      "  warnings.warn(\n",
      "c:\\Users\\Alkor\\anaconda3\\envs\\llms\\Lib\\site-packages\\urllib3\\connectionpool.py:1097: InsecureRequestWarning: Unverified HTTPS request is being made to host 'ingredienty-razvitie.ru'. Adding certificate verification is strongly advised. See: https://urllib3.readthedocs.io/en/latest/advanced-usage.html#tls-warnings\n",
      "  warnings.warn(\n",
      "c:\\Users\\Alkor\\anaconda3\\envs\\llms\\Lib\\site-packages\\urllib3\\connectionpool.py:1097: InsecureRequestWarning: Unverified HTTPS request is being made to host 'ingredienty-razvitie.ru'. Adding certificate verification is strongly advised. See: https://urllib3.readthedocs.io/en/latest/advanced-usage.html#tls-warnings\n",
      "  warnings.warn(\n",
      "c:\\Users\\Alkor\\anaconda3\\envs\\llms\\Lib\\site-packages\\urllib3\\connectionpool.py:1097: InsecureRequestWarning: Unverified HTTPS request is being made to host 'ingredienty-razvitie.ru'. Adding certificate verification is strongly advised. See: https://urllib3.readthedocs.io/en/latest/advanced-usage.html#tls-warnings\n",
      "  warnings.warn(\n"
     ]
    },
    {
     "data": {
      "text/markdown": [
       "# Брошюра компании \"Ингредиенты. Развитие\"\n",
       "\n",
       "Добро пожаловать в мир \"Ингредиенты. Развитие\" – компанию, которая с 2003 года создает чудеса на столах и в производственных цехах! 🍽️🎉\n",
       "\n",
       "## Наша миссия\n",
       "\n",
       "Мы как супергерои пищевой промышленности! Спасаем предприятия от скучных и неэффективных решений, предоставляя **комплексные поставки пищевых ингредиентов и добавок**. Наши героические походы по завоеванию сердца клиентов продолжаются уже более 20 лет!\n",
       "\n",
       "## Кто мы?\n",
       "\n",
       "Наша команда — это не просто преданные своему делу профессионалы, а **высококлассные специалисты**, которые разбираются в пищевой отрасли так же хорошо, как в хороших покерах. Мы умеем делать текстурированный соевой белок и функциональные добавки так, что вашим клиентам обязательно будет вкусно. 🍔\n",
       "\n",
       "### Наши производственные мощности\n",
       "\n",
       "Мы не только мечтаем, но и производим! 😎 С каждым годом наши мощности становятся больше и лучше — более **10 000 тонн** в год текстурированного соевого белка и добавок! Если вам нужно создать новый ореховый вкус – дайте нам знать, и мы, как волшебники, соберем рецепт на ваших глазах!\n",
       "\n",
       "### Кто наши клиенты?\n",
       "\n",
       "Мы полны гордости, работая с крупнейшими компаниями из разнообразных секторов пищевой отрасли. Наш подход можно описать как **\"Индивидуальный подход к каждому клиенту\"** – никогда не забываем, что каждый бизнес уникален, как и рецепт бабушкиного пирога!\n",
       "\n",
       "## Работа с нами\n",
       "\n",
       "### Карьера\n",
       "\n",
       "Ищете работу, где вас будут ценить и уважать? Мы постоянно в поисках свежих идей и талантливых сотрудников. **Присоединяйтесь к нашей команде**, где услуги и дружба идут рука об руку! \n",
       "\n",
       "Станьте частью нашей растущей семьи на Канонерском острове в Санкт-Петербурге, где каждый день — это новая возможность сделать что-то полезное!\n",
       "\n",
       "### Наши ценности\n",
       "\n",
       "- **Качество** — мы заботимся о том, чтобы наш продукт был только самого высокого качества. \n",
       "- **Натуральность** — все наши ингредиенты 100% натуральные и без ГМО, потому что ваше здоровье для нас на первом месте!\n",
       "- **Повышение стандартов** — мы стремимся к улучшению технологий, потому что кто не хочет быть первым?\n",
       "\n",
       "## Контакты\n",
       "\n",
       "К вам в гости на **Канонерский остров**? 🎣 Мы всегда рады новым знакомствам!\n",
       "\n",
       "- 📞 Телефон: +7 812 320-83-60\n",
       "- 📧 Email: sale@irazvitie.com\n",
       "\n",
       "---\n",
       "\n",
       "Приходите к нам, и давайте вместе готовить будущее пищевой промышленности! 🥳"
      ],
      "text/plain": [
       "<IPython.core.display.Markdown object>"
      ]
     },
     "metadata": {},
     "output_type": "display_data"
    }
   ],
   "source": [
    "# Попробуйте изменить системное приглашение на юмористическую версию, когда будете создавать брошюру для \"Обнимающегося лица\".:\n",
    "\n",
    "system_prompt = \"Вы - ассистент, который анализирует содержание нескольких релевантных страниц веб-сайта компании \\\n",
    "и создает короткую юмористическую брошюру о компании для потенциальных клиентов, инвесторов и новобранцев. Ответьте в markdown.\\\n",
    "Укажите подробную информацию о корпоративной культуре, клиентах и карьере / рабочих местах, если у вас есть такая информация.\"\n",
    "\n",
    "# stream_brochure(\"HuggingFace\", \"https://huggingface.co\")\n",
    "stream_brochure(\"Ингредиенты. Развитие.\", \"https://ingredienty-razvitie.ru/\")\n",
    "# stream_brochure(\"РУСАГРО\", \"https://www.rusagrogroup.ru/ru/\")"
   ]
  },
  {
   "cell_type": "code",
   "execution_count": 26,
   "id": "81bfdf1f",
   "metadata": {},
   "outputs": [
    {
     "name": "stderr",
     "output_type": "stream",
     "text": [
      "c:\\Users\\Alkor\\anaconda3\\envs\\llms\\Lib\\site-packages\\urllib3\\connectionpool.py:1097: InsecureRequestWarning: Unverified HTTPS request is being made to host 'ingredienty-razvitie.ru'. Adding certificate verification is strongly advised. See: https://urllib3.readthedocs.io/en/latest/advanced-usage.html#tls-warnings\n",
      "  warnings.warn(\n",
      "c:\\Users\\Alkor\\anaconda3\\envs\\llms\\Lib\\site-packages\\urllib3\\connectionpool.py:1097: InsecureRequestWarning: Unverified HTTPS request is being made to host 'ingredienty-razvitie.ru'. Adding certificate verification is strongly advised. See: https://urllib3.readthedocs.io/en/latest/advanced-usage.html#tls-warnings\n",
      "  warnings.warn(\n"
     ]
    },
    {
     "name": "stdout",
     "output_type": "stream",
     "text": [
      "Found links: {'links': [{'type': 'about page', 'url': 'https://ingredienty-razvitie.ru/about/'}, {'type': 'catalog', 'url': 'https://ingredienty-razvitie.ru/catalog/'}, {'type': 'production', 'url': 'https://ingredienty-razvitie.ru/production/'}, {'type': 'news', 'url': 'https://ingredienty-razvitie.ru/news/'}, {'type': 'contacts', 'url': 'https://ingredienty-razvitie.ru/contacts/'}]}\n"
     ]
    },
    {
     "name": "stderr",
     "output_type": "stream",
     "text": [
      "c:\\Users\\Alkor\\anaconda3\\envs\\llms\\Lib\\site-packages\\urllib3\\connectionpool.py:1097: InsecureRequestWarning: Unverified HTTPS request is being made to host 'ingredienty-razvitie.ru'. Adding certificate verification is strongly advised. See: https://urllib3.readthedocs.io/en/latest/advanced-usage.html#tls-warnings\n",
      "  warnings.warn(\n",
      "c:\\Users\\Alkor\\anaconda3\\envs\\llms\\Lib\\site-packages\\urllib3\\connectionpool.py:1097: InsecureRequestWarning: Unverified HTTPS request is being made to host 'ingredienty-razvitie.ru'. Adding certificate verification is strongly advised. See: https://urllib3.readthedocs.io/en/latest/advanced-usage.html#tls-warnings\n",
      "  warnings.warn(\n",
      "c:\\Users\\Alkor\\anaconda3\\envs\\llms\\Lib\\site-packages\\urllib3\\connectionpool.py:1097: InsecureRequestWarning: Unverified HTTPS request is being made to host 'ingredienty-razvitie.ru'. Adding certificate verification is strongly advised. See: https://urllib3.readthedocs.io/en/latest/advanced-usage.html#tls-warnings\n",
      "  warnings.warn(\n",
      "c:\\Users\\Alkor\\anaconda3\\envs\\llms\\Lib\\site-packages\\urllib3\\connectionpool.py:1097: InsecureRequestWarning: Unverified HTTPS request is being made to host 'ingredienty-razvitie.ru'. Adding certificate verification is strongly advised. See: https://urllib3.readthedocs.io/en/latest/advanced-usage.html#tls-warnings\n",
      "  warnings.warn(\n",
      "c:\\Users\\Alkor\\anaconda3\\envs\\llms\\Lib\\site-packages\\urllib3\\connectionpool.py:1097: InsecureRequestWarning: Unverified HTTPS request is being made to host 'ingredienty-razvitie.ru'. Adding certificate verification is strongly advised. See: https://urllib3.readthedocs.io/en/latest/advanced-usage.html#tls-warnings\n",
      "  warnings.warn(\n"
     ]
    },
    {
     "data": {
      "text/markdown": [
       "# Брошюра о компании \"Ингредиенты. Развитие\"\n",
       "*Пищевые ингредиенты и добавки – мы здесь, и, ох, как мы шумим!*\n",
       "\n",
       "---\n",
       "\n",
       "## Корпоративная культура\n",
       "Добро пожаловать в мир «Ингредиенты. Развитие»! Наша корпоративная культура явно вдохновлена победами духа соевыми белками и ароматизаторами! Мы слабоваты на инсайты, но мы сопротивляемся и спасаем мир от голода, производя продукты сомнительного качества. В нашем штате – высококлассные специалисты, которые, видимо, осваивают свою профессиональную квалификацию всё сотворяя с соевым белком на протяжении двух десятилетий.\n",
       "\n",
       "## Клиенты\n",
       "Наши клиенты – это самые надёжные компании в пищевой отрасли, разумеется, те, кто еще не выжили в борьбе жестокой конкуренции. С нами они гарантированно получат… что угодно, если это будет под всем известным слоганом: «Индивидуальный подход к каждому клиенту!» Так что, если у ваш бизнес переживает трудные времена, добро пожаловать к нам! Возможно, мы так же вам подойдём.\n",
       "\n",
       "## Карьера/Рабочие места\n",
       "Хотите стать частью нашей команды? О, у нас всегда есть вакансии для неугомонного населения! Мы приглашаем вас прийти на собеседование и продемонстрировать своё умение улыбаться, когда окружающие недоумевают, как ещё можно работать с такими высококлассными \"и обязательно натуральными\" продуктами. Будьте готовы к работе в «комплексной» атмосфере, где ваша инициатива не всегда ценится так, как вам бы хотелось!\n",
       "\n",
       "## Продукция\n",
       "У нас есть всё, от «Аромата говядины» до «Смеси на основе гемоглобина»! Это вам не просто разнообразие! Для нас это — целая философия: абстракция под соусом современных тенденций. Мы гордимся тем, что производим более 10,000 тонн текстурированного соевого белка в год! Когда наш продукт попадает в ваши продукты, это переживание точно будет незабываемым: вам лишь нужно будет взвесить ожидаемое качество нашей продукции!\n",
       "\n",
       "---\n",
       "\n",
       "Так что, если вы ищете компанию, которая предлагает замысловатую комбинированную продукцию с запутанной философией, обращайтесь в «Ингредиенты. Развитие». А кто знает, возможно, вкусы и запахи из нашего асортимента станут для вас тем самым важным ингредиентом жизни!"
      ],
      "text/plain": [
       "<IPython.core.display.Markdown object>"
      ]
     },
     "metadata": {},
     "output_type": "display_data"
    }
   ],
   "source": [
    "# Попробуйте изменить системное приглашение на язвительную версию, когда будете создавать брошюру.:\n",
    "\n",
    "system_prompt = \"Вы - ассистент, который анализирует содержание нескольких релевантных страниц веб-сайта компании \\\n",
    "и создает короткую язвительную брошюру о компании для ее высмеивания. Ответьте в markdown.\\\n",
    "Укажите в насмешливой форме информацию о корпоративной культуре, клиентах и карьере/рабочих местах, \\\n",
    "и продукции собственного производства, если у вас есть такая информация\"\n",
    "\n",
    "# stream_brochure(\"HuggingFace\", \"https://huggingface.co\")\n",
    "stream_brochure(\"Ингредиенты. Развитие.\", \"https://ingredienty-razvitie.ru/\")\n",
    "# stream_brochure(\"РУСАГРО\", \"https://www.rusagrogroup.ru/ru/\")"
   ]
  },
  {
   "cell_type": "markdown",
   "id": "a27bf9e0-665f-4645-b66b-9725e2a959b5",
   "metadata": {},
   "source": [
    "<table style=\"margin: 0; text-align: left;\">\n",
    "    <tr>\n",
    "        <td style=\"width: 150px; height: 150px; vertical-align: middle;\">\n",
    "            <img src=\"../business.jpg\" width=\"150\" height=\"150\" style=\"display: block;\" />\n",
    "        </td>\n",
    "        <td>\n",
    "            <h2 style=\"color:#181;\">Бизнес-приложения</h2>\n",
    "            <span style=\"color:#181;\">В этом упражнении мы расширили код первого дня, чтобы выполнить несколько вызовов LLM и сгенерировать документ.\n",
    "\n",
    "Это, пожалуй, первый пример шаблонов проектирования Agentic AI, поскольку мы объединили несколько обращений к LLMs. Подробнее об этом будет рассказано на 2-й неделе, а затем мы вернемся к Agent AI в более широком плане на 8-й неделе, когда мы создадим полностью автономное решение для агентов.\n",
    "\n",
    "Создание контента таким образом - один из самых распространенных вариантов использования. Как и в случае с обобщением, это можно применить к любой бизнес-вертикали. Пишите маркетинговый контент, создавайте руководство по продукту на основе спецификации, создавайте персонализированный контент для электронной почты и многое другое. Узнайте, как вы можете применить создание контента в своем бизнесе, и попробуйте сами создать прототип, подтверждающий концепцию. Посмотрите, что сделали другие студенты, в папке \"Вклады сообщества\" - так много ценных проектов - это потрясающе!</span>\n",
    "        </td>\n",
    "    </tr>\n",
    "</table>"
   ]
  },
  {
   "cell_type": "markdown",
   "id": "14b2454b-8ef8-4b5c-b928-053a15e0d553",
   "metadata": {},
   "source": [
    "<table style=\"margin: 0; text-align: left;\">\n",
    "    <tr>\n",
    "        <td style=\"width: 150px; height: 150px; vertical-align: middle;\">\n",
    "            <img src=\"../important.jpg\" width=\"150\" height=\"150\" style=\"display: block;\" />\n",
    "        </td>\n",
    "        <td>\n",
    "            <h2 style=\"color:#900;\">Прежде чем вы перейдете ко второй неделе (которая обещает быть очень веселой)</h2>\n",
    "            <span style=\"color:#900;\">Пожалуйста, ознакомьтесь с записной книжкой для упражнений на 1-ю неделю, чтобы получить задание на конец 1-й недели. Это даст вам необходимую практику в работе с интерфейсами Frontier API и хорошо подготовит вас ко 2-й неделе.</span>\n",
    "        </td>\n",
    "    </tr>\n",
    "</table>"
   ]
  },
  {
   "cell_type": "markdown",
   "id": "17b64f0f-7d33-4493-985a-033d06e8db08",
   "metadata": {},
   "source": [
    "<table style=\"margin: 0; text-align: left;\">\n",
    "    <tr>\n",
    "        <td style=\"width: 150px; height: 150px; vertical-align: middle;\">\n",
    "            <img src=\"../resources.jpg\" width=\"150\" height=\"150\" style=\"display: block;\" />\n",
    "        </td>\n",
    "        <td>\n",
    "            <h2 style=\"color:#f71;\">Напоминание о 3 полезных ресурсах</h2>\n",
    "            <span style=\"color:#f71;\">1. Ресурсы для проведения курса доступны <a href=\"https://edwarddonner.com/2024/11/13/llm-engineering-resources/\">here.</a><br/>\n",
    "            2. I'm on LinkedIn <a href=\"https://www.linkedin.com/in/eddonner/\">here</a> and I love connecting with people taking the course!<br/>\n",
    "            3. I'm trying out X/Twitter and I'm at <a href=\"https://x.com/edwarddonner\">@edwarddonner<a> and hoping people will teach me how it's done..  \n",
    "            </span>\n",
    "        </td>\n",
    "    </tr>\n",
    "</table>"
   ]
  },
  {
   "cell_type": "markdown",
   "id": "6f48e42e-fa7a-495f-a5d4-26bfc24d60b6",
   "metadata": {},
   "source": [
    "<table style=\"margin: 0; text-align: left;\">\n",
    "    <tr>\n",
    "        <td style=\"width: 150px; height: 150px; vertical-align: middle;\">\n",
    "            <img src=\"../thankyou.jpg\" width=\"150\" height=\"150\" style=\"display: block;\" />\n",
    "        </td>\n",
    "        <td>\n",
    "            <h2 style=\"color:#090;\">Наконец-то! У меня есть к тебе особая просьба</h2>\n",
    "            <span style=\"color:#090;\">\n",
    "                Мой редактор говорит мне, что это имеет огромное значение, когда студенты оценивают этот курс на Udemy - это один из основных способов, с помощью которого Udemy решает, показывать ли его другим. Если у вас найдется минутка, чтобы оценить это, я был бы вам очень признателен! И, несмотря ни на что, всегда обращайтесь ко мне по адресу ed@edwarddonner.com если я могу чем-то помочь.\n",
    "            </span>\n",
    "        </td>\n",
    "    </tr>\n",
    "</table>"
   ]
  },
  {
   "cell_type": "code",
   "execution_count": null,
   "id": "b8d3e1a1-ba54-4907-97c5-30f89a24775b",
   "metadata": {},
   "outputs": [],
   "source": []
  }
 ],
 "metadata": {
  "kernelspec": {
   "display_name": "llms",
   "language": "python",
   "name": "python3"
  },
  "language_info": {
   "codemirror_mode": {
    "name": "ipython",
    "version": 3
   },
   "file_extension": ".py",
   "mimetype": "text/x-python",
   "name": "python",
   "nbconvert_exporter": "python",
   "pygments_lexer": "ipython3",
   "version": "3.11.13"
  }
 },
 "nbformat": 4,
 "nbformat_minor": 5
}
