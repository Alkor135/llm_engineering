{
 "cells": [
  {
   "cell_type": "markdown",
   "id": "e426cd04-c053-43e8-b505-63cee7956a53",
   "metadata": {},
   "source": [
    "# Добро пожаловать в папку \"Очень насыщенная неделя 8\"\n",
    "\n",
    "## На этой неделе у нас много дел!\n",
    "\n",
    "Мы будем работать быстрее, чем обычно, особенно по мере того, как вы становитесь опытными инженерами LLM.\n"
   ]
  },
  {
   "cell_type": "markdown",
   "id": "b3cf5389-93c5-4523-bc48-78fabb91d8f6",
   "metadata": {},
   "source": [
    "<table style=\"margin: 0; text-align: left;\">\n",
    "    <tr>\n",
    "        <td style=\"width: 150px; height: 150px; vertical-align: middle;\">\n",
    "            <img src=\"../important.jpg\" width=\"150\" height=\"150\" style=\"display: block;\" />\n",
    "        </td>\n",
    "        <td>\n",
    "            <h2 style=\"color:#900;\">Особенно важно на этой неделе: извлеките последние</h2>\n",
    "            <span style=\"color:#900;\">Я постоянно совершенствую эти лабораторные работы, добавляя больше примеров и упражнений.\n",
    "            В начале каждой недели стоит проверять, есть ли у вас последний код.<br/>\n",
    "            Сначала сделайте <a href=\"https://chatgpt.com/share/6734e705-3270-8012-a074-421661af6ba9\">git pull and merge your changes as needed</a>. Возникли проблемы? Попробуйте спросить у ChatGPT, как осуществить слияние, или свяжитесь со мной!<br/><br/>\n",
    "            После того, как вы извлекли код из каталога llm_engineering в командной строке Anaconda (ПК) или терминала (Mac), запустите:<br/>\n",
    "            <code>conda env update --f environment.yml --prune</code><br/>\n",
    "            Или, если вы использовали virtualenv, а не Anaconda, запустите его из своей активированной среды в Powershell (ПК) или терминале (Mac).:<br/>\n",
    "            <code>pip install -r requirements.txt</code>\n",
    "            <br/>Затем перезапустите ядро (меню Ядра >> Перезапустить ядро и очистить выходные данные Всех Ячеек), чтобы внести изменения.\n",
    "            </span>\n",
    "        </td>\n",
    "    </tr>\n",
    "</table>"
   ]
  },
  {
   "cell_type": "code",
   "execution_count": null,
   "id": "bc0e1c1c-be6a-4395-bbbd-eeafc9330d7e",
   "metadata": {},
   "outputs": [],
   "source": [
    "# Just one import to start with!!\n",
    "\n",
    "import modal"
   ]
  },
  {
   "cell_type": "markdown",
   "id": "ab5c8533-9f66-448f-b9b2-133d1ff50639",
   "metadata": {},
   "source": [
    "# Настройка модальных токенов\n",
    "\n",
    "При первом запуске этой программы, пожалуйста, раскомментируйте следующую строку и выполните ее.  \n",
    "Это то же самое, что запустить `modal setup` из командной строки. Программа подключается к Modal и устанавливает ваши токены.  \n",
    "\n",
    "## Устранение некоторых распространенных проблем в Windows\n",
    "\n",
    "Если эта команда завершится ошибкой в следующей ячейке или если какая-либо из модальных команд с `!` завершится ошибкой, попробуйте запустить их непосредственно из командной строки в активированной среде (без `!`).\n",
    "\n",
    "Студент, изучающий Windows, упомянул, что в Windows вам также может потребоваться запустить эту команду из командной строки в активированной среде после этого:  \n",
    "`modal token new`  \n",
    "(Спасибо Эду Би за это!)\n",
    "\n",
    "Другой студент, изучающий Windows, Мин Н., упомянул, что вам может потребоваться использовать этот подход из активированной среды в командной строке:  \n",
    "`набор модальных токенов -идентификатор токена <your_token_id> -секретный токен <your_token_secret>`\n",
    "\n",
    "Кроме того, студент Дэвид С. упомянул следующее:  \n",
    "> На случай, если кто-то еще, использующий Windows, столкнется с этой проблемой: помимо запуска \"modal token new\" из командной строки, вам необходимо переместить сгенерированный файл токена. Файл токена (.modal.toml) будет развернут в папке вашего профиля Windows. Виртуальная среда не смогла увидеть это местоположение (как ни странно, даже после того, как я установил для него переменные среды и перезагрузился). Я переместил этот файл-маркер в папку, из которой я работаю в лаборатории, и он перестал выдавать ошибки аутентификации.\n",
    "\n",
    "А другой студент, изучающий Windows (Роберт М. - спасибо!), добавил еще один возможный шаг:\n",
    "\n",
    "\n",
    "> Я не смог заставить modal увидеть мои токены (что привело к \"ошибке аутентификации\"), даже после копирования файла \".modal.toml\" в папку \"week8\" и перезапуска JupyterLab. Исправление состояло в том, чтобы вручную установить переменные среды (стандартным способом). Этот метод настройки описан в modal на их [веб-сайте](https://modal.com/docs/reference/modal.config)  \n",
    "```\n",
    "импорт\n",
    "операционной системы os.environ[\"MODAL_TOKEN_ID\"] = \"xxx\"\n",
    "os.environ[\"MODAL_TOKEN_SECRET\"] = \"гггг\" \n",
    "```\n",
    "\n",
    "Наконец: я также слышал, что в некоторых ситуациях вам может потребоваться перезапустить ядро этого jupyter notebook после запуска этого приложения. (Меню ядра >> Перезапустить ядро и очистить выходные данные всех ячеек)."
   ]
  },
  {
   "cell_type": "code",
   "execution_count": null,
   "id": "0d240622-8422-4c99-8464-c04d063e4cb6",
   "metadata": {},
   "outputs": [],
   "source": [
    "# Remove the '# ' from the next line and run the cell, or run this command without the excalamation mark from an activated command prompt\n",
    "# !modal setup"
   ]
  },
  {
   "cell_type": "code",
   "execution_count": null,
   "id": "3b133701-f550-44a1-a67f-eb7ccc4769a9",
   "metadata": {},
   "outputs": [],
   "source": [
    "from hello import app, hello, hello_europe"
   ]
  },
  {
   "cell_type": "code",
   "execution_count": null,
   "id": "0f3f73ae-1295-49f3-9099-b8b41fc3429b",
   "metadata": {},
   "outputs": [],
   "source": [
    "with app.run():\n",
    "    reply=hello.local()\n",
    "reply"
   ]
  },
  {
   "cell_type": "code",
   "execution_count": null,
   "id": "c1d8c6f9-edc7-4e52-9b3a-c07d7cff1ac7",
   "metadata": {},
   "outputs": [],
   "source": [
    "with app.run():\n",
    "    reply=hello.remote()\n",
    "reply"
   ]
  },
  {
   "cell_type": "markdown",
   "id": "a1c075e9-49c7-4ebd-812f-83196d32de32",
   "metadata": {},
   "source": [
    "## Added thanks to student Tue H.\n",
    "\n",
    "If you look in hello.py, I've added a simple function hello_europe\n",
    "\n",
    "That uses the decorator:  \n",
    "`@app.function(image=image, region=\"eu\")`\n",
    "\n",
    "See the result below! More region specific settings are [here](https://modal.com/docs/guide/region-selection)\n",
    "\n",
    "Note that it does consume marginally more credits to specify a region.\n",
    "\n",
    "## Добавлено благодаря студенту Tue H.\n",
    "\n",
    "Если вы заглянете в раздел hello.py, я добавил простую функцию hello_europe\n",
    "\n",
    ", которая использует декоратор:  \n",
    "`@app.function(image=image, region=\"eu\")`\n",
    "\n",
    "Смотрите результат ниже! Дополнительные настройки для конкретного региона приведены [здесь](https://model.com/docs/guide/region-selection)\n",
    "\n",
    "Обратите внимание, что для указания региона требуется немного больше кредитов."
   ]
  },
  {
   "cell_type": "code",
   "execution_count": null,
   "id": "b027da1a-c79d-42cb-810d-32ddca31aa02",
   "metadata": {},
   "outputs": [],
   "source": [
    "with app.run():\n",
    "    reply=hello_europe.remote()\n",
    "reply"
   ]
  },
  {
   "cell_type": "markdown",
   "id": "22e8d804-c027-45fb-8fef-06e7bba6295a",
   "metadata": {},
   "source": [
    "# Прежде чем мы продолжим -\n",
    "\n",
    "## Нам нужно установить ваш жетон \"Обнимающее лицо\" в качестве секретного в режиме Modal\n",
    "\n",
    "1. Перейдите по ссылке modal.com, войдите в систему и перейдите на свою панель управления\n",
    "2. Нажмите \"Секреты\" на панели навигации\n",
    "3. Создайте новый секрет, нажмите на \"Обнимающее лицо\", этот новый секрет должен называться **hf-secret**, потому что именно так мы называем его в коде\n",
    "4. Введите свой HF_TOKEN, где вам будет предложено\n",
    "\n",
    "### А теперь вернемся к делу: пришло время поработать с Ламой."
   ]
  },
  {
   "cell_type": "code",
   "execution_count": null,
   "id": "cb8b6c41-8259-4329-b1c4-a1f67d26d1be",
   "metadata": {},
   "outputs": [],
   "source": [
    "# Этот импорт может привести к появлению предупреждения об устаревании при добавлении локальных модулей Python в изображение\n",
    "# Это предупреждение можно смело игнорировать. Вы можете получить такое же предупреждение и в других местах..\n",
    "\n",
    "from llama import app, generate"
   ]
  },
  {
   "cell_type": "code",
   "execution_count": null,
   "id": "db4a718a-d95d-4f61-9688-c9df21d88fe6",
   "metadata": {},
   "outputs": [],
   "source": [
    "with modal.enable_output():\n",
    "    with app.run():\n",
    "        result=generate.remote(\"Life is a mystery, everyone must stand alone, I hear\")\n",
    "result"
   ]
  },
  {
   "cell_type": "code",
   "execution_count": null,
   "id": "9a9a6844-29ec-4264-8e72-362d976b3968",
   "metadata": {},
   "outputs": [],
   "source": [
    "import modal\n",
    "from pricer_ephemeral import app, price"
   ]
  },
  {
   "cell_type": "code",
   "execution_count": null,
   "id": "50e6cf99-8959-4ae3-ba02-e325cb7fff94",
   "metadata": {},
   "outputs": [],
   "source": [
    "with modal.enable_output():\n",
    "    with app.run():\n",
    "        result=price.remote(\"Конденсаторный микрофон Quadcast HyperX, подключаемый через usb-c к вашему компьютеру для получения кристально чистого звука\")\n",
    "result"
   ]
  },
  {
   "cell_type": "markdown",
   "id": "04d8747f-8452-4077-8af6-27e03888508a",
   "metadata": {},
   "source": [
    "## Transitioning From Ephemeral Apps to Deployed Apps\n",
    "\n",
    "From a command line, `modal deploy xxx` will deploy your code as a Deployed App\n",
    "\n",
    "This is how you could package your AI service behind an API to be used in a Production System.\n",
    "\n",
    "You can also build REST endpoints easily, although we won't cover that as we'll be calling direct from Python.\n",
    "\n",
    "## Important note about secrets\n",
    "\n",
    "In both the files `pricer_service.py` and `pricer_service2.py` you will find code like this near the top:  \n",
    "`secrets = [modal.Secret.from_name(\"hf-secret\")]`  \n",
    "You may need to change from `hf-secret` to `huggingface-secret` depending on how the Secret is configured in modal.  \n",
    "To check, visit this page and look in the first column:  \n",
    "https://modal.com/secrets/\n",
    "\n",
    "## Important note for Windows people:\n",
    "\n",
    "On the next line, I call `modal deploy` from within Jupyter lab; I've heard that on some versions of Windows this gives a strange unicode error because modal prints emojis to the output which can't be displayed. If that happens to you, simply use an Anaconda Prompt window or a Powershell instead, with your environment activated, and type `modal deploy pricer_service` there. Follow the same approach the next time we do `!modal deploy` too.\n",
    "\n",
    "As an alternative, a few students have mentioned you can run this code within Jupyter Lab if you want to run it from here:\n",
    "```\n",
    "# Check the default encoding\n",
    "print(locale.getpreferredencoding())  # Should print 'UTF-8'\n",
    "\n",
    "# Ensure UTF-8 encoding\n",
    "os.environ['PYTHONIOENCODING'] = 'utf-8'\n",
    "```\n",
    "\n",
    "## Переход от временных приложений к развернутым приложениям\n",
    "\n",
    "С помощью командной строки \"modal deploy xxx\" ваш код будет развернут как развернутое приложение\n",
    "\n",
    "Вот как вы могли бы упаковать свой сервис искусственного интеллекта в API для использования в производственной системе.\n",
    "\n",
    "Вы также можете легко создавать конечные точки REST, хотя мы не будем описывать это, поскольку будем вызывать их напрямую из Python.\n",
    "\n",
    "## Важное замечание о секретах\n",
    "\n",
    "В обоих файлах `pricer_service.py ` и`pricer_service2.py - вы найдете такой код в самом верху:  \n",
    "`секреты = [модальный.Secret.from_name(\"высокочастотный секрет\")]`  \n",
    "Возможно, вам потребуется сменить \"hf-secret\" на \"huggingface-secret\", в зависимости от того, как настроен секрет в режиме modal.  \n",
    "Чтобы проверить, посетите эту страницу и загляните в первый столбец:  \n",
    "https://modal.com/secrets/\n",
    "\n",
    "## Важное примечание для пользователей Windows:\n",
    "\n",
    "В следующей строке я вызываю \"modal deploy\" из Jupyter lab; я слышал, что в некоторых версиях Windows это приводит к странной ошибке unicode, потому что modal выводит на экран эмодзи, которые невозможно отобразить. Если это произойдет с вами, просто используйте окно командной строки Anaconda или Powershell с активированной средой и введите там \"modal deploy pricer_service\". Следуйте тому же подходу в следующий раз, когда мы будем использовать \"!modal deploy`.\n",
    "\n",
    "В качестве альтернативы несколько студентов упомянули, что вы можете запустить этот код в Jupyter Lab, если хотите запустить его отсюда:\n",
    "```\n",
    "# Проверьте кодировку по умолчанию\n",
    "(locale.getpreferredencoding())  # Должно быть напечатано 'UTF-8'\n",
    "\n",
    "# Обеспечьте кодировку UTF-8\n",
    "os.environ['PYTHONIOENCODING'] = 'utf-8'\n",
    "```"
   ]
  },
  {
   "cell_type": "code",
   "execution_count": null,
   "id": "7f90d857-2f12-4521-bb90-28efd917f7d1",
   "metadata": {},
   "outputs": [],
   "source": [
    "# You can also run \"modal deploy -m pricer_service\" at the command line in an activated environment\n",
    "!modal deploy -m pricer_service"
   ]
  },
  {
   "cell_type": "code",
   "execution_count": null,
   "id": "1dec70ff-1986-4405-8624-9bbbe0ce1f4a",
   "metadata": {},
   "outputs": [],
   "source": [
    "pricer = modal.Function.from_name(\"pricer-service\", \"price\")"
   ]
  },
  {
   "cell_type": "code",
   "execution_count": null,
   "id": "17776139-0d9e-4ad0-bcd0-82d3a92ca61f",
   "metadata": {},
   "outputs": [],
   "source": [
    "# This can take a while! We'll use faster approaches shortly\n",
    "\n",
    "pricer.remote(\"Quadcast HyperX condenser mic, connects via usb-c to your computer for crystal clear audio\")"
   ]
  },
  {
   "cell_type": "code",
   "execution_count": null,
   "id": "f56d1e55-2a03-4ce2-bb47-2ab6b9175a02",
   "metadata": {},
   "outputs": [],
   "source": [
    "# You can also run \"modal deploy -m pricer_service2\" at the command line in an activated environment\n",
    "\n",
    "!modal deploy -m pricer_service2"
   ]
  },
  {
   "cell_type": "code",
   "execution_count": null,
   "id": "9e19daeb-1281-484b-9d2f-95cc6fed2622",
   "metadata": {},
   "outputs": [],
   "source": [
    "Pricer = modal.Cls.from_name(\"pricer-service\", \"Pricer\")\n",
    "pricer = Pricer()\n",
    "reply = pricer.price.remote(\"Quadcast HyperX condenser mic, connects via usb-c to your computer for crystal clear audio\")\n",
    "print(reply)"
   ]
  },
  {
   "cell_type": "markdown",
   "id": "9c1b1451-6249-4462-bf2d-5937c059926c",
   "metadata": {},
   "source": [
    "# Необязательно: Поддержание модальности в актуальном состоянии\n",
    "\n",
    "## Способ повысить скорость обслуживания модальных цен\n",
    "\n",
    "При первом запуске этого модального класса на его создание может уйти до 10 минут.  \n",
    "Впоследствии это должно произойти намного быстрее. 30 секунд, если ему нужно проснуться, в противном случае - 2 секунды.  \n",
    "Если вы хотите, чтобы это всегда было 2 секунды, вы можете предотвратить переход контейнера в спящий режим, изменив эту константу в pricer_service2.py:\n",
    "\n",
    "`MIN_CONTAINERS = 0`\n",
    "\n",
    "Установите значение 1, чтобы сохранить контейнер живым.  \n",
    "Но, пожалуйста, обратите внимание: это приведет к потере кредитов! Делайте это только в том случае, если вас устраивает непрерывный процесс.\n"
   ]
  },
  {
   "cell_type": "markdown",
   "id": "3754cfdd-ae28-47c8-91f2-6e060e2c91b3",
   "metadata": {},
   "source": [
    "## А теперь представляем наш класс агентов"
   ]
  },
  {
   "cell_type": "code",
   "execution_count": null,
   "id": "ba9aedca-6a7b-4d30-9f64-59d76f76fb6d",
   "metadata": {},
   "outputs": [],
   "source": [
    "from agents.specialist_agent import SpecialistAgent"
   ]
  },
  {
   "cell_type": "code",
   "execution_count": null,
   "id": "fe5843e5-e958-4a65-8326-8f5b4686de7f",
   "metadata": {},
   "outputs": [],
   "source": [
    "agent = SpecialistAgent()\n",
    "agent.price(\"iPad Pro 2nd generation\")"
   ]
  },
  {
   "cell_type": "code",
   "execution_count": null,
   "id": "f5a3181b-1310-4102-8d7d-52caf4c00538",
   "metadata": {},
   "outputs": [],
   "source": []
  }
 ],
 "metadata": {
  "kernelspec": {
   "display_name": "Python 3 (ipykernel)",
   "language": "python",
   "name": "python3"
  },
  "language_info": {
   "codemirror_mode": {
    "name": "ipython",
    "version": 3
   },
   "file_extension": ".py",
   "mimetype": "text/x-python",
   "name": "python",
   "nbconvert_exporter": "python",
   "pygments_lexer": "ipython3",
   "version": "3.11.12"
  }
 },
 "nbformat": 4,
 "nbformat_minor": 5
}
