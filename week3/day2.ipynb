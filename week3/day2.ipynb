{
 "cells": [
  {
   "cell_type": "markdown",
   "id": "1f2ed49d-7873-4a03-bdc8-bda1c23cb979",
   "metadata": {},
   "source": [
    "# Конвейеры Hugging Face\n",
    "\n",
    "На этом занятии мы перейдем в Google Colab и воспользуемся этим блокнотом для изучения высокоуровневого API Hugging Face, pipelines.\n",
    "\n",
    "https://colab.research.google.com/drive/1aMaEw8A56xs0bRM4lu8z7ou18jqyybGm?usp=sharing\n",
    "\n",
    "Вы можете использовать недорогую (или бесплатную) графическую среду T4 GPU runtime для этого блокнота - и результаты будут великолепными!\n",
    "\n",
    "В записной книжке есть инструкции по настройке вашего жетона \"Обнимающее лицо\" и включению его в качестве секретного в записную книжку."
   ]
  },
  {
   "cell_type": "code",
   "execution_count": null,
   "id": "d5d84b78-0a02-4a35-8f10-e3f7451d352f",
   "metadata": {},
   "outputs": [],
   "source": []
  }
 ],
 "metadata": {
  "kernelspec": {
   "display_name": "Python 3 (ipykernel)",
   "language": "python",
   "name": "python3"
  },
  "language_info": {
   "codemirror_mode": {
    "name": "ipython",
    "version": 3
   },
   "file_extension": ".py",
   "mimetype": "text/x-python",
   "name": "python",
   "nbconvert_exporter": "python",
   "pygments_lexer": "ipython3",
   "version": "3.11.11"
  }
 },
 "nbformat": 4,
 "nbformat_minor": 5
}
