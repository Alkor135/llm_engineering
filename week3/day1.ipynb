{
 "cells": [
  {
   "cell_type": "markdown",
   "id": "61f56afc-bc15-46a4-8eb1-d940c332cf52",
   "metadata": {},
   "source": [
    "# Представляем Colab\n",
    "\n",
    "Узнайте больше о Google Colab и создайте учетную запись Google (если у вас ее еще нет) [здесь](https://colab.research.google.com/)\n",
    "\n",
    "Вы должны иметь возможность использовать бесплатный уровень или минимальные затраты для выполнения всех проектов в классе. Я лично зарегистрировался в Colab Pro+, и мне это нравится, но это не обязательно.\n",
    "\n",
    "Чтобы узнать, на что способен Colab, перейдите по ссылке ниже!\n",
    "\n",
    "https://colab.research.google.com/drive/1DjcrYDZldAXKJ08x1uYIVCtItoLPk1Wr?usp=sharing"
   ]
  },
  {
   "cell_type": "code",
   "execution_count": null,
   "id": "e9289ba7-200c-43a9-b67a-c5ce826c9537",
   "metadata": {},
   "outputs": [],
   "source": []
  }
 ],
 "metadata": {
  "kernelspec": {
   "display_name": "Python 3 (ipykernel)",
   "language": "python",
   "name": "python3"
  },
  "language_info": {
   "codemirror_mode": {
    "name": "ipython",
    "version": 3
   },
   "file_extension": ".py",
   "mimetype": "text/x-python",
   "name": "python",
   "nbconvert_exporter": "python",
   "pygments_lexer": "ipython3",
   "version": "3.11.11"
  }
 },
 "nbformat": 4,
 "nbformat_minor": 5
}
